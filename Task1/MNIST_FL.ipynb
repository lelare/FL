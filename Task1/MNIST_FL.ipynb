{
  "cells": [
    {
      "cell_type": "code",
      "execution_count": null,
      "metadata": {
        "id": "r-5JXDSX1SCK"
      },
      "outputs": [],
      "source": [
        "!pip install -q flwr[simulation] torch torchvision matplotlib"
      ]
    },
    {
      "cell_type": "code",
      "execution_count": null,
      "metadata": {
        "id": "srLDSqZRDOGr"
      },
      "outputs": [],
      "source": [
        "import torch\n",
        "import torchvision\n",
        "\n",
        "from typing import List\n",
        "import random\n",
        "import torchvision.datasets as datasets\n",
        "import torchvision.transforms as transforms\n",
        "from torch.utils.data import DataLoader, random_split, Subset"
      ]
    },
    {
      "cell_type": "code",
      "execution_count": null,
      "metadata": {
        "colab": {
          "base_uri": "https://localhost:8080/"
        },
        "id": "RG0osXhI1nAt",
        "outputId": "b75cecd9-dbc8-4173-d9b5-596d272f4b63"
      },
      "outputs": [
        {
          "output_type": "stream",
          "name": "stdout",
          "text": [
            "Training on cpu using PyTorch 2.0.1+cu118 and Flower 1.5.0\n"
          ]
        }
      ],
      "source": [
        "from collections import OrderedDict\n",
        "from typing import List, Tuple\n",
        "\n",
        "import matplotlib.pyplot as plt\n",
        "import numpy as np\n",
        "# import torch\n",
        "import torch.nn as nn\n",
        "import torch.nn.functional as F\n",
        "# import torchvision\n",
        "# from torch.utils.data import DataLoader, random_split\n",
        "# import torchvision.datasets as datasets\n",
        "# import torchvision.transforms as transforms\n",
        "\n",
        "import flwr as fl\n",
        "from flwr.common import Metrics\n",
        "\n",
        "DEVICE = torch.device(\"cpu\")  # Try \"cuda\" to train on GPU\n",
        "print(\n",
        "    f\"Training on {DEVICE} using PyTorch {torch.__version__} and Flower {fl.__version__}\"\n",
        ")"
      ]
    },
    {
      "cell_type": "code",
      "execution_count": null,
      "metadata": {
        "id": "WEagNTBD11Gz"
      },
      "outputs": [],
      "source": [
        "NUM_CLIENTS = 10"
      ]
    },
    {
      "cell_type": "code",
      "execution_count": null,
      "metadata": {
        "id": "q4VbW8sYmzgN"
      },
      "outputs": [],
      "source": [
        "BATCH_SIZE = 32\n",
        "\n",
        "def load_datasets(iid):\n",
        "    transform = transforms.Compose(\n",
        "        [transforms.ToTensor(), transforms.Normalize((0.5,), (0.5,))]\n",
        "    )\n",
        "    trainset = datasets.MNIST(root='./data', train=True, download=True, transform=transform)\n",
        "    testset = datasets.MNIST(root='./data', train=False, download=True, transform=transform)\n",
        "\n",
        "    if iid:\n",
        "        # IID: Each client gets an equal portion of all classes\n",
        "        partition_size = len(trainset) // NUM_CLIENTS\n",
        "        lengths = [partition_size] * NUM_CLIENTS\n",
        "        datasets_split = random_split(trainset, lengths)\n",
        "    else:\n",
        "        # Non-IID: Each client gets a random subset of classes\n",
        "        num_classes = 10  # MNIST has 10 classes\n",
        "        class_indices = [list() for _ in range(num_classes)]\n",
        "\n",
        "        # Group indices of each class\n",
        "        for i in range(len(trainset)):\n",
        "            _, label = trainset[i]\n",
        "            class_indices[label].append(i)\n",
        "\n",
        "        datasets_split = []\n",
        "\n",
        "        # Randomly assign classes to clients\n",
        "        for _ in range(NUM_CLIENTS):\n",
        "            selected_classes = random.sample(range(num_classes), k=random.randint(1, num_classes))\n",
        "            selected_indices = []\n",
        "\n",
        "            for class_idx in selected_classes:\n",
        "                selected_indices.extend(class_indices[class_idx])\n",
        "\n",
        "            client_dataset = Subset(trainset, selected_indices)\n",
        "            datasets_split.append(client_dataset)\n",
        "\n",
        "\n",
        "    trainloaders = []\n",
        "    valloaders = []\n",
        "    for ds in datasets_split:\n",
        "        len_val = len(ds) // 10  # 10% validation set\n",
        "        len_train = len(ds) - len_val\n",
        "        lengths = [len_train, len_val]\n",
        "        ds_train, ds_val = random_split(ds, lengths, torch.Generator().manual_seed(42))\n",
        "        trainloaders.append(DataLoader(ds_train, batch_size=BATCH_SIZE, shuffle=True))\n",
        "        valloaders.append(DataLoader(ds_val, batch_size=BATCH_SIZE))\n",
        "    testloader = DataLoader(testset, batch_size=BATCH_SIZE)\n",
        "    return trainloaders, valloaders, testloader\n",
        "\n",
        "# Load IID and non-IID MNIST datasets\n",
        "iid_trainloaders, iid_valloaders, iid_testloader = load_datasets(iid=True)\n",
        "non_iid_trainloaders, non_iid_valloaders, non_iid_testloader = load_datasets(iid=False)\n"
      ]
    },
    {
      "cell_type": "code",
      "execution_count": null,
      "metadata": {
        "colab": {
          "base_uri": "https://localhost:8080/"
        },
        "id": "Ui9-xC1mlixF",
        "outputId": "cdd0c7d3-9385-44cd-85ac-83f65fd98848"
      },
      "outputs": [
        {
          "output_type": "stream",
          "name": "stdout",
          "text": [
            "10\n",
            "10\n"
          ]
        }
      ],
      "source": [
        "print(len(iid_trainloaders))\n",
        "print(len(non_iid_trainloaders))"
      ]
    },
    {
      "cell_type": "code",
      "execution_count": null,
      "metadata": {
        "colab": {
          "base_uri": "https://localhost:8080/",
          "height": 626
        },
        "id": "ssms3UT_nZBv",
        "outputId": "174e593b-e5a7-4dc2-a8c3-ac2bb5815775"
      },
      "outputs": [
        {
          "output_type": "stream",
          "name": "stdout",
          "text": [
            "torch.Size([32, 1, 28, 28])\n"
          ]
        },
        {
          "output_type": "display_data",
          "data": {
            "text/plain": [
              "<Figure size 1200x600 with 32 Axes>"
            ],
            "image/png": "[encoded data removed]"
          },
          "metadata": {}
        }
      ],
      "source": [
        "def display_mnist_images(images, labels, num_rows=4, num_cols=8, title=None):\n",
        "    images = images.permute(0, 2, 3, 1).numpy()\n",
        "    images = images / 2 + 0.5\n",
        "\n",
        "    fig, axs = plt.subplots(num_rows, num_cols, figsize=(12, 6))\n",
        "    fig.suptitle(title)\n",
        "\n",
        "    for i, ax in enumerate(axs.flat):\n",
        "        ax.imshow(images[i].squeeze(), cmap='gray')\n",
        "        ax.set_title(str(int(labels[i])))\n",
        "        ax.axis(\"off\")\n",
        "\n",
        "    fig.tight_layout()\n",
        "    plt.show()\n",
        "\n",
        "iid_images, iid_labels = next(iter(iid_trainloaders[0]))\n",
        "# display_mnist_images(iid_images, iid_labels, title=\"MNIST IID\")\n",
        "\n",
        "print(iid_images.shape)\n",
        "# print(iid_images.min(), iid_images.max())\n",
        "\n",
        "non_iid_images, non_iid_labels = next(iter(non_iid_trainloaders[0]))\n",
        "display_mnist_images(non_iid_images, non_iid_labels, title=\"MNIST NON-IID\")\n",
        "\n",
        "# print(non_iid_images.shape)\n",
        "# print(non_iid_images.min(), non_iid_images.max())"
      ]
    },
    {
      "cell_type": "code",
      "execution_count": null,
      "metadata": {
        "id": "YfpwtWYHfJz_"
      },
      "outputs": [],
      "source": [
        "class Net(nn.Module):\n",
        "    def __init__(self):\n",
        "        super(Net, self).__init__()\n",
        "        self.conv1 = nn.Conv2d(1, 6, 5)\n",
        "        self.pool = nn.MaxPool2d(2, 2)\n",
        "        self.conv2 = nn.Conv2d(6, 16, 5)\n",
        "        self.fc1 = nn.Linear(16 * 4 * 4, 120)\n",
        "        self.fc2 = nn.Linear(120, 84)\n",
        "        self.fc3 = nn.Linear(84, 10)\n",
        "\n",
        "    def forward(self, x):\n",
        "        x = self.pool(F.relu(self.conv1(x)))\n",
        "        x = self.pool(F.relu(self.conv2(x)))\n",
        "        x = x.view(-1, 16 * 4 * 4)\n",
        "        x = F.relu(self.fc1(x))\n",
        "        x = F.relu(self.fc2(x))\n",
        "        x = self.fc3(x)\n",
        "        return x"
      ]
    },
    {
      "cell_type": "code",
      "execution_count": null,
      "metadata": {
        "id": "6vk2dgm1fNzz"
      },
      "outputs": [],
      "source": [
        "def train(net, trainloader, epochs: int, verbose=False):\n",
        "    \"\"\"Train the network on the training set.\"\"\"\n",
        "    criterion = torch.nn.CrossEntropyLoss()\n",
        "    optimizer = torch.optim.Adam(net.parameters())\n",
        "    net.train()\n",
        "    for epoch in range(epochs):\n",
        "        correct, total, epoch_loss = 0, 0, 0.0\n",
        "        for images, labels in trainloader:\n",
        "            images, labels = images.to(DEVICE), labels.to(DEVICE)\n",
        "            optimizer.zero_grad()\n",
        "            outputs = net(images)\n",
        "            loss = criterion(outputs, labels)\n",
        "            loss.backward()\n",
        "            optimizer.step()\n",
        "            # Metrics\n",
        "            epoch_loss += loss\n",
        "            total += labels.size(0)\n",
        "            correct += (torch.max(outputs.data, 1)[1] == labels).sum().item()\n",
        "        epoch_loss /= len(trainloader.dataset)\n",
        "        epoch_acc = correct / total\n",
        "        if verbose:\n",
        "            print(f\"Epoch {epoch+1}: train loss {epoch_loss}, accuracy {epoch_acc}\")\n",
        "\n",
        "\n",
        "def test(net, testloader):\n",
        "    \"\"\"Evaluate the network on the entire test set.\"\"\"\n",
        "    criterion = torch.nn.CrossEntropyLoss()\n",
        "    correct, total, loss = 0, 0, 0.0\n",
        "    net.eval()\n",
        "    with torch.no_grad():\n",
        "        for images, labels in testloader:\n",
        "            images, labels = images.to(DEVICE), labels.to(DEVICE)\n",
        "            outputs = net(images)\n",
        "            loss += criterion(outputs, labels).item()\n",
        "            _, predicted = torch.max(outputs.data, 1)\n",
        "            total += labels.size(0)\n",
        "            correct += (predicted == labels).sum().item()\n",
        "    loss /= len(testloader.dataset)\n",
        "    accuracy = correct / total\n",
        "    return loss, accuracy"
      ]
    },
    {
      "cell_type": "code",
      "execution_count": null,
      "metadata": {
        "colab": {
          "base_uri": "https://localhost:8080/"
        },
        "id": "Kq9KIgikfTf4",
        "outputId": "d08dfa2d-09c8-47a1-86d9-a8d89e4f0ba3"
      },
      "outputs": [
        {
          "output_type": "stream",
          "name": "stdout",
          "text": [
            "IID\n",
            "Epoch 1: validation loss 0.011676219080885251, accuracy 0.885\n",
            "Epoch 2: validation loss 0.00785590622574091, accuracy 0.9233333333333333\n",
            "Epoch 3: validation loss 0.007144927854339281, accuracy 0.925\n",
            "Epoch 4: validation loss 0.004579620279061298, accuracy 0.9566666666666667\n",
            "Epoch 5: validation loss 0.0038711626160268984, accuracy 0.9616666666666667\n",
            "Final test set performance:\n",
            "\tloss 0.0036450711994839365\n",
            "\taccuracy 0.9625\n",
            "NON-IID\n",
            "Epoch 1: validation loss 0.001914330104131472, accuracy 0.9831795984807379\n",
            "Epoch 2: validation loss 0.0008024423366058284, accuracy 0.9896907216494846\n",
            "Epoch 3: validation loss 0.000781712049399303, accuracy 0.9913185024416712\n",
            "Epoch 4: validation loss 0.0013946776666283827, accuracy 0.9837221920781335\n",
            "Epoch 5: validation loss 0.0011728646223918685, accuracy 0.9880629408572978\n",
            "Final test set performance:\n",
            "\tloss 0.8601150875091552\n",
            "\taccuracy 0.3075\n"
          ]
        }
      ],
      "source": [
        "def main_training(trainloader, valloader, testloader):\n",
        "    net = Net().to(DEVICE)\n",
        "\n",
        "    for epoch in range(5):\n",
        "        train(net, trainloader[0], 1)\n",
        "        loss, accuracy = test(net, valloader[0])\n",
        "        print(f\"Epoch {epoch+1}: validation loss {loss}, accuracy {accuracy}\")\n",
        "\n",
        "    loss, accuracy = test(net, testloader)\n",
        "    print(f\"Final test set performance:\\n\\tloss {loss}\\n\\taccuracy {accuracy}\")\n",
        "\n",
        "print('IID')\n",
        "main_training(iid_trainloaders, iid_valloaders, iid_testloader)\n",
        "print('NON-IID')\n",
        "main_training(non_iid_trainloaders, non_iid_valloaders, non_iid_testloader)"
      ]
    },
    {
      "cell_type": "markdown",
      "metadata": {
        "id": "VdiTAE_Fpe1w"
      },
      "source": [
        "**FL**"
      ]
    },
    {
      "cell_type": "code",
      "execution_count": null,
      "metadata": {
        "id": "FSNZ2MJepjdB"
      },
      "outputs": [],
      "source": [
        "def get_parameters(net) -> List[np.ndarray]:\n",
        "    # Returns the parameters of the model as a list of numpy arrays\n",
        "    return [val.cpu().numpy() for _, val in net.state_dict().items()]\n",
        "\n",
        "def set_parameters(net, parameters: List[np.ndarray]):\n",
        "    # Updates the given net with the given parameters\n",
        "    # (retruns nothing as it will just modify the net object)\n",
        "    params_dict = zip(net.state_dict().keys(), parameters)\n",
        "    state_dict = OrderedDict({k: torch.Tensor(v) for k, v in params_dict})\n",
        "    net.load_state_dict(state_dict, strict=True)"
      ]
    },
    {
      "cell_type": "code",
      "execution_count": null,
      "metadata": {
        "id": "pWzL9X-XzrKK"
      },
      "outputs": [],
      "source": [
        "class FlowerClient(fl.client.NumPyClient):\n",
        "    def __init__(self, net, trainloader, valloader):\n",
        "        self.net = net\n",
        "        self.trainloader = trainloader\n",
        "        self.valloader = valloader\n",
        "\n",
        "    def get_parameters(self, config):\n",
        "        # Return the current local parameters\n",
        "        return get_parameters(self.net)\n",
        "\n",
        "    def fit(self, parameters, config):\n",
        "        # Train the local model after updating it with the given parameters\n",
        "        # Return the parameters from the newly trained model, the length\n",
        "        # of the training data, and a dict (empty in this case)\n",
        "        set_parameters(self.net, parameters)\n",
        "        train(self.net, self.trainloader, epochs=1)\n",
        "        return get_parameters(self.net), len(self.trainloader), {}\n",
        "\n",
        "    def evaluate(self, parameters, config):\n",
        "        # Perform the evaluation of the model after updating it with the given\n",
        "        # parameters. Returns the loss as a float, the length of the validation\n",
        "        # data, and a dict containing the accuracy\n",
        "        set_parameters(self.net, parameters)\n",
        "        loss, accuracy = test(self.net, self.valloader)\n",
        "        return float(loss), len(self.valloader), {\"accuracy\": float(accuracy)}"
      ]
    },
    {
      "cell_type": "code",
      "execution_count": null,
      "metadata": {
        "id": "ujCzAfW-0AqF"
      },
      "outputs": [],
      "source": [
        "def client_fn(cid: str, iid) -> FlowerClient:\n",
        "    \"\"\"Create a Flower client for MNIST dataset, representing a single organization.\"\"\"\n",
        "\n",
        "    # Create model\n",
        "    net = Net().to(DEVICE)\n",
        "\n",
        "    # Load data (MNIST)\n",
        "    # Note: each client gets a different trainloader/valloader, so each client\n",
        "    # will train and evaluate on their own unique data\n",
        "    if iid:\n",
        "        # For IID\n",
        "        trainloader = iid_trainloaders[int(cid)]\n",
        "        valloader = iid_valloaders[int(cid)]\n",
        "    else:\n",
        "        # For non-IID\n",
        "        trainloader = non_iid_trainloaders[int(cid)]\n",
        "        valloader = non_iid_valloaders[int(cid)]\n",
        "\n",
        "    # Create a  single Flower client representing a single organization\n",
        "    return FlowerClient(net, trainloader, valloader)"
      ]
    },
    {
      "cell_type": "code",
      "execution_count": null,
      "metadata": {
        "id": "_QYxC12q1q40"
      },
      "outputs": [],
      "source": [
        "# Create FedAvg strategy\n",
        "strategy = fl.server.strategy.FedAvg(\n",
        "    fraction_fit=1.0,  # Sample 100% of available clients for training\n",
        "    fraction_evaluate=0.5,  # Sample 50% of available clients for evaluation\n",
        "    min_fit_clients=10,  # Never sample less than 10 clients for training\n",
        "    min_evaluate_clients=5,  # Never sample less than 5 clients for evaluation\n",
        "    min_available_clients=10,  # Wait until all 10 clients are available\n",
        ")\n",
        "\n",
        "# Specify client resources if you need GPU (defaults to 1 CPU and 0 GPU)\n",
        "client_resources = None\n",
        "if DEVICE.type == \"cuda\":\n",
        "    client_resources = {\"num_gpus\": 1}\n",
        "\n",
        "# Start simulation\n",
        "# fl.simulation.start_simulation(\n",
        "#     client_fn=client_fn,\n",
        "#     num_clients=NUM_CLIENTS,\n",
        "#     config=fl.server.ServerConfig(num_rounds=5),\n",
        "#     strategy=strategy,\n",
        "#     client_resources=client_resources,\n",
        "# )\n",
        "\n",
        "\n",
        "# # Start simulation for MNIST non-IID scenario\n",
        "# fl.simulation.start_simulation(\n",
        "#     client_fn=lambda cid: client_fn(cid, iid=False),\n",
        "#     num_clients=NUM_CLIENTS,\n",
        "#     config=fl.server.ServerConfig(num_rounds=5),\n",
        "#     strategy=strategy,\n",
        "#     client_resources=client_resources,\n",
        "# )"
      ]
    },
    {
      "cell_type": "code",
      "execution_count": null,
      "metadata": {
        "id": "dEy3unLIC3Yv"
      },
      "outputs": [],
      "source": [
        "# fl.simulation.start_simulation(\n",
        "#     client_fn=lambda cid: client_fn(cid, iid=True),\n",
        "#     num_clients=NUM_CLIENTS,\n",
        "#     config=fl.server.ServerConfig(num_rounds=5),\n",
        "#     strategy=strategy,\n",
        "#     client_resources=client_resources,\n",
        "# )"
      ]
    },
    {
      "cell_type": "code",
      "execution_count": null,
      "metadata": {
        "id": "ixoIHlZD6p5T"
      },
      "outputs": [],
      "source": [
        "def weighted_average(metrics: List[Tuple[int, Metrics]]) -> Metrics:\n",
        "    # Multiply accuracy of each client by number of examples used\n",
        "    accuracies = [num_examples * m[\"accuracy\"] for num_examples, m in metrics]\n",
        "    examples = [num_examples for num_examples, _ in metrics]\n",
        "\n",
        "    # Aggregate and return custom metric (weighted average)\n",
        "    return {\"accuracy\": sum(accuracies) / sum(examples)}"
      ]
    },
    {
      "cell_type": "code",
      "execution_count": null,
      "metadata": {
        "colab": {
          "base_uri": "https://localhost:8080/"
        },
        "id": "vQVexT-s6vvC",
        "outputId": "8acacbe8-8395-4f56-fc5e-b4a73f53dcc5"
      },
      "outputs": [
        {
          "output_type": "stream",
          "name": "stderr",
          "text": [
            "INFO flwr 2023-09-23 19:52:30,318 | app.py:175 | Starting Flower simulation, config: ServerConfig(num_rounds=5, round_timeout=None)\n",
            "INFO:flwr:Starting Flower simulation, config: ServerConfig(num_rounds=5, round_timeout=None)\n",
            "2023-09-23 19:52:33,258\tINFO worker.py:1621 -- Started a local Ray instance.\n",
            "INFO flwr 2023-09-23 19:52:36,332 | app.py:210 | Flower VCE: Ray initialized with resources: {'node:172.28.0.12': 1.0, 'node:__internal_head__': 1.0, 'CPU': 2.0, 'memory': 7779183822.0, 'object_store_memory': 3889591910.0}\n",
            "INFO:flwr:Flower VCE: Ray initialized with resources: {'node:172.28.0.12': 1.0, 'node:__internal_head__': 1.0, 'CPU': 2.0, 'memory': 7779183822.0, 'object_store_memory': 3889591910.0}\n",
            "INFO flwr 2023-09-23 19:52:36,339 | app.py:218 | No `client_resources` specified. Using minimal resources for clients.\n",
            "INFO:flwr:No `client_resources` specified. Using minimal resources for clients.\n",
            "INFO flwr 2023-09-23 19:52:36,345 | app.py:224 | Flower VCE: Resources for each Virtual Client: {'num_cpus': 1, 'num_gpus': 0.0}\n",
            "INFO:flwr:Flower VCE: Resources for each Virtual Client: {'num_cpus': 1, 'num_gpus': 0.0}\n",
            "INFO flwr 2023-09-23 19:52:36,402 | app.py:270 | Flower VCE: Creating VirtualClientEngineActorPool with 2 actors\n",
            "INFO:flwr:Flower VCE: Creating VirtualClientEngineActorPool with 2 actors\n",
            "INFO flwr 2023-09-23 19:52:36,412 | server.py:89 | Initializing global parameters\n",
            "INFO:flwr:Initializing global parameters\n",
            "INFO flwr 2023-09-23 19:52:36,424 | server.py:276 | Requesting initial parameters from one random client\n",
            "INFO:flwr:Requesting initial parameters from one random client\n",
            "\u001b[2m\u001b[36m(pid=17441)\u001b[0m 2023-09-23 19:52:40.864928: W tensorflow/compiler/tf2tensorrt/utils/py_utils.cc:38] TF-TRT Warning: Could not find TensorRT\n",
            "INFO flwr 2023-09-23 19:52:44,485 | server.py:280 | Received initial parameters from one random client\n",
            "INFO:flwr:Received initial parameters from one random client\n",
            "INFO flwr 2023-09-23 19:52:44,488 | server.py:91 | Evaluating initial parameters\n",
            "INFO:flwr:Evaluating initial parameters\n",
            "INFO flwr 2023-09-23 19:52:44,491 | server.py:104 | FL starting\n",
            "INFO:flwr:FL starting\n",
            "DEBUG flwr 2023-09-23 19:52:44,494 | server.py:222 | fit_round 1: strategy sampled 10 clients (out of 10)\n",
            "DEBUG:flwr:fit_round 1: strategy sampled 10 clients (out of 10)\n",
            "DEBUG flwr 2023-09-23 19:53:11,208 | server.py:236 | fit_round 1 received 10 results and 0 failures\n",
            "DEBUG:flwr:fit_round 1 received 10 results and 0 failures\n",
            "WARNING flwr 2023-09-23 19:53:11,236 | fedavg.py:242 | No fit_metrics_aggregation_fn provided\n",
            "WARNING:flwr:No fit_metrics_aggregation_fn provided\n",
            "DEBUG flwr 2023-09-23 19:53:11,241 | server.py:173 | evaluate_round 1: strategy sampled 5 clients (out of 10)\n",
            "DEBUG:flwr:evaluate_round 1: strategy sampled 5 clients (out of 10)\n",
            "DEBUG flwr 2023-09-23 19:53:12,684 | server.py:187 | evaluate_round 1 received 5 results and 0 failures\n",
            "DEBUG:flwr:evaluate_round 1 received 5 results and 0 failures\n",
            "DEBUG flwr 2023-09-23 19:53:12,686 | server.py:222 | fit_round 2: strategy sampled 10 clients (out of 10)\n",
            "DEBUG:flwr:fit_round 2: strategy sampled 10 clients (out of 10)\n",
            "DEBUG flwr 2023-09-23 19:53:31,341 | server.py:236 | fit_round 2 received 10 results and 0 failures\n",
            "DEBUG:flwr:fit_round 2 received 10 results and 0 failures\n",
            "DEBUG flwr 2023-09-23 19:53:31,361 | server.py:173 | evaluate_round 2: strategy sampled 5 clients (out of 10)\n",
            "DEBUG:flwr:evaluate_round 2: strategy sampled 5 clients (out of 10)\n",
            "DEBUG flwr 2023-09-23 19:53:33,191 | server.py:187 | evaluate_round 2 received 5 results and 0 failures\n",
            "DEBUG:flwr:evaluate_round 2 received 5 results and 0 failures\n",
            "DEBUG flwr 2023-09-23 19:53:33,195 | server.py:222 | fit_round 3: strategy sampled 10 clients (out of 10)\n",
            "DEBUG:flwr:fit_round 3: strategy sampled 10 clients (out of 10)\n",
            "DEBUG flwr 2023-09-23 19:53:54,093 | server.py:236 | fit_round 3 received 10 results and 0 failures\n",
            "DEBUG:flwr:fit_round 3 received 10 results and 0 failures\n",
            "DEBUG flwr 2023-09-23 19:53:54,114 | server.py:173 | evaluate_round 3: strategy sampled 5 clients (out of 10)\n",
            "DEBUG:flwr:evaluate_round 3: strategy sampled 5 clients (out of 10)\n",
            "DEBUG flwr 2023-09-23 19:53:55,510 | server.py:187 | evaluate_round 3 received 5 results and 0 failures\n",
            "DEBUG:flwr:evaluate_round 3 received 5 results and 0 failures\n",
            "DEBUG flwr 2023-09-23 19:53:55,516 | server.py:222 | fit_round 4: strategy sampled 10 clients (out of 10)\n",
            "DEBUG:flwr:fit_round 4: strategy sampled 10 clients (out of 10)\n",
            "DEBUG flwr 2023-09-23 19:54:13,854 | server.py:236 | fit_round 4 received 10 results and 0 failures\n",
            "DEBUG:flwr:fit_round 4 received 10 results and 0 failures\n",
            "DEBUG flwr 2023-09-23 19:54:13,875 | server.py:173 | evaluate_round 4: strategy sampled 5 clients (out of 10)\n",
            "DEBUG:flwr:evaluate_round 4: strategy sampled 5 clients (out of 10)\n",
            "DEBUG flwr 2023-09-23 19:54:15,592 | server.py:187 | evaluate_round 4 received 5 results and 0 failures\n",
            "DEBUG:flwr:evaluate_round 4 received 5 results and 0 failures\n",
            "DEBUG flwr 2023-09-23 19:54:15,597 | server.py:222 | fit_round 5: strategy sampled 10 clients (out of 10)\n",
            "DEBUG:flwr:fit_round 5: strategy sampled 10 clients (out of 10)\n",
            "DEBUG flwr 2023-09-23 19:54:36,028 | server.py:236 | fit_round 5 received 10 results and 0 failures\n",
            "DEBUG:flwr:fit_round 5 received 10 results and 0 failures\n",
            "DEBUG flwr 2023-09-23 19:54:36,056 | server.py:173 | evaluate_round 5: strategy sampled 5 clients (out of 10)\n",
            "DEBUG:flwr:evaluate_round 5: strategy sampled 5 clients (out of 10)\n",
            "DEBUG flwr 2023-09-23 19:54:37,499 | server.py:187 | evaluate_round 5 received 5 results and 0 failures\n",
            "DEBUG:flwr:evaluate_round 5 received 5 results and 0 failures\n",
            "INFO flwr 2023-09-23 19:54:37,502 | server.py:153 | FL finished in 113.00828628300042\n",
            "INFO:flwr:FL finished in 113.00828628300042\n",
            "INFO flwr 2023-09-23 19:54:37,506 | app.py:225 | app_fit: losses_distributed [(1, 0.01493615671992302), (2, 0.0056300058756023645), (3, 0.0036506853966663286), (4, 0.0032124788134048382), (5, 0.0026131247978967926)]\n",
            "INFO:flwr:app_fit: losses_distributed [(1, 0.01493615671992302), (2, 0.0056300058756023645), (3, 0.0036506853966663286), (4, 0.0032124788134048382), (5, 0.0026131247978967926)]\n",
            "INFO flwr 2023-09-23 19:54:37,508 | app.py:226 | app_fit: metrics_distributed_fit {}\n",
            "INFO:flwr:app_fit: metrics_distributed_fit {}\n",
            "INFO flwr 2023-09-23 19:54:37,510 | app.py:227 | app_fit: metrics_distributed {'accuracy': [(1, 0.8803333333333333), (2, 0.9413333333333335), (3, 0.963), (4, 0.9660000000000001), (5, 0.9716666666666667)]}\n",
            "INFO:flwr:app_fit: metrics_distributed {'accuracy': [(1, 0.8803333333333333), (2, 0.9413333333333335), (3, 0.963), (4, 0.9660000000000001), (5, 0.9716666666666667)]}\n",
            "INFO flwr 2023-09-23 19:54:37,511 | app.py:228 | app_fit: losses_centralized []\n",
            "INFO:flwr:app_fit: losses_centralized []\n",
            "INFO flwr 2023-09-23 19:54:37,513 | app.py:229 | app_fit: metrics_centralized {}\n",
            "INFO:flwr:app_fit: metrics_centralized {}\n"
          ]
        },
        {
          "output_type": "execute_result",
          "data": {
            "text/plain": [
              "History (loss, distributed):\n",
              "\tround 1: 0.01493615671992302\n",
              "\tround 2: 0.0056300058756023645\n",
              "\tround 3: 0.0036506853966663286\n",
              "\tround 4: 0.0032124788134048382\n",
              "\tround 5: 0.0026131247978967926\n",
              "History (metrics, distributed, evaluate):\n",
              "{'accuracy': [(1, 0.8803333333333333), (2, 0.9413333333333335), (3, 0.963), (4, 0.9660000000000001), (5, 0.9716666666666667)]}"
            ]
          },
          "metadata": {},
          "execution_count": 17
        }
      ],
      "source": [
        "# Create FedAvg strategy\n",
        "strategy = fl.server.strategy.FedAvg(\n",
        "    fraction_fit=1.0,\n",
        "    fraction_evaluate=0.5,\n",
        "    min_fit_clients=10,\n",
        "    min_evaluate_clients=5,\n",
        "    min_available_clients=10,\n",
        "    evaluate_metrics_aggregation_fn=weighted_average,  # <-- pass the metric aggregation function\n",
        ")\n",
        "\n",
        "# Start simulation\n",
        "# fl.simulation.start_simulation(\n",
        "#     client_fn=client_fn,\n",
        "#     num_clients=NUM_CLIENTS,\n",
        "#     config=fl.server.ServerConfig(num_rounds=3),\n",
        "#     strategy=strategy,\n",
        "#     client_resources=client_resources,\n",
        "# )\n",
        "\n",
        "fl.simulation.start_simulation(\n",
        "    client_fn=lambda cid: client_fn(cid, iid=True),\n",
        "    num_clients=NUM_CLIENTS,\n",
        "    config=fl.server.ServerConfig(num_rounds=5),\n",
        "    strategy=strategy,\n",
        "    client_resources=client_resources,\n",
        ")"
      ]
    },
    {
      "cell_type": "code",
      "execution_count": null,
      "metadata": {
        "colab": {
          "base_uri": "https://localhost:8080/"
        },
        "id": "6M4rF5AIZWzu",
        "outputId": "c49c644c-5565-410d-83f8-53175d9b8daf"
      },
      "outputs": [
        {
          "output_type": "stream",
          "name": "stderr",
          "text": [
            "INFO flwr 2023-09-23 19:54:37,549 | app.py:175 | Starting Flower simulation, config: ServerConfig(num_rounds=5, round_timeout=None)\n",
            "INFO:flwr:Starting Flower simulation, config: ServerConfig(num_rounds=5, round_timeout=None)\n",
            "2023-09-23 19:54:42,428\tINFO worker.py:1621 -- Started a local Ray instance.\n",
            "INFO flwr 2023-09-23 19:54:44,262 | app.py:210 | Flower VCE: Ray initialized with resources: {'object_store_memory': 3889392844.0, 'memory': 7778785691.0, 'CPU': 2.0, 'node:__internal_head__': 1.0, 'node:172.28.0.12': 1.0}\n",
            "INFO:flwr:Flower VCE: Ray initialized with resources: {'object_store_memory': 3889392844.0, 'memory': 7778785691.0, 'CPU': 2.0, 'node:__internal_head__': 1.0, 'node:172.28.0.12': 1.0}\n",
            "INFO flwr 2023-09-23 19:54:44,269 | app.py:218 | No `client_resources` specified. Using minimal resources for clients.\n",
            "INFO:flwr:No `client_resources` specified. Using minimal resources for clients.\n",
            "INFO flwr 2023-09-23 19:54:44,273 | app.py:224 | Flower VCE: Resources for each Virtual Client: {'num_cpus': 1, 'num_gpus': 0.0}\n",
            "INFO:flwr:Flower VCE: Resources for each Virtual Client: {'num_cpus': 1, 'num_gpus': 0.0}\n",
            "INFO flwr 2023-09-23 19:54:44,311 | app.py:270 | Flower VCE: Creating VirtualClientEngineActorPool with 2 actors\n",
            "INFO:flwr:Flower VCE: Creating VirtualClientEngineActorPool with 2 actors\n",
            "INFO flwr 2023-09-23 19:54:44,315 | server.py:89 | Initializing global parameters\n",
            "INFO:flwr:Initializing global parameters\n",
            "INFO flwr 2023-09-23 19:54:44,318 | server.py:276 | Requesting initial parameters from one random client\n",
            "INFO:flwr:Requesting initial parameters from one random client\n",
            "\u001b[2m\u001b[36m(pid=18235)\u001b[0m 2023-09-23 19:54:48.962627: W tensorflow/compiler/tf2tensorrt/utils/py_utils.cc:38] TF-TRT Warning: Could not find TensorRT\n",
            "INFO flwr 2023-09-23 19:54:53,103 | server.py:280 | Received initial parameters from one random client\n",
            "INFO:flwr:Received initial parameters from one random client\n",
            "INFO flwr 2023-09-23 19:54:53,109 | server.py:91 | Evaluating initial parameters\n",
            "INFO:flwr:Evaluating initial parameters\n",
            "INFO flwr 2023-09-23 19:54:53,112 | server.py:104 | FL starting\n",
            "INFO:flwr:FL starting\n",
            "DEBUG flwr 2023-09-23 19:54:53,114 | server.py:222 | fit_round 1: strategy sampled 10 clients (out of 10)\n",
            "DEBUG:flwr:fit_round 1: strategy sampled 10 clients (out of 10)\n",
            "DEBUG flwr 2023-09-23 19:56:45,185 | server.py:236 | fit_round 1 received 10 results and 0 failures\n",
            "DEBUG:flwr:fit_round 1 received 10 results and 0 failures\n",
            "WARNING flwr 2023-09-23 19:56:45,210 | fedavg.py:242 | No fit_metrics_aggregation_fn provided\n",
            "WARNING:flwr:No fit_metrics_aggregation_fn provided\n",
            "DEBUG flwr 2023-09-23 19:56:45,213 | server.py:173 | evaluate_round 1: strategy sampled 5 clients (out of 10)\n",
            "DEBUG:flwr:evaluate_round 1: strategy sampled 5 clients (out of 10)\n",
            "DEBUG flwr 2023-09-23 19:56:49,901 | server.py:187 | evaluate_round 1 received 5 results and 0 failures\n",
            "DEBUG:flwr:evaluate_round 1 received 5 results and 0 failures\n",
            "DEBUG flwr 2023-09-23 19:56:49,905 | server.py:222 | fit_round 2: strategy sampled 10 clients (out of 10)\n",
            "DEBUG:flwr:fit_round 2: strategy sampled 10 clients (out of 10)\n",
            "DEBUG flwr 2023-09-23 19:58:44,441 | server.py:236 | fit_round 2 received 10 results and 0 failures\n",
            "DEBUG:flwr:fit_round 2 received 10 results and 0 failures\n",
            "DEBUG flwr 2023-09-23 19:58:44,463 | server.py:173 | evaluate_round 2: strategy sampled 5 clients (out of 10)\n",
            "DEBUG:flwr:evaluate_round 2: strategy sampled 5 clients (out of 10)\n",
            "DEBUG flwr 2023-09-23 19:58:48,870 | server.py:187 | evaluate_round 2 received 5 results and 0 failures\n",
            "DEBUG:flwr:evaluate_round 2 received 5 results and 0 failures\n",
            "DEBUG flwr 2023-09-23 19:58:48,873 | server.py:222 | fit_round 3: strategy sampled 10 clients (out of 10)\n",
            "DEBUG:flwr:fit_round 3: strategy sampled 10 clients (out of 10)\n",
            "DEBUG flwr 2023-09-23 20:00:40,768 | server.py:236 | fit_round 3 received 10 results and 0 failures\n",
            "DEBUG:flwr:fit_round 3 received 10 results and 0 failures\n",
            "DEBUG flwr 2023-09-23 20:00:40,791 | server.py:173 | evaluate_round 3: strategy sampled 5 clients (out of 10)\n",
            "DEBUG:flwr:evaluate_round 3: strategy sampled 5 clients (out of 10)\n",
            "DEBUG flwr 2023-09-23 20:00:45,899 | server.py:187 | evaluate_round 3 received 5 results and 0 failures\n",
            "DEBUG:flwr:evaluate_round 3 received 5 results and 0 failures\n",
            "DEBUG flwr 2023-09-23 20:00:45,902 | server.py:222 | fit_round 4: strategy sampled 10 clients (out of 10)\n",
            "DEBUG:flwr:fit_round 4: strategy sampled 10 clients (out of 10)\n",
            "DEBUG flwr 2023-09-23 20:02:39,249 | server.py:236 | fit_round 4 received 10 results and 0 failures\n",
            "DEBUG:flwr:fit_round 4 received 10 results and 0 failures\n",
            "DEBUG flwr 2023-09-23 20:02:39,281 | server.py:173 | evaluate_round 4: strategy sampled 5 clients (out of 10)\n",
            "DEBUG:flwr:evaluate_round 4: strategy sampled 5 clients (out of 10)\n",
            "DEBUG flwr 2023-09-23 20:02:44,831 | server.py:187 | evaluate_round 4 received 5 results and 0 failures\n",
            "DEBUG:flwr:evaluate_round 4 received 5 results and 0 failures\n",
            "DEBUG flwr 2023-09-23 20:02:44,834 | server.py:222 | fit_round 5: strategy sampled 10 clients (out of 10)\n",
            "DEBUG:flwr:fit_round 5: strategy sampled 10 clients (out of 10)\n",
            "DEBUG flwr 2023-09-23 20:04:35,523 | server.py:236 | fit_round 5 received 10 results and 0 failures\n",
            "DEBUG:flwr:fit_round 5 received 10 results and 0 failures\n",
            "DEBUG flwr 2023-09-23 20:04:35,551 | server.py:173 | evaluate_round 5: strategy sampled 5 clients (out of 10)\n",
            "DEBUG:flwr:evaluate_round 5: strategy sampled 5 clients (out of 10)\n",
            "DEBUG flwr 2023-09-23 20:04:43,480 | server.py:187 | evaluate_round 5 received 5 results and 0 failures\n",
            "DEBUG:flwr:evaluate_round 5 received 5 results and 0 failures\n",
            "INFO flwr 2023-09-23 20:04:43,484 | server.py:153 | FL finished in 590.3695787370002\n",
            "INFO:flwr:FL finished in 590.3695787370002\n",
            "INFO flwr 2023-09-23 20:04:43,486 | app.py:225 | app_fit: losses_distributed [(1, 0.01609529341506889), (2, 0.002199959180788933), (3, 0.0013819218788557264), (4, 0.0007390365079196756), (5, 0.0007485118808426116)]\n",
            "INFO:flwr:app_fit: losses_distributed [(1, 0.01609529341506889), (2, 0.002199959180788933), (3, 0.0013819218788557264), (4, 0.0007390365079196756), (5, 0.0007485118808426116)]\n",
            "INFO flwr 2023-09-23 20:04:43,488 | app.py:226 | app_fit: metrics_distributed_fit {}\n",
            "INFO:flwr:app_fit: metrics_distributed_fit {}\n",
            "INFO flwr 2023-09-23 20:04:43,490 | app.py:227 | app_fit: metrics_distributed {'accuracy': [(1, 0.8553922753768193), (2, 0.9794863920260639), (3, 0.9871675213079797), (4, 0.9933186759071408), (5, 0.9930772459879907)]}\n",
            "INFO:flwr:app_fit: metrics_distributed {'accuracy': [(1, 0.8553922753768193), (2, 0.9794863920260639), (3, 0.9871675213079797), (4, 0.9933186759071408), (5, 0.9930772459879907)]}\n",
            "INFO flwr 2023-09-23 20:04:43,491 | app.py:228 | app_fit: losses_centralized []\n",
            "INFO:flwr:app_fit: losses_centralized []\n",
            "INFO flwr 2023-09-23 20:04:43,493 | app.py:229 | app_fit: metrics_centralized {}\n",
            "INFO:flwr:app_fit: metrics_centralized {}\n"
          ]
        },
        {
          "output_type": "execute_result",
          "data": {
            "text/plain": [
              "History (loss, distributed):\n",
              "\tround 1: 0.01609529341506889\n",
              "\tround 2: 0.002199959180788933\n",
              "\tround 3: 0.0013819218788557264\n",
              "\tround 4: 0.0007390365079196756\n",
              "\tround 5: 0.0007485118808426116\n",
              "History (metrics, distributed, evaluate):\n",
              "{'accuracy': [(1, 0.8553922753768193), (2, 0.9794863920260639), (3, 0.9871675213079797), (4, 0.9933186759071408), (5, 0.9930772459879907)]}"
            ]
          },
          "metadata": {},
          "execution_count": 18
        }
      ],
      "source": [
        "fl.simulation.start_simulation(\n",
        "    client_fn=lambda cid: client_fn(cid, iid=False),\n",
        "    num_clients=NUM_CLIENTS,\n",
        "    config=fl.server.ServerConfig(num_rounds=5),\n",
        "    strategy=strategy,\n",
        "    client_resources=client_resources,\n",
        ")"
      ]
    }
  ],
  "metadata": {
    "colab": {
      "provenance": []
    },
    "kernelspec": {
      "display_name": "Python 3",
      "name": "python3"
    },
    "language_info": {
      "name": "python"
    }
  },
  "nbformat": 4,
  "nbformat_minor": 0
}