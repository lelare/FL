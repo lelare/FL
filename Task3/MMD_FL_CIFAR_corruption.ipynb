{
  "cells": [
    {
      "cell_type": "code",
      "execution_count": 1,
      "metadata": {
        "colab": {
          "base_uri": "https://localhost:8080/"
        },
        "id": "sBZ7rI13W-BC",
        "outputId": "720cadb7-e713-4f09-e07f-8c062274f30a"
      },
      "outputs": [
        {
          "output_type": "stream",
          "name": "stdout",
          "text": [
            "\u001b[2K     \u001b[90m━━━━━━━━━━━━━━━━━━━━━━━━━━━━━━━━━━━━━━━━\u001b[0m \u001b[32m219.2/219.2 kB\u001b[0m \u001b[31m3.3 MB/s\u001b[0m eta \u001b[36m0:00:00\u001b[0m\n",
            "\u001b[2K     \u001b[90m━━━━━━━━━━━━━━━━━━━━━━━━━━━━━━━━━━━━━━━━\u001b[0m \u001b[32m2.1/2.1 MB\u001b[0m \u001b[31m11.1 MB/s\u001b[0m eta \u001b[36m0:00:00\u001b[0m\n",
            "\u001b[2K     \u001b[90m━━━━━━━━━━━━━━━━━━━━━━━━━━━━━━━━━━━━━━━━\u001b[0m \u001b[32m56.9/56.9 MB\u001b[0m \u001b[31m12.1 MB/s\u001b[0m eta \u001b[36m0:00:00\u001b[0m\n",
            "\u001b[?25h"
          ]
        }
      ],
      "source": [
        "!pip install -q flwr[simulation] torch torchvision matplotlib"
      ]
    },
    {
      "cell_type": "code",
      "execution_count": 2,
      "metadata": {
        "colab": {
          "base_uri": "https://localhost:8080/"
        },
        "id": "k1MifzRDW-BE",
        "outputId": "f0a5c0c7-483a-4733-9611-9cca35fbd9d0"
      },
      "outputs": [
        {
          "output_type": "stream",
          "name": "stdout",
          "text": [
            "Collecting alibi-detect[torch]\n",
            "  Downloading alibi_detect-0.11.4-py3-none-any.whl (372 kB)\n",
            "\u001b[2K     \u001b[90m━━━━━━━━━━━━━━━━━━━━━━━━━━━━━━━━━━━━━━━━\u001b[0m \u001b[32m372.4/372.4 kB\u001b[0m \u001b[31m5.2 MB/s\u001b[0m eta \u001b[36m0:00:00\u001b[0m\n",
            "\u001b[?25hRequirement already satisfied: matplotlib<4.0.0,>=3.0.0 in /usr/local/lib/python3.10/dist-packages (from alibi-detect[torch]) (3.7.1)\n",
            "Requirement already satisfied: numpy<2.0.0,>=1.16.2 in /usr/local/lib/python3.10/dist-packages (from alibi-detect[torch]) (1.23.5)\n",
            "Requirement already satisfied: pandas<3.0.0,>=1.0.0 in /usr/local/lib/python3.10/dist-packages (from alibi-detect[torch]) (1.5.3)\n",
            "Requirement already satisfied: Pillow<10.0.0,>=5.4.1 in /usr/local/lib/python3.10/dist-packages (from alibi-detect[torch]) (9.4.0)\n",
            "Requirement already satisfied: opencv-python<5.0.0,>=3.2.0 in /usr/local/lib/python3.10/dist-packages (from alibi-detect[torch]) (4.8.0.76)\n",
            "Requirement already satisfied: scipy<2.0.0,>=1.3.0 in /usr/local/lib/python3.10/dist-packages (from alibi-detect[torch]) (1.11.4)\n",
            "Requirement already satisfied: scikit-image!=0.17.1,<0.22,>=0.14.2 in /usr/local/lib/python3.10/dist-packages (from alibi-detect[torch]) (0.19.3)\n",
            "Requirement already satisfied: scikit-learn<2.0.0,>=0.20.2 in /usr/local/lib/python3.10/dist-packages (from alibi-detect[torch]) (1.2.2)\n",
            "Requirement already satisfied: transformers<5.0.0,>=4.0.0 in /usr/local/lib/python3.10/dist-packages (from alibi-detect[torch]) (4.35.2)\n",
            "Collecting dill<0.4.0,>=0.3.0 (from alibi-detect[torch])\n",
            "  Downloading dill-0.3.7-py3-none-any.whl (115 kB)\n",
            "\u001b[2K     \u001b[90m━━━━━━━━━━━━━━━━━━━━━━━━━━━━━━━━━━━━━━━━\u001b[0m \u001b[32m115.3/115.3 kB\u001b[0m \u001b[31m7.7 MB/s\u001b[0m eta \u001b[36m0:00:00\u001b[0m\n",
            "\u001b[?25hRequirement already satisfied: tqdm<5.0.0,>=4.28.1 in /usr/local/lib/python3.10/dist-packages (from alibi-detect[torch]) (4.66.1)\n",
            "Requirement already satisfied: requests<3.0.0,>=2.21.0 in /usr/local/lib/python3.10/dist-packages (from alibi-detect[torch]) (2.31.0)\n",
            "Requirement already satisfied: pydantic<2.0.0,>=1.8.0 in /usr/local/lib/python3.10/dist-packages (from alibi-detect[torch]) (1.10.13)\n",
            "Requirement already satisfied: toml<1.0.0,>=0.10.1 in /usr/local/lib/python3.10/dist-packages (from alibi-detect[torch]) (0.10.2)\n",
            "Requirement already satisfied: catalogue<3.0.0,>=2.0.0 in /usr/local/lib/python3.10/dist-packages (from alibi-detect[torch]) (2.0.10)\n",
            "Collecting numba!=0.54.0,<0.58.0,>=0.50.0 (from alibi-detect[torch])\n",
            "  Downloading numba-0.57.1-cp310-cp310-manylinux2014_x86_64.manylinux_2_17_x86_64.whl (3.6 MB)\n",
            "\u001b[2K     \u001b[90m━━━━━━━━━━━━━━━━━━━━━━━━━━━━━━━━━━━━━━━━\u001b[0m \u001b[32m3.6/3.6 MB\u001b[0m \u001b[31m20.0 MB/s\u001b[0m eta \u001b[36m0:00:00\u001b[0m\n",
            "\u001b[?25hRequirement already satisfied: typing-extensions>=3.7.4.3 in /usr/local/lib/python3.10/dist-packages (from alibi-detect[torch]) (4.5.0)\n",
            "Collecting torch<1.14.0,>=1.7.0 (from alibi-detect[torch])\n",
            "  Downloading torch-1.13.1-cp310-cp310-manylinux1_x86_64.whl (887.5 MB)\n",
            "\u001b[2K     \u001b[90m━━━━━━━━━━━━━━━━━━━━━━━━━━━━━━━━━━━━━━━━\u001b[0m \u001b[32m887.5/887.5 MB\u001b[0m \u001b[31m1.8 MB/s\u001b[0m eta \u001b[36m0:00:00\u001b[0m\n",
            "\u001b[?25hRequirement already satisfied: contourpy>=1.0.1 in /usr/local/lib/python3.10/dist-packages (from matplotlib<4.0.0,>=3.0.0->alibi-detect[torch]) (1.2.0)\n",
            "Requirement already satisfied: cycler>=0.10 in /usr/local/lib/python3.10/dist-packages (from matplotlib<4.0.0,>=3.0.0->alibi-detect[torch]) (0.12.1)\n",
            "Requirement already satisfied: fonttools>=4.22.0 in /usr/local/lib/python3.10/dist-packages (from matplotlib<4.0.0,>=3.0.0->alibi-detect[torch]) (4.47.2)\n",
            "Requirement already satisfied: kiwisolver>=1.0.1 in /usr/local/lib/python3.10/dist-packages (from matplotlib<4.0.0,>=3.0.0->alibi-detect[torch]) (1.4.5)\n",
            "Requirement already satisfied: packaging>=20.0 in /usr/local/lib/python3.10/dist-packages (from matplotlib<4.0.0,>=3.0.0->alibi-detect[torch]) (23.2)\n",
            "Requirement already satisfied: pyparsing>=2.3.1 in /usr/local/lib/python3.10/dist-packages (from matplotlib<4.0.0,>=3.0.0->alibi-detect[torch]) (3.1.1)\n",
            "Requirement already satisfied: python-dateutil>=2.7 in /usr/local/lib/python3.10/dist-packages (from matplotlib<4.0.0,>=3.0.0->alibi-detect[torch]) (2.8.2)\n",
            "Collecting llvmlite<0.41,>=0.40.0dev0 (from numba!=0.54.0,<0.58.0,>=0.50.0->alibi-detect[torch])\n",
            "  Downloading llvmlite-0.40.1-cp310-cp310-manylinux_2_17_x86_64.manylinux2014_x86_64.whl (42.1 MB)\n",
            "\u001b[2K     \u001b[90m━━━━━━━━━━━━━━━━━━━━━━━━━━━━━━━━━━━━━━━━\u001b[0m \u001b[32m42.1/42.1 MB\u001b[0m \u001b[31m14.8 MB/s\u001b[0m eta \u001b[36m0:00:00\u001b[0m\n",
            "\u001b[?25hRequirement already satisfied: pytz>=2020.1 in /usr/local/lib/python3.10/dist-packages (from pandas<3.0.0,>=1.0.0->alibi-detect[torch]) (2023.3.post1)\n",
            "Requirement already satisfied: charset-normalizer<4,>=2 in /usr/local/lib/python3.10/dist-packages (from requests<3.0.0,>=2.21.0->alibi-detect[torch]) (3.3.2)\n",
            "Requirement already satisfied: idna<4,>=2.5 in /usr/local/lib/python3.10/dist-packages (from requests<3.0.0,>=2.21.0->alibi-detect[torch]) (3.6)\n",
            "Requirement already satisfied: urllib3<3,>=1.21.1 in /usr/local/lib/python3.10/dist-packages (from requests<3.0.0,>=2.21.0->alibi-detect[torch]) (2.0.7)\n",
            "Requirement already satisfied: certifi>=2017.4.17 in /usr/local/lib/python3.10/dist-packages (from requests<3.0.0,>=2.21.0->alibi-detect[torch]) (2023.11.17)\n",
            "Requirement already satisfied: networkx>=2.2 in /usr/local/lib/python3.10/dist-packages (from scikit-image!=0.17.1,<0.22,>=0.14.2->alibi-detect[torch]) (3.2.1)\n",
            "Requirement already satisfied: imageio>=2.4.1 in /usr/local/lib/python3.10/dist-packages (from scikit-image!=0.17.1,<0.22,>=0.14.2->alibi-detect[torch]) (2.31.6)\n",
            "Requirement already satisfied: tifffile>=2019.7.26 in /usr/local/lib/python3.10/dist-packages (from scikit-image!=0.17.1,<0.22,>=0.14.2->alibi-detect[torch]) (2023.12.9)\n",
            "Requirement already satisfied: PyWavelets>=1.1.1 in /usr/local/lib/python3.10/dist-packages (from scikit-image!=0.17.1,<0.22,>=0.14.2->alibi-detect[torch]) (1.5.0)\n",
            "Requirement already satisfied: joblib>=1.1.1 in /usr/local/lib/python3.10/dist-packages (from scikit-learn<2.0.0,>=0.20.2->alibi-detect[torch]) (1.3.2)\n",
            "Requirement already satisfied: threadpoolctl>=2.0.0 in /usr/local/lib/python3.10/dist-packages (from scikit-learn<2.0.0,>=0.20.2->alibi-detect[torch]) (3.2.0)\n",
            "Collecting nvidia-cuda-runtime-cu11==11.7.99 (from torch<1.14.0,>=1.7.0->alibi-detect[torch])\n",
            "  Downloading nvidia_cuda_runtime_cu11-11.7.99-py3-none-manylinux1_x86_64.whl (849 kB)\n",
            "\u001b[2K     \u001b[90m━━━━━━━━━━━━━━━━━━━━━━━━━━━━━━━━━━━━━━━━\u001b[0m \u001b[32m849.3/849.3 kB\u001b[0m \u001b[31m67.3 MB/s\u001b[0m eta \u001b[36m0:00:00\u001b[0m\n",
            "\u001b[?25hCollecting nvidia-cudnn-cu11==8.5.0.96 (from torch<1.14.0,>=1.7.0->alibi-detect[torch])\n",
            "  Downloading nvidia_cudnn_cu11-8.5.0.96-2-py3-none-manylinux1_x86_64.whl (557.1 MB)\n",
            "\u001b[2K     \u001b[90m━━━━━━━━━━━━━━━━━━━━━━━━━━━━━━━━━━━━━━━━\u001b[0m \u001b[32m557.1/557.1 MB\u001b[0m \u001b[31m2.9 MB/s\u001b[0m eta \u001b[36m0:00:00\u001b[0m\n",
            "\u001b[?25hCollecting nvidia-cublas-cu11==11.10.3.66 (from torch<1.14.0,>=1.7.0->alibi-detect[torch])\n",
            "  Downloading nvidia_cublas_cu11-11.10.3.66-py3-none-manylinux1_x86_64.whl (317.1 MB)\n",
            "\u001b[2K     \u001b[90m━━━━━━━━━━━━━━━━━━━━━━━━━━━━━━━━━━━━━━━━\u001b[0m \u001b[32m317.1/317.1 MB\u001b[0m \u001b[31m2.6 MB/s\u001b[0m eta \u001b[36m0:00:00\u001b[0m\n",
            "\u001b[?25hCollecting nvidia-cuda-nvrtc-cu11==11.7.99 (from torch<1.14.0,>=1.7.0->alibi-detect[torch])\n",
            "  Downloading nvidia_cuda_nvrtc_cu11-11.7.99-2-py3-none-manylinux1_x86_64.whl (21.0 MB)\n",
            "\u001b[2K     \u001b[90m━━━━━━━━━━━━━━━━━━━━━━━━━━━━━━━━━━━━━━━━\u001b[0m \u001b[32m21.0/21.0 MB\u001b[0m \u001b[31m68.1 MB/s\u001b[0m eta \u001b[36m0:00:00\u001b[0m\n",
            "\u001b[?25hRequirement already satisfied: setuptools in /usr/local/lib/python3.10/dist-packages (from nvidia-cublas-cu11==11.10.3.66->torch<1.14.0,>=1.7.0->alibi-detect[torch]) (67.7.2)\n",
            "Requirement already satisfied: wheel in /usr/local/lib/python3.10/dist-packages (from nvidia-cublas-cu11==11.10.3.66->torch<1.14.0,>=1.7.0->alibi-detect[torch]) (0.42.0)\n",
            "Requirement already satisfied: filelock in /usr/local/lib/python3.10/dist-packages (from transformers<5.0.0,>=4.0.0->alibi-detect[torch]) (3.13.1)\n",
            "Requirement already satisfied: huggingface-hub<1.0,>=0.16.4 in /usr/local/lib/python3.10/dist-packages (from transformers<5.0.0,>=4.0.0->alibi-detect[torch]) (0.20.2)\n",
            "Requirement already satisfied: pyyaml>=5.1 in /usr/local/lib/python3.10/dist-packages (from transformers<5.0.0,>=4.0.0->alibi-detect[torch]) (6.0.1)\n",
            "Requirement already satisfied: regex!=2019.12.17 in /usr/local/lib/python3.10/dist-packages (from transformers<5.0.0,>=4.0.0->alibi-detect[torch]) (2023.6.3)\n",
            "Requirement already satisfied: tokenizers<0.19,>=0.14 in /usr/local/lib/python3.10/dist-packages (from transformers<5.0.0,>=4.0.0->alibi-detect[torch]) (0.15.0)\n",
            "Requirement already satisfied: safetensors>=0.3.1 in /usr/local/lib/python3.10/dist-packages (from transformers<5.0.0,>=4.0.0->alibi-detect[torch]) (0.4.1)\n",
            "Requirement already satisfied: fsspec>=2023.5.0 in /usr/local/lib/python3.10/dist-packages (from huggingface-hub<1.0,>=0.16.4->transformers<5.0.0,>=4.0.0->alibi-detect[torch]) (2023.6.0)\n",
            "Requirement already satisfied: six>=1.5 in /usr/local/lib/python3.10/dist-packages (from python-dateutil>=2.7->matplotlib<4.0.0,>=3.0.0->alibi-detect[torch]) (1.16.0)\n",
            "Installing collected packages: nvidia-cuda-runtime-cu11, nvidia-cuda-nvrtc-cu11, nvidia-cublas-cu11, llvmlite, dill, nvidia-cudnn-cu11, numba, torch, alibi-detect\n",
            "  Attempting uninstall: llvmlite\n",
            "    Found existing installation: llvmlite 0.41.1\n",
            "    Uninstalling llvmlite-0.41.1:\n",
            "      Successfully uninstalled llvmlite-0.41.1\n",
            "  Attempting uninstall: numba\n",
            "    Found existing installation: numba 0.58.1\n",
            "    Uninstalling numba-0.58.1:\n",
            "      Successfully uninstalled numba-0.58.1\n",
            "  Attempting uninstall: torch\n",
            "    Found existing installation: torch 2.1.0+cu121\n",
            "    Uninstalling torch-2.1.0+cu121:\n",
            "      Successfully uninstalled torch-2.1.0+cu121\n",
            "\u001b[31mERROR: pip's dependency resolver does not currently take into account all the packages that are installed. This behaviour is the source of the following dependency conflicts.\n",
            "torchaudio 2.1.0+cu121 requires torch==2.1.0, but you have torch 1.13.1 which is incompatible.\n",
            "torchdata 0.7.0 requires torch==2.1.0, but you have torch 1.13.1 which is incompatible.\n",
            "torchtext 0.16.0 requires torch==2.1.0, but you have torch 1.13.1 which is incompatible.\n",
            "torchvision 0.16.0+cu121 requires torch==2.1.0, but you have torch 1.13.1 which is incompatible.\u001b[0m\u001b[31m\n",
            "\u001b[0mSuccessfully installed alibi-detect-0.11.4 dill-0.3.7 llvmlite-0.40.1 numba-0.57.1 nvidia-cublas-cu11-11.10.3.66 nvidia-cuda-nvrtc-cu11-11.7.99 nvidia-cuda-runtime-cu11-11.7.99 nvidia-cudnn-cu11-8.5.0.96 torch-1.13.1\n"
          ]
        }
      ],
      "source": [
        "!pip install alibi-detect[torch]"
      ]
    },
    {
      "cell_type": "code",
      "execution_count": 3,
      "metadata": {
        "id": "sYB3meL3W-BF"
      },
      "outputs": [],
      "source": [
        "import flwr as fl\n",
        "\n",
        "import torch\n",
        "import torch.nn as nn\n",
        "import tensorflow as tf\n",
        "import numpy as np\n",
        "\n",
        "from functools import partial\n",
        "from alibi_detect.cd import MMDDrift\n",
        "from alibi_detect.cd.pytorch import preprocess_drift\n",
        "\n",
        "import random\n",
        "# import torchvision.datasets as datasets\n",
        "# import torchvision.transforms as transforms\n",
        "from torch.utils.data import DataLoader, random_split, Subset"
      ]
    },
    {
      "cell_type": "code",
      "source": [
        "from alibi_detect.datasets import fetch_cifar10c, corruption_types_cifar10c\n",
        "import matplotlib.pyplot as plt"
      ],
      "metadata": {
        "id": "gVuqMi7g6j6z"
      },
      "execution_count": 4,
      "outputs": []
    },
    {
      "cell_type": "code",
      "source": [
        "from torch.utils.data import TensorDataset, DataLoader"
      ],
      "metadata": {
        "id": "HLAv_MafVMKe"
      },
      "execution_count": 5,
      "outputs": []
    },
    {
      "cell_type": "code",
      "execution_count": 6,
      "metadata": {
        "id": "_cFzV8r5W-BF"
      },
      "outputs": [],
      "source": [
        "# set random seed and device\n",
        "seed = 0\n",
        "torch.manual_seed(seed)\n",
        "torch.cuda.manual_seed(seed)\n",
        "\n",
        "device = torch.device('cuda' if torch.cuda.is_available() else 'cpu')"
      ]
    },
    {
      "cell_type": "code",
      "execution_count": 7,
      "metadata": {
        "colab": {
          "base_uri": "https://localhost:8080/"
        },
        "id": "y52PLlBXW-BG",
        "outputId": "113f1a01-358a-404f-ab64-fde8c1231a0a"
      },
      "outputs": [
        {
          "output_type": "stream",
          "name": "stdout",
          "text": [
            "cuda\n"
          ]
        }
      ],
      "source": [
        "print(device)"
      ]
    },
    {
      "cell_type": "code",
      "execution_count": 8,
      "metadata": {
        "id": "5kXLb2KjW-BG"
      },
      "outputs": [],
      "source": [
        "n_clients = 2"
      ]
    },
    {
      "cell_type": "code",
      "execution_count": 9,
      "metadata": {
        "id": "zgAAWlH2W-BI",
        "colab": {
          "base_uri": "https://localhost:8080/"
        },
        "outputId": "8b81aa89-8226-4eb8-aa62-aa8a48ffac58"
      },
      "outputs": [
        {
          "output_type": "stream",
          "name": "stdout",
          "text": [
            "Downloading data from https://www.cs.toronto.edu/~kriz/cifar-10-python.tar.gz\n",
            "170498071/170498071 [==============================] - 3s 0us/step\n"
          ]
        }
      ],
      "source": [
        "(x_train, y_train), (x_test, y_test) = tf.keras.datasets.cifar10.load_data()\n",
        "x_train = x_train.astype(\"float32\") / 255\n",
        "x_test = x_test.astype(\"float32\") / 255\n",
        "y_train = y_train.astype(\"int64\").reshape(\n",
        "    -1,\n",
        ")\n",
        "y_test = y_test.astype(\"int64\").reshape(\n",
        "    -1,\n",
        ")\n",
        "\n",
        "x_train = x_train[0 : int(len(x_train) * 0.2)]\n",
        "y_train = y_train[0 : int(len(y_train) * 0.2)] # just to get some small part of data"
      ]
    },
    {
      "cell_type": "code",
      "source": [
        "len(x_test)"
      ],
      "metadata": {
        "colab": {
          "base_uri": "https://localhost:8080/"
        },
        "id": "moKyibXe6J8A",
        "outputId": "383596c6-4b3a-4a5d-ac80-36749b25ef1f"
      },
      "execution_count": 10,
      "outputs": [
        {
          "output_type": "execute_result",
          "data": {
            "text/plain": [
              "10000"
            ]
          },
          "metadata": {},
          "execution_count": 10
        }
      ]
    },
    {
      "cell_type": "code",
      "source": [
        "plt.axis('off')\n",
        "plt.imshow(x_test[4])\n",
        "plt.show()"
      ],
      "metadata": {
        "colab": {
          "base_uri": "https://localhost:8080/",
          "height": 406
        },
        "id": "nz8Td8L_7XWl",
        "outputId": "3a415bcf-a889-4f0d-e372-f345c6612da7"
      },
      "execution_count": 11,
      "outputs": [
        {
          "output_type": "display_data",
          "data": {
            "text/plain": [
              "<Figure size 640x480 with 1 Axes>"
            ],
            "image/png": "[encoded data removed]"
          },
          "metadata": {}
        }
      ]
    },
    {
      "cell_type": "code",
      "source": [
        "corruptions = corruption_types_cifar10c()\n",
        "print(corruptions)"
      ],
      "metadata": {
        "colab": {
          "base_uri": "https://localhost:8080/"
        },
        "id": "5DicoOngTHuH",
        "outputId": "4cc8e1e7-34a7-473b-8120-f995e7d8ca31"
      },
      "execution_count": 12,
      "outputs": [
        {
          "output_type": "stream",
          "name": "stdout",
          "text": [
            "['brightness', 'contrast', 'defocus_blur', 'elastic_transform', 'fog', 'frost', 'gaussian_blur', 'gaussian_noise', 'glass_blur', 'impulse_noise', 'jpeg_compression', 'motion_blur', 'pixelate', 'saturate', 'shot_noise', 'snow', 'spatter', 'speckle_noise', 'zoom_blur']\n"
          ]
        }
      ]
    },
    {
      "cell_type": "code",
      "source": [
        "corruption = ['gaussian_noise', 'motion_blur', 'brightness', 'pixelate']\n",
        "X_corr, y_corr = fetch_cifar10c(corruption=corruption, severity=5, return_X_y=True)\n",
        "X_corr = X_corr.astype('float32') / 255"
      ],
      "metadata": {
        "id": "Zc8MZPYJTObl"
      },
      "execution_count": 13,
      "outputs": []
    },
    {
      "cell_type": "code",
      "source": [
        "len(X_corr)"
      ],
      "metadata": {
        "colab": {
          "base_uri": "https://localhost:8080/"
        },
        "id": "JHVkAOUz62eT",
        "outputId": "3074b0ef-79ac-4643-f81f-335c81fc3c6f"
      },
      "execution_count": 14,
      "outputs": [
        {
          "output_type": "execute_result",
          "data": {
            "text/plain": [
              "40000"
            ]
          },
          "metadata": {},
          "execution_count": 14
        }
      ]
    },
    {
      "cell_type": "code",
      "source": [
        "n_test = x_test.shape[0]\n",
        "n_corr = len(corruption)"
      ],
      "metadata": {
        "id": "lLttL5KBB6uZ"
      },
      "execution_count": 15,
      "outputs": []
    },
    {
      "cell_type": "code",
      "source": [
        "n_test"
      ],
      "metadata": {
        "colab": {
          "base_uri": "https://localhost:8080/"
        },
        "id": "1Sita6o8B70B",
        "outputId": "b52dc10e-5a45-4c2b-c012-ee91a315237f"
      },
      "execution_count": 16,
      "outputs": [
        {
          "output_type": "execute_result",
          "data": {
            "text/plain": [
              "10000"
            ]
          },
          "metadata": {},
          "execution_count": 16
        }
      ]
    },
    {
      "cell_type": "code",
      "source": [
        "# Simulate federated clients (splitting the dataset)\n",
        "client_data = []\n",
        "\n",
        "# Split the original test set into reference and H0 datasets for each client\n",
        "for i in range(n_clients):\n",
        "    idx = np.random.choice(n_test, size=n_test // 2, replace=False)\n",
        "    idx_h0 = np.delete(np.arange(n_test), idx, axis=0)\n",
        "\n",
        "    # Reference dataset\n",
        "    X_ref, y_ref = x_test[idx], y_test[idx]\n",
        "\n",
        "    # Dataset under the H0 of the MMD test\n",
        "    X_h0, y_h0 = x_test[idx_h0], y_test[idx_h0]\n",
        "\n",
        "    print(f\"Client {i + 1} - Reference Dataset Shape:\", X_ref.shape)\n",
        "    print(f\"Client {i + 1} - H0 Dataset Shape:\", X_h0.shape)\n",
        "\n",
        "    # Check class balance\n",
        "    classes, counts_ref = np.unique(y_ref, return_counts=True)\n",
        "    counts_h0 = np.unique(y_h0, return_counts=True)[1]\n",
        "\n",
        "    print('Class Ref H0')\n",
        "    for cl, cref, ch0 in zip(classes, counts_ref, counts_h0):\n",
        "        assert cref + ch0 == n_test // 10\n",
        "        print('{}     {} {}'.format(cl, cref, ch0))\n",
        "\n",
        "    X_c = [X_corr[i * n_test:(i + 1) * n_test] for i in range(n_corr)]\n",
        "\n",
        "    client_data.append((X_ref, y_ref, X_h0, y_h0, X_c))\n",
        "\n",
        "    # Display an original image (x_test[i]) and the same image corrupted with each corruption type (X_corr[n_test * _ + i]).\n",
        "    i = 4\n",
        "    plt.title('Original')\n",
        "    plt.axis('off')\n",
        "    plt.imshow(x_test[i])\n",
        "    plt.show()\n",
        "    for _ in range(len(corruption)):\n",
        "        plt.title(corruption[_])\n",
        "        plt.axis('off')\n",
        "        plt.imshow(X_corr[n_test * _+ i])\n",
        "        plt.show()"
      ],
      "metadata": {
        "colab": {
          "base_uri": "https://localhost:8080/",
          "height": 1000
        },
        "id": "QC7rl1YcVUef",
        "outputId": "ea58e3d3-27a0-460a-a065-c8f31de2bbe3"
      },
      "execution_count": 17,
      "outputs": [
        {
          "output_type": "stream",
          "name": "stdout",
          "text": [
            "Client 1 - Reference Dataset Shape: (5000, 32, 32, 3)\n",
            "Client 1 - H0 Dataset Shape: (5000, 32, 32, 3)\n",
            "Class Ref H0\n",
            "0     477 523\n",
            "1     510 490\n",
            "2     511 489\n",
            "3     497 503\n",
            "4     500 500\n",
            "5     508 492\n",
            "6     509 491\n",
            "7     468 532\n",
            "8     525 475\n",
            "9     495 505\n"
          ]
        },
        {
          "output_type": "display_data",
          "data": {
            "text/plain": [
              "<Figure size 640x480 with 1 Axes>"
            ],
            "image/png": "[encoded data removed]"
          },
          "metadata": {}
        },
        {
          "output_type": "display_data",
          "data": {
            "text/plain": [
              "<Figure size 640x480 with 1 Axes>"
            ],
            "image/png": "[encoded data removed]"
          },
          "metadata": {}
        },
        {
          "output_type": "display_data",
          "data": {
            "text/plain": [
              "<Figure size 640x480 with 1 Axes>"
            ],
            "image/png": "[encoded data removed]"
          },
          "metadata": {}
        },
        {
          "output_type": "display_data",
          "data": {
            "text/plain": [
              "<Figure size 640x480 with 1 Axes>"
            ],
            "image/png": "[encoded data removed]"
          },
          "metadata": {}
        },
        {
          "output_type": "display_data",
          "data": {
            "text/plain": [
              "<Figure size 640x480 with 1 Axes>"
            ],
            "image/png": "[encoded data removed]"
          },
          "metadata": {}
        },
        {
          "output_type": "stream",
          "name": "stdout",
          "text": [
            "Client 2 - Reference Dataset Shape: (5000, 32, 32, 3)\n",
            "Client 2 - H0 Dataset Shape: (5000, 32, 32, 3)\n",
            "Class Ref H0\n",
            "0     508 492\n",
            "1     481 519\n",
            "2     489 511\n",
            "3     536 464\n",
            "4     488 512\n",
            "5     473 527\n",
            "6     509 491\n",
            "7     517 483\n",
            "8     512 488\n",
            "9     487 513\n"
          ]
        },
        {
          "output_type": "display_data",
          "data": {
            "text/plain": [
              "<Figure size 640x480 with 1 Axes>"
            ],
            "image/png": "[encoded data removed]"
          },
          "metadata": {}
        },
        {
          "output_type": "display_data",
          "data": {
            "text/plain": [
              "<Figure size 640x480 with 1 Axes>"
            ],
            "image/png": "[encoded data removed]"
          },
          "metadata": {}
        },
        {
          "output_type": "display_data",
          "data": {
            "text/plain": [
              "<Figure size 640x480 with 1 Axes>"
            ],
            "image/png": "[encoded data removed]"
          },
          "metadata": {}
        },
        {
          "output_type": "display_data",
          "data": {
            "text/plain": [
              "<Figure size 640x480 with 1 Axes>"
            ],
            "image/png": "[encoded data removed]"
          },
          "metadata": {}
        },
        {
          "output_type": "display_data",
          "data": {
            "text/plain": [
              "<Figure size 640x480 with 1 Axes>"
            ],
            "image/png": "[encoded data removed]"
          },
          "metadata": {}
        }
      ]
    },
    {
      "cell_type": "code",
      "source": [
        "len(client_data)"
      ],
      "metadata": {
        "colab": {
          "base_uri": "https://localhost:8080/"
        },
        "id": "bfttrp0KGrur",
        "outputId": "0dd7de77-ad3f-42d2-f523-a80ab5467671"
      },
      "execution_count": 18,
      "outputs": [
        {
          "output_type": "execute_result",
          "data": {
            "text/plain": [
              "2"
            ]
          },
          "metadata": {},
          "execution_count": 18
        }
      ]
    },
    {
      "cell_type": "code",
      "execution_count": 19,
      "metadata": {
        "id": "ErIW6oPOW-BJ"
      },
      "outputs": [],
      "source": [
        "class Encoder(nn.Module):\n",
        "    def __init__(self, encoding_dim):\n",
        "        super(Encoder, self).__init__()\n",
        "        self.encoder = nn.Sequential(\n",
        "            nn.Conv2d(3, 64, 4, stride=2, padding=0),\n",
        "            nn.ReLU(),\n",
        "            nn.Conv2d(64, 128, 4, stride=2, padding=0),\n",
        "            nn.ReLU(),\n",
        "            nn.Conv2d(128, 512, 4, stride=2, padding=0),\n",
        "            nn.ReLU(),\n",
        "            nn.Flatten(),\n",
        "            nn.Linear(2048, encoding_dim)\n",
        "        )\n",
        "\n",
        "    def forward(self, x):\n",
        "        return self.encoder(x)\n",
        "\n",
        "# Define the encoding dimension\n",
        "encoding_dim = 32\n",
        "\n",
        "# Instantiate the Encoder model\n",
        "# encoder_net = Encoder(encoding_dim).to(device).eval()"
      ]
    },
    {
      "cell_type": "code",
      "execution_count": 20,
      "metadata": {
        "id": "zKePRmZtW-BJ"
      },
      "outputs": [],
      "source": [
        "def permute_c(x):\n",
        "    return np.transpose(x.astype(np.float32), (0, 3, 1, 2))"
      ]
    },
    {
      "cell_type": "code",
      "source": [
        "len(client_data[0])"
      ],
      "metadata": {
        "colab": {
          "base_uri": "https://localhost:8080/"
        },
        "id": "Dd3i7IrcTFjz",
        "outputId": "2acb5acb-1f89-4f73-dfbe-92356bcb0a75"
      },
      "execution_count": 21,
      "outputs": [
        {
          "output_type": "execute_result",
          "data": {
            "text/plain": [
              "5"
            ]
          },
          "metadata": {},
          "execution_count": 21
        }
      ]
    },
    {
      "cell_type": "code",
      "execution_count": 22,
      "metadata": {
        "id": "q3i9xgGpW-BJ",
        "colab": {
          "base_uri": "https://localhost:8080/"
        },
        "outputId": "fd983793-dceb-4168-8883-2a0923114b53"
      },
      "outputs": [
        {
          "output_type": "stream",
          "name": "stdout",
          "text": [
            "(5000, 3, 32, 32) (5000, 3, 32, 32) (10000, 3, 32, 32)\n",
            "(5000, 3, 32, 32) (5000, 3, 32, 32) (10000, 3, 32, 32)\n"
          ]
        }
      ],
      "source": [
        "# MMD detector on each client\n",
        "client_detectors = []\n",
        "for i in range(len(client_data)):\n",
        "  (X_ref, y_ref, X_h0, y_h0, X_c) = client_data[i]\n",
        "\n",
        "  encoder_net = Encoder(encoding_dim).to(device).eval()\n",
        "\n",
        "  X_ref_pt = permute_c(X_ref)\n",
        "  X_h0_pt = permute_c(X_h0)\n",
        "  X_c_pt = [permute_c(xc) for xc in X_c]\n",
        "  print(X_ref_pt.shape, X_h0_pt.shape, X_c_pt[0].shape)\n",
        "\n",
        "  # define preprocessing function\n",
        "  preprocess_fn = partial(preprocess_drift, model=encoder_net, device=device, batch_size=512)\n",
        "\n",
        "  # initialise drift detector\n",
        "  detector = MMDDrift(X_ref_pt, backend='pytorch', p_val=.05,\n",
        "                preprocess_fn=preprocess_fn, n_permutations=100)\n",
        "\n",
        "  # detector = MMDDrift(X_ref_pt, backend='pytorch', preprocess_fn=preprocess_fn, device='cpu')\n",
        "\n",
        "  client_detectors.append(detector)"
      ]
    },
    {
      "cell_type": "code",
      "source": [
        "client_detectors"
      ],
      "metadata": {
        "colab": {
          "base_uri": "https://localhost:8080/"
        },
        "id": "7qpxep4SRoVA",
        "outputId": "46965d16-faba-45d1-ce58-6f22e3b5779f"
      },
      "execution_count": 23,
      "outputs": [
        {
          "output_type": "execute_result",
          "data": {
            "text/plain": [
              "[<alibi_detect.cd.mmd.MMDDrift at 0x7b7897752680>,\n",
              " <alibi_detect.cd.mmd.MMDDrift at 0x7b7897752080>]"
            ]
          },
          "metadata": {},
          "execution_count": 23
        }
      ]
    },
    {
      "cell_type": "code",
      "source": [
        "from timeit import default_timer as timer\n",
        "\n",
        "labels = ['No!', 'Yes!']\n",
        "\n",
        "def make_predictions(cd, x_h0, x_corr, corruption):\n",
        "    t = timer()\n",
        "    preds = cd.predict(x_h0)\n",
        "    dt = timer() - t\n",
        "    print('No corruption')\n",
        "    print('Drift? {}'.format(labels[preds['data']['is_drift']]))\n",
        "    print(f'p-value: {preds[\"data\"][\"p_val\"]:.3f}')\n",
        "    print(f'Time (s) {dt:.3f}')\n",
        "\n",
        "    if isinstance(x_corr, list):\n",
        "        for x, c in zip(x_corr, corruption):\n",
        "            t = timer()\n",
        "            preds = cd.predict(x)\n",
        "            dt = timer() - t\n",
        "            print('')\n",
        "            print(f'Corruption type: {c}')\n",
        "            print('Drift? {}'.format(labels[preds['data']['is_drift']]))\n",
        "            print(f'p-value: {preds[\"data\"][\"p_val\"]:.3f}')\n",
        "            print(f'Time (s) {dt:.3f}')"
      ],
      "metadata": {
        "id": "jgnAtAinV2iJ"
      },
      "execution_count": 24,
      "outputs": []
    },
    {
      "cell_type": "code",
      "source": [
        "class FlowerClient(fl.client.NumPyClient):\n",
        "    def __init__(self, client_data, net):\n",
        "        self.client_data = client_data\n",
        "        self.net = net # Q?: updated model? where?\n",
        "\n",
        "    def get_parameters(self, config):\n",
        "        # Return the current local parameters\n",
        "        # return get_parameters(self.net)\n",
        "        return [param.detach().cpu().numpy() for param in self.net.parameters()]\n",
        "\n",
        "    def fit(self, parameters, config):\n",
        "        # Train the local model after updating it with the given parameters\n",
        "        # Return the parameters from the newly trained model, the length\n",
        "        # of the training data, and a dict (empty in this case)\n",
        "        # set_parameters(self.net, parameters)\n",
        "        # train(self.net, self.trainloader, epochs=1)\n",
        "        # return get_parameters(self.net), len(self.trainloader), {}\n",
        "        state_dict = {\n",
        "            key: torch.from_numpy(param)\n",
        "            for key, param in zip(self.net.state_dict(), parameters)\n",
        "        }\n",
        "        self.net.load_state_dict(state_dict)\n",
        "\n",
        "    def evaluate(self, parameters, config):\n",
        "        # Perform the evaluation of the model after updating it with the given\n",
        "        # parameters. Returns the loss as a float, the length of the validation\n",
        "        # data, and a dict containing the accuracy\n",
        "        # set_parameters(self.net, parameters)\n",
        "        # loss, accuracy = test(self.net, self.valloader)\n",
        "        # return float(loss), len(self.valloader), {\"accuracy\": float(accuracy)}\n",
        "        state_dict = {\n",
        "            key: torch.from_numpy(param)\n",
        "            for key, param in zip(self.net.state_dict(), parameters)\n",
        "        }\n",
        "        self.net.load_state_dict(state_dict)"
      ],
      "metadata": {
        "id": "Sr6-0jEP5z0k"
      },
      "execution_count": 25,
      "outputs": []
    },
    {
      "cell_type": "code",
      "execution_count": 32,
      "metadata": {
        "id": "dpNwTm24W-BL"
      },
      "outputs": [],
      "source": [
        "def client_fn(cid: str, client_data=client_data) -> FlowerClient:\n",
        "        cd = client_detectors[int(cid)]\n",
        "        (X_ref, y_ref, X_h0, y_h0, X_c) = client_data[int(cid)]\n",
        "        X_ref_pt = permute_c(X_ref)\n",
        "        X_h0_pt = permute_c(X_h0)\n",
        "        X_c_pt = [permute_c(xc) for xc in X_c]\n",
        "        print(\"Client:\", int(cid))\n",
        "\n",
        "        make_predictions(cd, X_h0_pt, X_c_pt, corruption)\n",
        "\n",
        "        net = Encoder(encoding_dim).to(device) ## Q?: what to pass to FlowerClient?\n",
        "\n",
        "        return FlowerClient(client_data=client_data, net=net)"
      ]
    },
    {
      "cell_type": "code",
      "execution_count": 33,
      "metadata": {
        "id": "zq9eTFFvW-BL"
      },
      "outputs": [],
      "source": [
        "# Specify client resources if you need GPU (defaults to 1 CPU and 0 GPU)\n",
        "client_resources = None\n",
        "if device.type == \"cuda\":\n",
        "    client_resources = {\"num_gpus\": 1, \"num_cpus\": 1}"
      ]
    },
    {
      "cell_type": "code",
      "execution_count": 34,
      "metadata": {
        "id": "mCfn90IfW-BL",
        "colab": {
          "base_uri": "https://localhost:8080/"
        },
        "outputId": "c1d84b9a-fccf-429b-a99f-bbc64978fed5"
      },
      "outputs": [
        {
          "output_type": "execute_result",
          "data": {
            "text/plain": [
              "{'num_gpus': 1, 'num_cpus': 1}"
            ]
          },
          "metadata": {},
          "execution_count": 34
        }
      ],
      "source": [
        "client_resources"
      ]
    },
    {
      "cell_type": "code",
      "execution_count": 35,
      "metadata": {
        "id": "9ndaUXgXW-BM"
      },
      "outputs": [],
      "source": [
        "# Create FedAvg strategy\n",
        "strategy = fl.server.strategy.FedAvg(\n",
        "    fraction_fit=1.0,          # Sample 100% of available clients for training\n",
        "    fraction_evaluate=0.5,     # Sample 50% of available clients for evaluation\n",
        "    min_fit_clients=2,        # Never sample less than 10 clients for training\n",
        "    min_evaluate_clients=2,    # Never sample less than 5 clients for evaluation\n",
        "    min_available_clients=2,  # Wait until all 10 clients are available\n",
        "    # evaluate_metrics_aggregation_fn=?\n",
        ")"
      ]
    },
    {
      "cell_type": "code",
      "execution_count": 36,
      "metadata": {
        "id": "BtPsIvaBW-BM",
        "colab": {
          "base_uri": "https://localhost:8080/"
        },
        "outputId": "9a7c4341-d3be-4213-de3b-9460f7360099"
      },
      "outputs": [
        {
          "output_type": "stream",
          "name": "stderr",
          "text": [
            "INFO flwr 2024-01-18 01:20:28,390 | app.py:178 | Starting Flower simulation, config: ServerConfig(num_rounds=2, round_timeout=None)\n",
            "INFO:flwr:Starting Flower simulation, config: ServerConfig(num_rounds=2, round_timeout=None)\n",
            "2024-01-18 01:20:35,248\tINFO worker.py:1621 -- Started a local Ray instance.\n",
            "INFO flwr 2024-01-18 01:20:37,532 | app.py:213 | Flower VCE: Ray initialized with resources: {'memory': 7964024832.0, 'object_store_memory': 3982012416.0, 'node:__internal_head__': 1.0, 'node:172.28.0.12': 1.0, 'GPU': 1.0, 'CPU': 8.0}\n",
            "INFO:flwr:Flower VCE: Ray initialized with resources: {'memory': 7964024832.0, 'object_store_memory': 3982012416.0, 'node:__internal_head__': 1.0, 'node:172.28.0.12': 1.0, 'GPU': 1.0, 'CPU': 8.0}\n",
            "INFO flwr 2024-01-18 01:20:37,542 | app.py:219 | Optimize your simulation with Flower VCE: https://flower.dev/docs/framework/how-to-run-simulations.html\n",
            "INFO:flwr:Optimize your simulation with Flower VCE: https://flower.dev/docs/framework/how-to-run-simulations.html\n",
            "INFO flwr 2024-01-18 01:20:37,545 | app.py:242 | Flower VCE: Resources for each Virtual Client: {'num_gpus': 1, 'num_cpus': 1}\n",
            "INFO:flwr:Flower VCE: Resources for each Virtual Client: {'num_gpus': 1, 'num_cpus': 1}\n",
            "INFO flwr 2024-01-18 01:20:37,575 | app.py:288 | Flower VCE: Creating VirtualClientEngineActorPool with 1 actors\n",
            "INFO:flwr:Flower VCE: Creating VirtualClientEngineActorPool with 1 actors\n",
            "INFO flwr 2024-01-18 01:20:37,583 | server.py:89 | Initializing global parameters\n",
            "INFO:flwr:Initializing global parameters\n",
            "INFO flwr 2024-01-18 01:20:37,588 | server.py:276 | Requesting initial parameters from one random client\n",
            "INFO:flwr:Requesting initial parameters from one random client\n",
            "\u001b[2m\u001b[36m(pid=7483)\u001b[0m 2024-01-18 01:20:42.183395: E external/local_xla/xla/stream_executor/cuda/cuda_dnn.cc:9261] Unable to register cuDNN factory: Attempting to register factory for plugin cuDNN when one has already been registered\n",
            "\u001b[2m\u001b[36m(pid=7483)\u001b[0m 2024-01-18 01:20:42.183511: E external/local_xla/xla/stream_executor/cuda/cuda_fft.cc:607] Unable to register cuFFT factory: Attempting to register factory for plugin cuFFT when one has already been registered\n",
            "\u001b[2m\u001b[36m(pid=7483)\u001b[0m 2024-01-18 01:20:42.296507: E external/local_xla/xla/stream_executor/cuda/cuda_blas.cc:1515] Unable to register cuBLAS factory: Attempting to register factory for plugin cuBLAS when one has already been registered\n",
            "\u001b[2m\u001b[36m(pid=7483)\u001b[0m 2024-01-18 01:20:44.819170: W tensorflow/compiler/tf2tensorrt/utils/py_utils.cc:38] TF-TRT Warning: Could not find TensorRT\n"
          ]
        },
        {
          "output_type": "stream",
          "name": "stdout",
          "text": [
            "\u001b[2m\u001b[36m(DefaultActor pid=7483)\u001b[0m Client: 1\n"
          ]
        },
        {
          "output_type": "stream",
          "name": "stderr",
          "text": [
            "\u001b[2m\u001b[36m(DefaultActor pid=7483)\u001b[0m /usr/local/lib/python3.10/dist-packages/alibi_detect/cd/pytorch/mmd.py:127: UserWarning: The given NumPy array is not writable, and PyTorch does not support non-writable tensors. This means writing to this tensor will result in undefined behavior. You may want to copy the array to protect its data or make it writable before converting it to a tensor. This type of warning will be suppressed for the rest of this program. (Triggered internally at ../torch/csrc/utils/tensor_numpy.cpp:199.)\n",
            "\u001b[2m\u001b[36m(DefaultActor pid=7483)\u001b[0m   x_ref = torch.from_numpy(x_ref).to(self.device)  # type: ignore[assignment]\n"
          ]
        },
        {
          "output_type": "stream",
          "name": "stdout",
          "text": [
            "\u001b[2m\u001b[36m(DefaultActor pid=7483)\u001b[0m No corruption\n",
            "\u001b[2m\u001b[36m(DefaultActor pid=7483)\u001b[0m Drift? No!\n",
            "\u001b[2m\u001b[36m(DefaultActor pid=7483)\u001b[0m p-value: 0.610\n",
            "\u001b[2m\u001b[36m(DefaultActor pid=7483)\u001b[0m Time (s) 10.818\n",
            "\u001b[2m\u001b[36m(DefaultActor pid=7483)\u001b[0m \n",
            "\u001b[2m\u001b[36m(DefaultActor pid=7483)\u001b[0m Corruption type: gaussian_noise\n",
            "\u001b[2m\u001b[36m(DefaultActor pid=7483)\u001b[0m Drift? Yes!\n",
            "\u001b[2m\u001b[36m(DefaultActor pid=7483)\u001b[0m p-value: 0.000\n",
            "\u001b[2m\u001b[36m(DefaultActor pid=7483)\u001b[0m Time (s) 3.161\n",
            "\u001b[2m\u001b[36m(DefaultActor pid=7483)\u001b[0m \n",
            "\u001b[2m\u001b[36m(DefaultActor pid=7483)\u001b[0m Corruption type: motion_blur\n",
            "\u001b[2m\u001b[36m(DefaultActor pid=7483)\u001b[0m Drift? Yes!\n",
            "\u001b[2m\u001b[36m(DefaultActor pid=7483)\u001b[0m p-value: 0.000\n",
            "\u001b[2m\u001b[36m(DefaultActor pid=7483)\u001b[0m Time (s) 2.663\n",
            "\u001b[2m\u001b[36m(DefaultActor pid=7483)\u001b[0m \n",
            "\u001b[2m\u001b[36m(DefaultActor pid=7483)\u001b[0m Corruption type: brightness\n",
            "\u001b[2m\u001b[36m(DefaultActor pid=7483)\u001b[0m Drift? Yes!\n",
            "\u001b[2m\u001b[36m(DefaultActor pid=7483)\u001b[0m p-value: 0.000\n",
            "\u001b[2m\u001b[36m(DefaultActor pid=7483)\u001b[0m Time (s) 2.686\n"
          ]
        },
        {
          "output_type": "stream",
          "name": "stderr",
          "text": [
            "INFO flwr 2024-01-18 01:21:18,152 | server.py:280 | Received initial parameters from one random client\n",
            "INFO:flwr:Received initial parameters from one random client\n",
            "INFO flwr 2024-01-18 01:21:18,156 | server.py:91 | Evaluating initial parameters\n",
            "INFO:flwr:Evaluating initial parameters\n",
            "INFO flwr 2024-01-18 01:21:18,159 | server.py:104 | FL starting\n",
            "INFO:flwr:FL starting\n",
            "DEBUG flwr 2024-01-18 01:21:18,165 | server.py:222 | fit_round 1: strategy sampled 2 clients (out of 2)\n",
            "DEBUG:flwr:fit_round 1: strategy sampled 2 clients (out of 2)\n"
          ]
        },
        {
          "output_type": "stream",
          "name": "stdout",
          "text": [
            "\u001b[2m\u001b[36m(DefaultActor pid=7483)\u001b[0m \n",
            "\u001b[2m\u001b[36m(DefaultActor pid=7483)\u001b[0m Corruption type: pixelate\n",
            "\u001b[2m\u001b[36m(DefaultActor pid=7483)\u001b[0m Drift? Yes!\n",
            "\u001b[2m\u001b[36m(DefaultActor pid=7483)\u001b[0m p-value: 0.000\n",
            "\u001b[2m\u001b[36m(DefaultActor pid=7483)\u001b[0m Time (s) 2.692\n"
          ]
        },
        {
          "output_type": "stream",
          "name": "stderr",
          "text": [
            "ERROR flwr 2024-01-18 01:21:24,088 | ray_client_proxy.py:145 | Traceback (most recent call last):\n",
            "  File \"/usr/local/lib/python3.10/dist-packages/flwr/simulation/ray_transport/ray_client_proxy.py\", line 138, in _submit_job\n",
            "    res = self.actor_pool.get_client_result(self.cid, timeout)\n",
            "  File \"/usr/local/lib/python3.10/dist-packages/flwr/simulation/ray_transport/ray_actor.py\", line 414, in get_client_result\n",
            "    return self._fetch_future_result(cid)\n",
            "  File \"/usr/local/lib/python3.10/dist-packages/flwr/simulation/ray_transport/ray_actor.py\", line 300, in _fetch_future_result\n",
            "    res_cid, res = ray.get(future)  # type: (str, ClientRes)\n",
            "  File \"/usr/local/lib/python3.10/dist-packages/ray/_private/auto_init_hook.py\", line 24, in auto_init_wrapper\n",
            "    return fn(*args, **kwargs)\n",
            "  File \"/usr/local/lib/python3.10/dist-packages/ray/_private/client_mode_hook.py\", line 103, in wrapper\n",
            "    return func(*args, **kwargs)\n",
            "  File \"/usr/local/lib/python3.10/dist-packages/ray/_private/worker.py\", line 2526, in get\n",
            "    raise value\n",
            "ray.exceptions.OutOfMemoryError: Task was killed due to the node running low on memory.\n",
            "Memory on the node (IP: 172.28.0.12, ID: c2dcb6bf35075c91dfa0f56f6f8627dd5ad73f9b0be5a8a3a8f6346e) where the task (actor ID: 40358b6fdbf5c76b0542dd6701000000, name=DefaultActor.__init__, pid=7483, memory used=3.00GB) was running was 12.06GB / 12.67GB (0.951626), which exceeds the memory usage threshold of 0.95. Ray killed this worker (ID: 9707fb008e9c5fae11d3052290f3e3f45e72ea7186ed8e9a5bbc52f9) because it was the most recently scheduled task; to see more information about memory usage on this node, use `ray logs raylet.out -ip 172.28.0.12`. To see the logs of the worker, use `ray logs worker-9707fb008e9c5fae11d3052290f3e3f45e72ea7186ed8e9a5bbc52f9*out -ip 172.28.0.12. Top 10 memory users:\n",
            "PID\tMEM(GB)\tCOMMAND\n",
            "290\t6.03\t/usr/bin/python3 -m colab_kernel_launcher -f /root/.local/share/jupyter/runtime/kernel-f367c128-48cf...\n",
            "7483\t3.00\tray::DefaultActor.run\n",
            "1233\t0.51\tnode /datalab/web/pyright/pyright-langserver.js --stdio --cancellationReceive=file:fec837d25211a3cb2...\n",
            "106\t0.08\t/usr/bin/python3 /usr/local/bin/jupyter-notebook --debug --transport=\"ipc\" --ip=172.28.0.12 --Notebo...\n",
            "7394\t0.06\t/usr/bin/python3 -u /usr/local/lib/python3.10/dist-packages/ray/dashboard/agent.py --node-ip-address...\n",
            "7328\t0.06\t/usr/bin/python3 /usr/local/lib/python3.10/dist-packages/ray/dashboard/dashboard.py --host=127.0.0.1...\n",
            "7412\t0.05\tray::IDLE\n",
            "7413\t0.05\tray::IDLE\n",
            "7327\t0.05\t/usr/bin/python3 -u /usr/local/lib/python3.10/dist-packages/ray/autoscaler/_private/monitor.py --log...\n",
            "7396\t0.05\t/usr/bin/python3 -u /usr/local/lib/python3.10/dist-packages/ray/_private/log_monitor.py --logs-dir=/...\n",
            "Refer to the documentation on how to address the out of memory issue: https://docs.ray.io/en/latest/ray-core/scheduling/ray-oom-prevention.html. Consider provisioning more memory on this node or reducing task parallelism by requesting more CPUs per task. Set max_restarts and max_task_retries to enable retry when the task crashes due to OOM. To adjust the kill threshold, set the environment variable `RAY_memory_usage_threshold` when starting Ray. To disable worker killing, set the environment variable `RAY_memory_monitor_refresh_ms` to zero.\n",
            "\n",
            "ERROR:flwr:Traceback (most recent call last):\n",
            "  File \"/usr/local/lib/python3.10/dist-packages/flwr/simulation/ray_transport/ray_client_proxy.py\", line 138, in _submit_job\n",
            "    res = self.actor_pool.get_client_result(self.cid, timeout)\n",
            "  File \"/usr/local/lib/python3.10/dist-packages/flwr/simulation/ray_transport/ray_actor.py\", line 414, in get_client_result\n",
            "    return self._fetch_future_result(cid)\n",
            "  File \"/usr/local/lib/python3.10/dist-packages/flwr/simulation/ray_transport/ray_actor.py\", line 300, in _fetch_future_result\n",
            "    res_cid, res = ray.get(future)  # type: (str, ClientRes)\n",
            "  File \"/usr/local/lib/python3.10/dist-packages/ray/_private/auto_init_hook.py\", line 24, in auto_init_wrapper\n",
            "    return fn(*args, **kwargs)\n",
            "  File \"/usr/local/lib/python3.10/dist-packages/ray/_private/client_mode_hook.py\", line 103, in wrapper\n",
            "    return func(*args, **kwargs)\n",
            "  File \"/usr/local/lib/python3.10/dist-packages/ray/_private/worker.py\", line 2526, in get\n",
            "    raise value\n",
            "ray.exceptions.OutOfMemoryError: Task was killed due to the node running low on memory.\n",
            "Memory on the node (IP: 172.28.0.12, ID: c2dcb6bf35075c91dfa0f56f6f8627dd5ad73f9b0be5a8a3a8f6346e) where the task (actor ID: 40358b6fdbf5c76b0542dd6701000000, name=DefaultActor.__init__, pid=7483, memory used=3.00GB) was running was 12.06GB / 12.67GB (0.951626), which exceeds the memory usage threshold of 0.95. Ray killed this worker (ID: 9707fb008e9c5fae11d3052290f3e3f45e72ea7186ed8e9a5bbc52f9) because it was the most recently scheduled task; to see more information about memory usage on this node, use `ray logs raylet.out -ip 172.28.0.12`. To see the logs of the worker, use `ray logs worker-9707fb008e9c5fae11d3052290f3e3f45e72ea7186ed8e9a5bbc52f9*out -ip 172.28.0.12. Top 10 memory users:\n",
            "PID\tMEM(GB)\tCOMMAND\n",
            "290\t6.03\t/usr/bin/python3 -m colab_kernel_launcher -f /root/.local/share/jupyter/runtime/kernel-f367c128-48cf...\n",
            "7483\t3.00\tray::DefaultActor.run\n",
            "1233\t0.51\tnode /datalab/web/pyright/pyright-langserver.js --stdio --cancellationReceive=file:fec837d25211a3cb2...\n",
            "106\t0.08\t/usr/bin/python3 /usr/local/bin/jupyter-notebook --debug --transport=\"ipc\" --ip=172.28.0.12 --Notebo...\n",
            "7394\t0.06\t/usr/bin/python3 -u /usr/local/lib/python3.10/dist-packages/ray/dashboard/agent.py --node-ip-address...\n",
            "7328\t0.06\t/usr/bin/python3 /usr/local/lib/python3.10/dist-packages/ray/dashboard/dashboard.py --host=127.0.0.1...\n",
            "7412\t0.05\tray::IDLE\n",
            "7413\t0.05\tray::IDLE\n",
            "7327\t0.05\t/usr/bin/python3 -u /usr/local/lib/python3.10/dist-packages/ray/autoscaler/_private/monitor.py --log...\n",
            "7396\t0.05\t/usr/bin/python3 -u /usr/local/lib/python3.10/dist-packages/ray/_private/log_monitor.py --logs-dir=/...\n",
            "Refer to the documentation on how to address the out of memory issue: https://docs.ray.io/en/latest/ray-core/scheduling/ray-oom-prevention.html. Consider provisioning more memory on this node or reducing task parallelism by requesting more CPUs per task. Set max_restarts and max_task_retries to enable retry when the task crashes due to OOM. To adjust the kill threshold, set the environment variable `RAY_memory_usage_threshold` when starting Ray. To disable worker killing, set the environment variable `RAY_memory_monitor_refresh_ms` to zero.\n",
            "\n",
            "ERROR flwr 2024-01-18 01:21:24,090 | ray_client_proxy.py:145 | Traceback (most recent call last):\n",
            "  File \"/usr/local/lib/python3.10/dist-packages/flwr/simulation/ray_transport/ray_client_proxy.py\", line 138, in _submit_job\n",
            "    res = self.actor_pool.get_client_result(self.cid, timeout)\n",
            "  File \"/usr/local/lib/python3.10/dist-packages/flwr/simulation/ray_transport/ray_actor.py\", line 414, in get_client_result\n",
            "    return self._fetch_future_result(cid)\n",
            "  File \"/usr/local/lib/python3.10/dist-packages/flwr/simulation/ray_transport/ray_actor.py\", line 300, in _fetch_future_result\n",
            "    res_cid, res = ray.get(future)  # type: (str, ClientRes)\n",
            "  File \"/usr/local/lib/python3.10/dist-packages/ray/_private/auto_init_hook.py\", line 24, in auto_init_wrapper\n",
            "    return fn(*args, **kwargs)\n",
            "  File \"/usr/local/lib/python3.10/dist-packages/ray/_private/client_mode_hook.py\", line 103, in wrapper\n",
            "    return func(*args, **kwargs)\n",
            "  File \"/usr/local/lib/python3.10/dist-packages/ray/_private/worker.py\", line 2526, in get\n",
            "    raise value\n",
            "ray.exceptions.OutOfMemoryError: Task was killed due to the node running low on memory.\n",
            "Memory on the node (IP: 172.28.0.12, ID: c2dcb6bf35075c91dfa0f56f6f8627dd5ad73f9b0be5a8a3a8f6346e) where the task (actor ID: 40358b6fdbf5c76b0542dd6701000000, name=DefaultActor.__init__, pid=7483, memory used=3.00GB) was running was 12.06GB / 12.67GB (0.951626), which exceeds the memory usage threshold of 0.95. Ray killed this worker (ID: 9707fb008e9c5fae11d3052290f3e3f45e72ea7186ed8e9a5bbc52f9) because it was the most recently scheduled task; to see more information about memory usage on this node, use `ray logs raylet.out -ip 172.28.0.12`. To see the logs of the worker, use `ray logs worker-9707fb008e9c5fae11d3052290f3e3f45e72ea7186ed8e9a5bbc52f9*out -ip 172.28.0.12. Top 10 memory users:\n",
            "PID\tMEM(GB)\tCOMMAND\n",
            "290\t6.03\t/usr/bin/python3 -m colab_kernel_launcher -f /root/.local/share/jupyter/runtime/kernel-f367c128-48cf...\n",
            "7483\t3.00\tray::DefaultActor.run\n",
            "1233\t0.51\tnode /datalab/web/pyright/pyright-langserver.js --stdio --cancellationReceive=file:fec837d25211a3cb2...\n",
            "106\t0.08\t/usr/bin/python3 /usr/local/bin/jupyter-notebook --debug --transport=\"ipc\" --ip=172.28.0.12 --Notebo...\n",
            "7394\t0.06\t/usr/bin/python3 -u /usr/local/lib/python3.10/dist-packages/ray/dashboard/agent.py --node-ip-address...\n",
            "7328\t0.06\t/usr/bin/python3 /usr/local/lib/python3.10/dist-packages/ray/dashboard/dashboard.py --host=127.0.0.1...\n",
            "7412\t0.05\tray::IDLE\n",
            "7413\t0.05\tray::IDLE\n",
            "7327\t0.05\t/usr/bin/python3 -u /usr/local/lib/python3.10/dist-packages/ray/autoscaler/_private/monitor.py --log...\n",
            "7396\t0.05\t/usr/bin/python3 -u /usr/local/lib/python3.10/dist-packages/ray/_private/log_monitor.py --logs-dir=/...\n",
            "Refer to the documentation on how to address the out of memory issue: https://docs.ray.io/en/latest/ray-core/scheduling/ray-oom-prevention.html. Consider provisioning more memory on this node or reducing task parallelism by requesting more CPUs per task. Set max_restarts and max_task_retries to enable retry when the task crashes due to OOM. To adjust the kill threshold, set the environment variable `RAY_memory_usage_threshold` when starting Ray. To disable worker killing, set the environment variable `RAY_memory_monitor_refresh_ms` to zero.\n",
            "\n",
            "ERROR:flwr:Traceback (most recent call last):\n",
            "  File \"/usr/local/lib/python3.10/dist-packages/flwr/simulation/ray_transport/ray_client_proxy.py\", line 138, in _submit_job\n",
            "    res = self.actor_pool.get_client_result(self.cid, timeout)\n",
            "  File \"/usr/local/lib/python3.10/dist-packages/flwr/simulation/ray_transport/ray_actor.py\", line 414, in get_client_result\n",
            "    return self._fetch_future_result(cid)\n",
            "  File \"/usr/local/lib/python3.10/dist-packages/flwr/simulation/ray_transport/ray_actor.py\", line 300, in _fetch_future_result\n",
            "    res_cid, res = ray.get(future)  # type: (str, ClientRes)\n",
            "  File \"/usr/local/lib/python3.10/dist-packages/ray/_private/auto_init_hook.py\", line 24, in auto_init_wrapper\n",
            "    return fn(*args, **kwargs)\n",
            "  File \"/usr/local/lib/python3.10/dist-packages/ray/_private/client_mode_hook.py\", line 103, in wrapper\n",
            "    return func(*args, **kwargs)\n",
            "  File \"/usr/local/lib/python3.10/dist-packages/ray/_private/worker.py\", line 2526, in get\n",
            "    raise value\n",
            "ray.exceptions.OutOfMemoryError: Task was killed due to the node running low on memory.\n",
            "Memory on the node (IP: 172.28.0.12, ID: c2dcb6bf35075c91dfa0f56f6f8627dd5ad73f9b0be5a8a3a8f6346e) where the task (actor ID: 40358b6fdbf5c76b0542dd6701000000, name=DefaultActor.__init__, pid=7483, memory used=3.00GB) was running was 12.06GB / 12.67GB (0.951626), which exceeds the memory usage threshold of 0.95. Ray killed this worker (ID: 9707fb008e9c5fae11d3052290f3e3f45e72ea7186ed8e9a5bbc52f9) because it was the most recently scheduled task; to see more information about memory usage on this node, use `ray logs raylet.out -ip 172.28.0.12`. To see the logs of the worker, use `ray logs worker-9707fb008e9c5fae11d3052290f3e3f45e72ea7186ed8e9a5bbc52f9*out -ip 172.28.0.12. Top 10 memory users:\n",
            "PID\tMEM(GB)\tCOMMAND\n",
            "290\t6.03\t/usr/bin/python3 -m colab_kernel_launcher -f /root/.local/share/jupyter/runtime/kernel-f367c128-48cf...\n",
            "7483\t3.00\tray::DefaultActor.run\n",
            "1233\t0.51\tnode /datalab/web/pyright/pyright-langserver.js --stdio --cancellationReceive=file:fec837d25211a3cb2...\n",
            "106\t0.08\t/usr/bin/python3 /usr/local/bin/jupyter-notebook --debug --transport=\"ipc\" --ip=172.28.0.12 --Notebo...\n",
            "7394\t0.06\t/usr/bin/python3 -u /usr/local/lib/python3.10/dist-packages/ray/dashboard/agent.py --node-ip-address...\n",
            "7328\t0.06\t/usr/bin/python3 /usr/local/lib/python3.10/dist-packages/ray/dashboard/dashboard.py --host=127.0.0.1...\n",
            "7412\t0.05\tray::IDLE\n",
            "7413\t0.05\tray::IDLE\n",
            "7327\t0.05\t/usr/bin/python3 -u /usr/local/lib/python3.10/dist-packages/ray/autoscaler/_private/monitor.py --log...\n",
            "7396\t0.05\t/usr/bin/python3 -u /usr/local/lib/python3.10/dist-packages/ray/_private/log_monitor.py --logs-dir=/...\n",
            "Refer to the documentation on how to address the out of memory issue: https://docs.ray.io/en/latest/ray-core/scheduling/ray-oom-prevention.html. Consider provisioning more memory on this node or reducing task parallelism by requesting more CPUs per task. Set max_restarts and max_task_retries to enable retry when the task crashes due to OOM. To adjust the kill threshold, set the environment variable `RAY_memory_usage_threshold` when starting Ray. To disable worker killing, set the environment variable `RAY_memory_monitor_refresh_ms` to zero.\n",
            "\n",
            "ERROR flwr 2024-01-18 01:21:24,093 | ray_client_proxy.py:146 | Task was killed due to the node running low on memory.\n",
            "Memory on the node (IP: 172.28.0.12, ID: c2dcb6bf35075c91dfa0f56f6f8627dd5ad73f9b0be5a8a3a8f6346e) where the task (actor ID: 40358b6fdbf5c76b0542dd6701000000, name=DefaultActor.__init__, pid=7483, memory used=3.00GB) was running was 12.06GB / 12.67GB (0.951626), which exceeds the memory usage threshold of 0.95. Ray killed this worker (ID: 9707fb008e9c5fae11d3052290f3e3f45e72ea7186ed8e9a5bbc52f9) because it was the most recently scheduled task; to see more information about memory usage on this node, use `ray logs raylet.out -ip 172.28.0.12`. To see the logs of the worker, use `ray logs worker-9707fb008e9c5fae11d3052290f3e3f45e72ea7186ed8e9a5bbc52f9*out -ip 172.28.0.12. Top 10 memory users:\n",
            "PID\tMEM(GB)\tCOMMAND\n",
            "290\t6.03\t/usr/bin/python3 -m colab_kernel_launcher -f /root/.local/share/jupyter/runtime/kernel-f367c128-48cf...\n",
            "7483\t3.00\tray::DefaultActor.run\n",
            "1233\t0.51\tnode /datalab/web/pyright/pyright-langserver.js --stdio --cancellationReceive=file:fec837d25211a3cb2...\n",
            "106\t0.08\t/usr/bin/python3 /usr/local/bin/jupyter-notebook --debug --transport=\"ipc\" --ip=172.28.0.12 --Notebo...\n",
            "7394\t0.06\t/usr/bin/python3 -u /usr/local/lib/python3.10/dist-packages/ray/dashboard/agent.py --node-ip-address...\n",
            "7328\t0.06\t/usr/bin/python3 /usr/local/lib/python3.10/dist-packages/ray/dashboard/dashboard.py --host=127.0.0.1...\n",
            "7412\t0.05\tray::IDLE\n",
            "7413\t0.05\tray::IDLE\n",
            "7327\t0.05\t/usr/bin/python3 -u /usr/local/lib/python3.10/dist-packages/ray/autoscaler/_private/monitor.py --log...\n",
            "7396\t0.05\t/usr/bin/python3 -u /usr/local/lib/python3.10/dist-packages/ray/_private/log_monitor.py --logs-dir=/...\n",
            "Refer to the documentation on how to address the out of memory issue: https://docs.ray.io/en/latest/ray-core/scheduling/ray-oom-prevention.html. Consider provisioning more memory on this node or reducing task parallelism by requesting more CPUs per task. Set max_restarts and max_task_retries to enable retry when the task crashes due to OOM. To adjust the kill threshold, set the environment variable `RAY_memory_usage_threshold` when starting Ray. To disable worker killing, set the environment variable `RAY_memory_monitor_refresh_ms` to zero.\n",
            "ERROR flwr 2024-01-18 01:21:24,098 | ray_client_proxy.py:146 | Task was killed due to the node running low on memory.\n",
            "Memory on the node (IP: 172.28.0.12, ID: c2dcb6bf35075c91dfa0f56f6f8627dd5ad73f9b0be5a8a3a8f6346e) where the task (actor ID: 40358b6fdbf5c76b0542dd6701000000, name=DefaultActor.__init__, pid=7483, memory used=3.00GB) was running was 12.06GB / 12.67GB (0.951626), which exceeds the memory usage threshold of 0.95. Ray killed this worker (ID: 9707fb008e9c5fae11d3052290f3e3f45e72ea7186ed8e9a5bbc52f9) because it was the most recently scheduled task; to see more information about memory usage on this node, use `ray logs raylet.out -ip 172.28.0.12`. To see the logs of the worker, use `ray logs worker-9707fb008e9c5fae11d3052290f3e3f45e72ea7186ed8e9a5bbc52f9*out -ip 172.28.0.12. Top 10 memory users:\n",
            "PID\tMEM(GB)\tCOMMAND\n",
            "290\t6.03\t/usr/bin/python3 -m colab_kernel_launcher -f /root/.local/share/jupyter/runtime/kernel-f367c128-48cf...\n",
            "7483\t3.00\tray::DefaultActor.run\n",
            "1233\t0.51\tnode /datalab/web/pyright/pyright-langserver.js --stdio --cancellationReceive=file:fec837d25211a3cb2...\n",
            "106\t0.08\t/usr/bin/python3 /usr/local/bin/jupyter-notebook --debug --transport=\"ipc\" --ip=172.28.0.12 --Notebo...\n",
            "7394\t0.06\t/usr/bin/python3 -u /usr/local/lib/python3.10/dist-packages/ray/dashboard/agent.py --node-ip-address...\n",
            "7328\t0.06\t/usr/bin/python3 /usr/local/lib/python3.10/dist-packages/ray/dashboard/dashboard.py --host=127.0.0.1...\n",
            "7412\t0.05\tray::IDLE\n",
            "7413\t0.05\tray::IDLE\n",
            "7327\t0.05\t/usr/bin/python3 -u /usr/local/lib/python3.10/dist-packages/ray/autoscaler/_private/monitor.py --log...\n",
            "7396\t0.05\t/usr/bin/python3 -u /usr/local/lib/python3.10/dist-packages/ray/_private/log_monitor.py --logs-dir=/...\n",
            "Refer to the documentation on how to address the out of memory issue: https://docs.ray.io/en/latest/ray-core/scheduling/ray-oom-prevention.html. Consider provisioning more memory on this node or reducing task parallelism by requesting more CPUs per task. Set max_restarts and max_task_retries to enable retry when the task crashes due to OOM. To adjust the kill threshold, set the environment variable `RAY_memory_usage_threshold` when starting Ray. To disable worker killing, set the environment variable `RAY_memory_monitor_refresh_ms` to zero.\n",
            "ERROR:flwr:Task was killed due to the node running low on memory.\n",
            "Memory on the node (IP: 172.28.0.12, ID: c2dcb6bf35075c91dfa0f56f6f8627dd5ad73f9b0be5a8a3a8f6346e) where the task (actor ID: 40358b6fdbf5c76b0542dd6701000000, name=DefaultActor.__init__, pid=7483, memory used=3.00GB) was running was 12.06GB / 12.67GB (0.951626), which exceeds the memory usage threshold of 0.95. Ray killed this worker (ID: 9707fb008e9c5fae11d3052290f3e3f45e72ea7186ed8e9a5bbc52f9) because it was the most recently scheduled task; to see more information about memory usage on this node, use `ray logs raylet.out -ip 172.28.0.12`. To see the logs of the worker, use `ray logs worker-9707fb008e9c5fae11d3052290f3e3f45e72ea7186ed8e9a5bbc52f9*out -ip 172.28.0.12. Top 10 memory users:\n",
            "PID\tMEM(GB)\tCOMMAND\n",
            "290\t6.03\t/usr/bin/python3 -m colab_kernel_launcher -f /root/.local/share/jupyter/runtime/kernel-f367c128-48cf...\n",
            "7483\t3.00\tray::DefaultActor.run\n",
            "1233\t0.51\tnode /datalab/web/pyright/pyright-langserver.js --stdio --cancellationReceive=file:fec837d25211a3cb2...\n",
            "106\t0.08\t/usr/bin/python3 /usr/local/bin/jupyter-notebook --debug --transport=\"ipc\" --ip=172.28.0.12 --Notebo...\n",
            "7394\t0.06\t/usr/bin/python3 -u /usr/local/lib/python3.10/dist-packages/ray/dashboard/agent.py --node-ip-address...\n",
            "7328\t0.06\t/usr/bin/python3 /usr/local/lib/python3.10/dist-packages/ray/dashboard/dashboard.py --host=127.0.0.1...\n",
            "7412\t0.05\tray::IDLE\n",
            "7413\t0.05\tray::IDLE\n",
            "7327\t0.05\t/usr/bin/python3 -u /usr/local/lib/python3.10/dist-packages/ray/autoscaler/_private/monitor.py --log...\n",
            "7396\t0.05\t/usr/bin/python3 -u /usr/local/lib/python3.10/dist-packages/ray/_private/log_monitor.py --logs-dir=/...\n",
            "Refer to the documentation on how to address the out of memory issue: https://docs.ray.io/en/latest/ray-core/scheduling/ray-oom-prevention.html. Consider provisioning more memory on this node or reducing task parallelism by requesting more CPUs per task. Set max_restarts and max_task_retries to enable retry when the task crashes due to OOM. To adjust the kill threshold, set the environment variable `RAY_memory_usage_threshold` when starting Ray. To disable worker killing, set the environment variable `RAY_memory_monitor_refresh_ms` to zero.\n",
            "ERROR:flwr:Task was killed due to the node running low on memory.\n",
            "Memory on the node (IP: 172.28.0.12, ID: c2dcb6bf35075c91dfa0f56f6f8627dd5ad73f9b0be5a8a3a8f6346e) where the task (actor ID: 40358b6fdbf5c76b0542dd6701000000, name=DefaultActor.__init__, pid=7483, memory used=3.00GB) was running was 12.06GB / 12.67GB (0.951626), which exceeds the memory usage threshold of 0.95. Ray killed this worker (ID: 9707fb008e9c5fae11d3052290f3e3f45e72ea7186ed8e9a5bbc52f9) because it was the most recently scheduled task; to see more information about memory usage on this node, use `ray logs raylet.out -ip 172.28.0.12`. To see the logs of the worker, use `ray logs worker-9707fb008e9c5fae11d3052290f3e3f45e72ea7186ed8e9a5bbc52f9*out -ip 172.28.0.12. Top 10 memory users:\n",
            "PID\tMEM(GB)\tCOMMAND\n",
            "290\t6.03\t/usr/bin/python3 -m colab_kernel_launcher -f /root/.local/share/jupyter/runtime/kernel-f367c128-48cf...\n",
            "7483\t3.00\tray::DefaultActor.run\n",
            "1233\t0.51\tnode /datalab/web/pyright/pyright-langserver.js --stdio --cancellationReceive=file:fec837d25211a3cb2...\n",
            "106\t0.08\t/usr/bin/python3 /usr/local/bin/jupyter-notebook --debug --transport=\"ipc\" --ip=172.28.0.12 --Notebo...\n",
            "7394\t0.06\t/usr/bin/python3 -u /usr/local/lib/python3.10/dist-packages/ray/dashboard/agent.py --node-ip-address...\n",
            "7328\t0.06\t/usr/bin/python3 /usr/local/lib/python3.10/dist-packages/ray/dashboard/dashboard.py --host=127.0.0.1...\n",
            "7412\t0.05\tray::IDLE\n",
            "7413\t0.05\tray::IDLE\n",
            "7327\t0.05\t/usr/bin/python3 -u /usr/local/lib/python3.10/dist-packages/ray/autoscaler/_private/monitor.py --log...\n",
            "7396\t0.05\t/usr/bin/python3 -u /usr/local/lib/python3.10/dist-packages/ray/_private/log_monitor.py --logs-dir=/...\n",
            "Refer to the documentation on how to address the out of memory issue: https://docs.ray.io/en/latest/ray-core/scheduling/ray-oom-prevention.html. Consider provisioning more memory on this node or reducing task parallelism by requesting more CPUs per task. Set max_restarts and max_task_retries to enable retry when the task crashes due to OOM. To adjust the kill threshold, set the environment variable `RAY_memory_usage_threshold` when starting Ray. To disable worker killing, set the environment variable `RAY_memory_monitor_refresh_ms` to zero.\n",
            "DEBUG flwr 2024-01-18 01:21:24,106 | server.py:236 | fit_round 1 received 0 results and 2 failures\n",
            "DEBUG:flwr:fit_round 1 received 0 results and 2 failures\n",
            "DEBUG flwr 2024-01-18 01:21:24,108 | server.py:173 | evaluate_round 1: strategy sampled 2 clients (out of 2)\n",
            "DEBUG:flwr:evaluate_round 1: strategy sampled 2 clients (out of 2)\n",
            "ERROR flwr 2024-01-18 01:21:26,082 | ray_client_proxy.py:145 | Traceback (most recent call last):\n",
            "  File \"/usr/local/lib/python3.10/dist-packages/flwr/simulation/ray_transport/ray_client_proxy.py\", line 138, in _submit_job\n",
            "    res = self.actor_pool.get_client_result(self.cid, timeout)\n",
            "  File \"/usr/local/lib/python3.10/dist-packages/flwr/simulation/ray_transport/ray_actor.py\", line 414, in get_client_result\n",
            "    return self._fetch_future_result(cid)\n",
            "  File \"/usr/local/lib/python3.10/dist-packages/flwr/simulation/ray_transport/ray_actor.py\", line 300, in _fetch_future_result\n",
            "    res_cid, res = ray.get(future)  # type: (str, ClientRes)\n",
            "  File \"/usr/local/lib/python3.10/dist-packages/ray/_private/auto_init_hook.py\", line 24, in auto_init_wrapper\n",
            "    return fn(*args, **kwargs)\n",
            "  File \"/usr/local/lib/python3.10/dist-packages/ray/_private/client_mode_hook.py\", line 103, in wrapper\n",
            "    return func(*args, **kwargs)\n",
            "  File \"/usr/local/lib/python3.10/dist-packages/ray/_private/worker.py\", line 2526, in get\n",
            "    raise value\n",
            "ray.exceptions.OutOfMemoryError: Task was killed due to the node running low on memory.\n",
            "Memory on the node (IP: 172.28.0.12, ID: c2dcb6bf35075c91dfa0f56f6f8627dd5ad73f9b0be5a8a3a8f6346e) where the task (actor ID: 40358b6fdbf5c76b0542dd6701000000, name=DefaultActor.__init__, pid=7483, memory used=3.00GB) was running was 12.06GB / 12.67GB (0.951626), which exceeds the memory usage threshold of 0.95. Ray killed this worker (ID: 9707fb008e9c5fae11d3052290f3e3f45e72ea7186ed8e9a5bbc52f9) because it was the most recently scheduled task; to see more information about memory usage on this node, use `ray logs raylet.out -ip 172.28.0.12`. To see the logs of the worker, use `ray logs worker-9707fb008e9c5fae11d3052290f3e3f45e72ea7186ed8e9a5bbc52f9*out -ip 172.28.0.12. Top 10 memory users:\n",
            "PID\tMEM(GB)\tCOMMAND\n",
            "290\t6.03\t/usr/bin/python3 -m colab_kernel_launcher -f /root/.local/share/jupyter/runtime/kernel-f367c128-48cf...\n",
            "7483\t3.00\tray::DefaultActor.run\n",
            "1233\t0.51\tnode /datalab/web/pyright/pyright-langserver.js --stdio --cancellationReceive=file:fec837d25211a3cb2...\n",
            "106\t0.08\t/usr/bin/python3 /usr/local/bin/jupyter-notebook --debug --transport=\"ipc\" --ip=172.28.0.12 --Notebo...\n",
            "7394\t0.06\t/usr/bin/python3 -u /usr/local/lib/python3.10/dist-packages/ray/dashboard/agent.py --node-ip-address...\n",
            "7328\t0.06\t/usr/bin/python3 /usr/local/lib/python3.10/dist-packages/ray/dashboard/dashboard.py --host=127.0.0.1...\n",
            "7412\t0.05\tray::IDLE\n",
            "7413\t0.05\tray::IDLE\n",
            "7327\t0.05\t/usr/bin/python3 -u /usr/local/lib/python3.10/dist-packages/ray/autoscaler/_private/monitor.py --log...\n",
            "7396\t0.05\t/usr/bin/python3 -u /usr/local/lib/python3.10/dist-packages/ray/_private/log_monitor.py --logs-dir=/...\n",
            "Refer to the documentation on how to address the out of memory issue: https://docs.ray.io/en/latest/ray-core/scheduling/ray-oom-prevention.html. Consider provisioning more memory on this node or reducing task parallelism by requesting more CPUs per task. Set max_restarts and max_task_retries to enable retry when the task crashes due to OOM. To adjust the kill threshold, set the environment variable `RAY_memory_usage_threshold` when starting Ray. To disable worker killing, set the environment variable `RAY_memory_monitor_refresh_ms` to zero.\n",
            "\n",
            "ERROR:flwr:Traceback (most recent call last):\n",
            "  File \"/usr/local/lib/python3.10/dist-packages/flwr/simulation/ray_transport/ray_client_proxy.py\", line 138, in _submit_job\n",
            "    res = self.actor_pool.get_client_result(self.cid, timeout)\n",
            "  File \"/usr/local/lib/python3.10/dist-packages/flwr/simulation/ray_transport/ray_actor.py\", line 414, in get_client_result\n",
            "    return self._fetch_future_result(cid)\n",
            "  File \"/usr/local/lib/python3.10/dist-packages/flwr/simulation/ray_transport/ray_actor.py\", line 300, in _fetch_future_result\n",
            "    res_cid, res = ray.get(future)  # type: (str, ClientRes)\n",
            "  File \"/usr/local/lib/python3.10/dist-packages/ray/_private/auto_init_hook.py\", line 24, in auto_init_wrapper\n",
            "    return fn(*args, **kwargs)\n",
            "  File \"/usr/local/lib/python3.10/dist-packages/ray/_private/client_mode_hook.py\", line 103, in wrapper\n",
            "    return func(*args, **kwargs)\n",
            "  File \"/usr/local/lib/python3.10/dist-packages/ray/_private/worker.py\", line 2526, in get\n",
            "    raise value\n",
            "ray.exceptions.OutOfMemoryError: Task was killed due to the node running low on memory.\n",
            "Memory on the node (IP: 172.28.0.12, ID: c2dcb6bf35075c91dfa0f56f6f8627dd5ad73f9b0be5a8a3a8f6346e) where the task (actor ID: 40358b6fdbf5c76b0542dd6701000000, name=DefaultActor.__init__, pid=7483, memory used=3.00GB) was running was 12.06GB / 12.67GB (0.951626), which exceeds the memory usage threshold of 0.95. Ray killed this worker (ID: 9707fb008e9c5fae11d3052290f3e3f45e72ea7186ed8e9a5bbc52f9) because it was the most recently scheduled task; to see more information about memory usage on this node, use `ray logs raylet.out -ip 172.28.0.12`. To see the logs of the worker, use `ray logs worker-9707fb008e9c5fae11d3052290f3e3f45e72ea7186ed8e9a5bbc52f9*out -ip 172.28.0.12. Top 10 memory users:\n",
            "PID\tMEM(GB)\tCOMMAND\n",
            "290\t6.03\t/usr/bin/python3 -m colab_kernel_launcher -f /root/.local/share/jupyter/runtime/kernel-f367c128-48cf...\n",
            "7483\t3.00\tray::DefaultActor.run\n",
            "1233\t0.51\tnode /datalab/web/pyright/pyright-langserver.js --stdio --cancellationReceive=file:fec837d25211a3cb2...\n",
            "106\t0.08\t/usr/bin/python3 /usr/local/bin/jupyter-notebook --debug --transport=\"ipc\" --ip=172.28.0.12 --Notebo...\n",
            "7394\t0.06\t/usr/bin/python3 -u /usr/local/lib/python3.10/dist-packages/ray/dashboard/agent.py --node-ip-address...\n",
            "7328\t0.06\t/usr/bin/python3 /usr/local/lib/python3.10/dist-packages/ray/dashboard/dashboard.py --host=127.0.0.1...\n",
            "7412\t0.05\tray::IDLE\n",
            "7413\t0.05\tray::IDLE\n",
            "7327\t0.05\t/usr/bin/python3 -u /usr/local/lib/python3.10/dist-packages/ray/autoscaler/_private/monitor.py --log...\n",
            "7396\t0.05\t/usr/bin/python3 -u /usr/local/lib/python3.10/dist-packages/ray/_private/log_monitor.py --logs-dir=/...\n",
            "Refer to the documentation on how to address the out of memory issue: https://docs.ray.io/en/latest/ray-core/scheduling/ray-oom-prevention.html. Consider provisioning more memory on this node or reducing task parallelism by requesting more CPUs per task. Set max_restarts and max_task_retries to enable retry when the task crashes due to OOM. To adjust the kill threshold, set the environment variable `RAY_memory_usage_threshold` when starting Ray. To disable worker killing, set the environment variable `RAY_memory_monitor_refresh_ms` to zero.\n",
            "\n",
            "ERROR flwr 2024-01-18 01:21:26,149 | ray_client_proxy.py:146 | Task was killed due to the node running low on memory.\n",
            "Memory on the node (IP: 172.28.0.12, ID: c2dcb6bf35075c91dfa0f56f6f8627dd5ad73f9b0be5a8a3a8f6346e) where the task (actor ID: 40358b6fdbf5c76b0542dd6701000000, name=DefaultActor.__init__, pid=7483, memory used=3.00GB) was running was 12.06GB / 12.67GB (0.951626), which exceeds the memory usage threshold of 0.95. Ray killed this worker (ID: 9707fb008e9c5fae11d3052290f3e3f45e72ea7186ed8e9a5bbc52f9) because it was the most recently scheduled task; to see more information about memory usage on this node, use `ray logs raylet.out -ip 172.28.0.12`. To see the logs of the worker, use `ray logs worker-9707fb008e9c5fae11d3052290f3e3f45e72ea7186ed8e9a5bbc52f9*out -ip 172.28.0.12. Top 10 memory users:\n",
            "PID\tMEM(GB)\tCOMMAND\n",
            "290\t6.03\t/usr/bin/python3 -m colab_kernel_launcher -f /root/.local/share/jupyter/runtime/kernel-f367c128-48cf...\n",
            "7483\t3.00\tray::DefaultActor.run\n",
            "1233\t0.51\tnode /datalab/web/pyright/pyright-langserver.js --stdio --cancellationReceive=file:fec837d25211a3cb2...\n",
            "106\t0.08\t/usr/bin/python3 /usr/local/bin/jupyter-notebook --debug --transport=\"ipc\" --ip=172.28.0.12 --Notebo...\n",
            "7394\t0.06\t/usr/bin/python3 -u /usr/local/lib/python3.10/dist-packages/ray/dashboard/agent.py --node-ip-address...\n",
            "7328\t0.06\t/usr/bin/python3 /usr/local/lib/python3.10/dist-packages/ray/dashboard/dashboard.py --host=127.0.0.1...\n",
            "7412\t0.05\tray::IDLE\n",
            "7413\t0.05\tray::IDLE\n",
            "7327\t0.05\t/usr/bin/python3 -u /usr/local/lib/python3.10/dist-packages/ray/autoscaler/_private/monitor.py --log...\n",
            "7396\t0.05\t/usr/bin/python3 -u /usr/local/lib/python3.10/dist-packages/ray/_private/log_monitor.py --logs-dir=/...\n",
            "Refer to the documentation on how to address the out of memory issue: https://docs.ray.io/en/latest/ray-core/scheduling/ray-oom-prevention.html. Consider provisioning more memory on this node or reducing task parallelism by requesting more CPUs per task. Set max_restarts and max_task_retries to enable retry when the task crashes due to OOM. To adjust the kill threshold, set the environment variable `RAY_memory_usage_threshold` when starting Ray. To disable worker killing, set the environment variable `RAY_memory_monitor_refresh_ms` to zero.\n",
            "ERROR:flwr:Task was killed due to the node running low on memory.\n",
            "Memory on the node (IP: 172.28.0.12, ID: c2dcb6bf35075c91dfa0f56f6f8627dd5ad73f9b0be5a8a3a8f6346e) where the task (actor ID: 40358b6fdbf5c76b0542dd6701000000, name=DefaultActor.__init__, pid=7483, memory used=3.00GB) was running was 12.06GB / 12.67GB (0.951626), which exceeds the memory usage threshold of 0.95. Ray killed this worker (ID: 9707fb008e9c5fae11d3052290f3e3f45e72ea7186ed8e9a5bbc52f9) because it was the most recently scheduled task; to see more information about memory usage on this node, use `ray logs raylet.out -ip 172.28.0.12`. To see the logs of the worker, use `ray logs worker-9707fb008e9c5fae11d3052290f3e3f45e72ea7186ed8e9a5bbc52f9*out -ip 172.28.0.12. Top 10 memory users:\n",
            "PID\tMEM(GB)\tCOMMAND\n",
            "290\t6.03\t/usr/bin/python3 -m colab_kernel_launcher -f /root/.local/share/jupyter/runtime/kernel-f367c128-48cf...\n",
            "7483\t3.00\tray::DefaultActor.run\n",
            "1233\t0.51\tnode /datalab/web/pyright/pyright-langserver.js --stdio --cancellationReceive=file:fec837d25211a3cb2...\n",
            "106\t0.08\t/usr/bin/python3 /usr/local/bin/jupyter-notebook --debug --transport=\"ipc\" --ip=172.28.0.12 --Notebo...\n",
            "7394\t0.06\t/usr/bin/python3 -u /usr/local/lib/python3.10/dist-packages/ray/dashboard/agent.py --node-ip-address...\n",
            "7328\t0.06\t/usr/bin/python3 /usr/local/lib/python3.10/dist-packages/ray/dashboard/dashboard.py --host=127.0.0.1...\n",
            "7412\t0.05\tray::IDLE\n",
            "7413\t0.05\tray::IDLE\n",
            "7327\t0.05\t/usr/bin/python3 -u /usr/local/lib/python3.10/dist-packages/ray/autoscaler/_private/monitor.py --log...\n",
            "7396\t0.05\t/usr/bin/python3 -u /usr/local/lib/python3.10/dist-packages/ray/_private/log_monitor.py --logs-dir=/...\n",
            "Refer to the documentation on how to address the out of memory issue: https://docs.ray.io/en/latest/ray-core/scheduling/ray-oom-prevention.html. Consider provisioning more memory on this node or reducing task parallelism by requesting more CPUs per task. Set max_restarts and max_task_retries to enable retry when the task crashes due to OOM. To adjust the kill threshold, set the environment variable `RAY_memory_usage_threshold` when starting Ray. To disable worker killing, set the environment variable `RAY_memory_monitor_refresh_ms` to zero.\n",
            "ERROR flwr 2024-01-18 01:21:28,017 | ray_client_proxy.py:145 | Traceback (most recent call last):\n",
            "  File \"/usr/local/lib/python3.10/dist-packages/flwr/simulation/ray_transport/ray_client_proxy.py\", line 138, in _submit_job\n",
            "    res = self.actor_pool.get_client_result(self.cid, timeout)\n",
            "  File \"/usr/local/lib/python3.10/dist-packages/flwr/simulation/ray_transport/ray_actor.py\", line 414, in get_client_result\n",
            "    return self._fetch_future_result(cid)\n",
            "  File \"/usr/local/lib/python3.10/dist-packages/flwr/simulation/ray_transport/ray_actor.py\", line 300, in _fetch_future_result\n",
            "    res_cid, res = ray.get(future)  # type: (str, ClientRes)\n",
            "  File \"/usr/local/lib/python3.10/dist-packages/ray/_private/auto_init_hook.py\", line 24, in auto_init_wrapper\n",
            "    return fn(*args, **kwargs)\n",
            "  File \"/usr/local/lib/python3.10/dist-packages/ray/_private/client_mode_hook.py\", line 103, in wrapper\n",
            "    return func(*args, **kwargs)\n",
            "  File \"/usr/local/lib/python3.10/dist-packages/ray/_private/worker.py\", line 2526, in get\n",
            "    raise value\n",
            "ray.exceptions.OutOfMemoryError: Task was killed due to the node running low on memory.\n",
            "Memory on the node (IP: 172.28.0.12, ID: c2dcb6bf35075c91dfa0f56f6f8627dd5ad73f9b0be5a8a3a8f6346e) where the task (actor ID: 40358b6fdbf5c76b0542dd6701000000, name=DefaultActor.__init__, pid=7483, memory used=3.00GB) was running was 12.06GB / 12.67GB (0.951626), which exceeds the memory usage threshold of 0.95. Ray killed this worker (ID: 9707fb008e9c5fae11d3052290f3e3f45e72ea7186ed8e9a5bbc52f9) because it was the most recently scheduled task; to see more information about memory usage on this node, use `ray logs raylet.out -ip 172.28.0.12`. To see the logs of the worker, use `ray logs worker-9707fb008e9c5fae11d3052290f3e3f45e72ea7186ed8e9a5bbc52f9*out -ip 172.28.0.12. Top 10 memory users:\n",
            "PID\tMEM(GB)\tCOMMAND\n",
            "290\t6.03\t/usr/bin/python3 -m colab_kernel_launcher -f /root/.local/share/jupyter/runtime/kernel-f367c128-48cf...\n",
            "7483\t3.00\tray::DefaultActor.run\n",
            "1233\t0.51\tnode /datalab/web/pyright/pyright-langserver.js --stdio --cancellationReceive=file:fec837d25211a3cb2...\n",
            "106\t0.08\t/usr/bin/python3 /usr/local/bin/jupyter-notebook --debug --transport=\"ipc\" --ip=172.28.0.12 --Notebo...\n",
            "7394\t0.06\t/usr/bin/python3 -u /usr/local/lib/python3.10/dist-packages/ray/dashboard/agent.py --node-ip-address...\n",
            "7328\t0.06\t/usr/bin/python3 /usr/local/lib/python3.10/dist-packages/ray/dashboard/dashboard.py --host=127.0.0.1...\n",
            "7412\t0.05\tray::IDLE\n",
            "7413\t0.05\tray::IDLE\n",
            "7327\t0.05\t/usr/bin/python3 -u /usr/local/lib/python3.10/dist-packages/ray/autoscaler/_private/monitor.py --log...\n",
            "7396\t0.05\t/usr/bin/python3 -u /usr/local/lib/python3.10/dist-packages/ray/_private/log_monitor.py --logs-dir=/...\n",
            "Refer to the documentation on how to address the out of memory issue: https://docs.ray.io/en/latest/ray-core/scheduling/ray-oom-prevention.html. Consider provisioning more memory on this node or reducing task parallelism by requesting more CPUs per task. Set max_restarts and max_task_retries to enable retry when the task crashes due to OOM. To adjust the kill threshold, set the environment variable `RAY_memory_usage_threshold` when starting Ray. To disable worker killing, set the environment variable `RAY_memory_monitor_refresh_ms` to zero.\n",
            "\n",
            "ERROR:flwr:Traceback (most recent call last):\n",
            "  File \"/usr/local/lib/python3.10/dist-packages/flwr/simulation/ray_transport/ray_client_proxy.py\", line 138, in _submit_job\n",
            "    res = self.actor_pool.get_client_result(self.cid, timeout)\n",
            "  File \"/usr/local/lib/python3.10/dist-packages/flwr/simulation/ray_transport/ray_actor.py\", line 414, in get_client_result\n",
            "    return self._fetch_future_result(cid)\n",
            "  File \"/usr/local/lib/python3.10/dist-packages/flwr/simulation/ray_transport/ray_actor.py\", line 300, in _fetch_future_result\n",
            "    res_cid, res = ray.get(future)  # type: (str, ClientRes)\n",
            "  File \"/usr/local/lib/python3.10/dist-packages/ray/_private/auto_init_hook.py\", line 24, in auto_init_wrapper\n",
            "    return fn(*args, **kwargs)\n",
            "  File \"/usr/local/lib/python3.10/dist-packages/ray/_private/client_mode_hook.py\", line 103, in wrapper\n",
            "    return func(*args, **kwargs)\n",
            "  File \"/usr/local/lib/python3.10/dist-packages/ray/_private/worker.py\", line 2526, in get\n",
            "    raise value\n",
            "ray.exceptions.OutOfMemoryError: Task was killed due to the node running low on memory.\n",
            "Memory on the node (IP: 172.28.0.12, ID: c2dcb6bf35075c91dfa0f56f6f8627dd5ad73f9b0be5a8a3a8f6346e) where the task (actor ID: 40358b6fdbf5c76b0542dd6701000000, name=DefaultActor.__init__, pid=7483, memory used=3.00GB) was running was 12.06GB / 12.67GB (0.951626), which exceeds the memory usage threshold of 0.95. Ray killed this worker (ID: 9707fb008e9c5fae11d3052290f3e3f45e72ea7186ed8e9a5bbc52f9) because it was the most recently scheduled task; to see more information about memory usage on this node, use `ray logs raylet.out -ip 172.28.0.12`. To see the logs of the worker, use `ray logs worker-9707fb008e9c5fae11d3052290f3e3f45e72ea7186ed8e9a5bbc52f9*out -ip 172.28.0.12. Top 10 memory users:\n",
            "PID\tMEM(GB)\tCOMMAND\n",
            "290\t6.03\t/usr/bin/python3 -m colab_kernel_launcher -f /root/.local/share/jupyter/runtime/kernel-f367c128-48cf...\n",
            "7483\t3.00\tray::DefaultActor.run\n",
            "1233\t0.51\tnode /datalab/web/pyright/pyright-langserver.js --stdio --cancellationReceive=file:fec837d25211a3cb2...\n",
            "106\t0.08\t/usr/bin/python3 /usr/local/bin/jupyter-notebook --debug --transport=\"ipc\" --ip=172.28.0.12 --Notebo...\n",
            "7394\t0.06\t/usr/bin/python3 -u /usr/local/lib/python3.10/dist-packages/ray/dashboard/agent.py --node-ip-address...\n",
            "7328\t0.06\t/usr/bin/python3 /usr/local/lib/python3.10/dist-packages/ray/dashboard/dashboard.py --host=127.0.0.1...\n",
            "7412\t0.05\tray::IDLE\n",
            "7413\t0.05\tray::IDLE\n",
            "7327\t0.05\t/usr/bin/python3 -u /usr/local/lib/python3.10/dist-packages/ray/autoscaler/_private/monitor.py --log...\n",
            "7396\t0.05\t/usr/bin/python3 -u /usr/local/lib/python3.10/dist-packages/ray/_private/log_monitor.py --logs-dir=/...\n",
            "Refer to the documentation on how to address the out of memory issue: https://docs.ray.io/en/latest/ray-core/scheduling/ray-oom-prevention.html. Consider provisioning more memory on this node or reducing task parallelism by requesting more CPUs per task. Set max_restarts and max_task_retries to enable retry when the task crashes due to OOM. To adjust the kill threshold, set the environment variable `RAY_memory_usage_threshold` when starting Ray. To disable worker killing, set the environment variable `RAY_memory_monitor_refresh_ms` to zero.\n",
            "\n",
            "ERROR flwr 2024-01-18 01:21:28,023 | ray_client_proxy.py:146 | Task was killed due to the node running low on memory.\n",
            "Memory on the node (IP: 172.28.0.12, ID: c2dcb6bf35075c91dfa0f56f6f8627dd5ad73f9b0be5a8a3a8f6346e) where the task (actor ID: 40358b6fdbf5c76b0542dd6701000000, name=DefaultActor.__init__, pid=7483, memory used=3.00GB) was running was 12.06GB / 12.67GB (0.951626), which exceeds the memory usage threshold of 0.95. Ray killed this worker (ID: 9707fb008e9c5fae11d3052290f3e3f45e72ea7186ed8e9a5bbc52f9) because it was the most recently scheduled task; to see more information about memory usage on this node, use `ray logs raylet.out -ip 172.28.0.12`. To see the logs of the worker, use `ray logs worker-9707fb008e9c5fae11d3052290f3e3f45e72ea7186ed8e9a5bbc52f9*out -ip 172.28.0.12. Top 10 memory users:\n",
            "PID\tMEM(GB)\tCOMMAND\n",
            "290\t6.03\t/usr/bin/python3 -m colab_kernel_launcher -f /root/.local/share/jupyter/runtime/kernel-f367c128-48cf...\n",
            "7483\t3.00\tray::DefaultActor.run\n",
            "1233\t0.51\tnode /datalab/web/pyright/pyright-langserver.js --stdio --cancellationReceive=file:fec837d25211a3cb2...\n",
            "106\t0.08\t/usr/bin/python3 /usr/local/bin/jupyter-notebook --debug --transport=\"ipc\" --ip=172.28.0.12 --Notebo...\n",
            "7394\t0.06\t/usr/bin/python3 -u /usr/local/lib/python3.10/dist-packages/ray/dashboard/agent.py --node-ip-address...\n",
            "7328\t0.06\t/usr/bin/python3 /usr/local/lib/python3.10/dist-packages/ray/dashboard/dashboard.py --host=127.0.0.1...\n",
            "7412\t0.05\tray::IDLE\n",
            "7413\t0.05\tray::IDLE\n",
            "7327\t0.05\t/usr/bin/python3 -u /usr/local/lib/python3.10/dist-packages/ray/autoscaler/_private/monitor.py --log...\n",
            "7396\t0.05\t/usr/bin/python3 -u /usr/local/lib/python3.10/dist-packages/ray/_private/log_monitor.py --logs-dir=/...\n",
            "Refer to the documentation on how to address the out of memory issue: https://docs.ray.io/en/latest/ray-core/scheduling/ray-oom-prevention.html. Consider provisioning more memory on this node or reducing task parallelism by requesting more CPUs per task. Set max_restarts and max_task_retries to enable retry when the task crashes due to OOM. To adjust the kill threshold, set the environment variable `RAY_memory_usage_threshold` when starting Ray. To disable worker killing, set the environment variable `RAY_memory_monitor_refresh_ms` to zero.\n",
            "ERROR:flwr:Task was killed due to the node running low on memory.\n",
            "Memory on the node (IP: 172.28.0.12, ID: c2dcb6bf35075c91dfa0f56f6f8627dd5ad73f9b0be5a8a3a8f6346e) where the task (actor ID: 40358b6fdbf5c76b0542dd6701000000, name=DefaultActor.__init__, pid=7483, memory used=3.00GB) was running was 12.06GB / 12.67GB (0.951626), which exceeds the memory usage threshold of 0.95. Ray killed this worker (ID: 9707fb008e9c5fae11d3052290f3e3f45e72ea7186ed8e9a5bbc52f9) because it was the most recently scheduled task; to see more information about memory usage on this node, use `ray logs raylet.out -ip 172.28.0.12`. To see the logs of the worker, use `ray logs worker-9707fb008e9c5fae11d3052290f3e3f45e72ea7186ed8e9a5bbc52f9*out -ip 172.28.0.12. Top 10 memory users:\n",
            "PID\tMEM(GB)\tCOMMAND\n",
            "290\t6.03\t/usr/bin/python3 -m colab_kernel_launcher -f /root/.local/share/jupyter/runtime/kernel-f367c128-48cf...\n",
            "7483\t3.00\tray::DefaultActor.run\n",
            "1233\t0.51\tnode /datalab/web/pyright/pyright-langserver.js --stdio --cancellationReceive=file:fec837d25211a3cb2...\n",
            "106\t0.08\t/usr/bin/python3 /usr/local/bin/jupyter-notebook --debug --transport=\"ipc\" --ip=172.28.0.12 --Notebo...\n",
            "7394\t0.06\t/usr/bin/python3 -u /usr/local/lib/python3.10/dist-packages/ray/dashboard/agent.py --node-ip-address...\n",
            "7328\t0.06\t/usr/bin/python3 /usr/local/lib/python3.10/dist-packages/ray/dashboard/dashboard.py --host=127.0.0.1...\n",
            "7412\t0.05\tray::IDLE\n",
            "7413\t0.05\tray::IDLE\n",
            "7327\t0.05\t/usr/bin/python3 -u /usr/local/lib/python3.10/dist-packages/ray/autoscaler/_private/monitor.py --log...\n",
            "7396\t0.05\t/usr/bin/python3 -u /usr/local/lib/python3.10/dist-packages/ray/_private/log_monitor.py --logs-dir=/...\n",
            "Refer to the documentation on how to address the out of memory issue: https://docs.ray.io/en/latest/ray-core/scheduling/ray-oom-prevention.html. Consider provisioning more memory on this node or reducing task parallelism by requesting more CPUs per task. Set max_restarts and max_task_retries to enable retry when the task crashes due to OOM. To adjust the kill threshold, set the environment variable `RAY_memory_usage_threshold` when starting Ray. To disable worker killing, set the environment variable `RAY_memory_monitor_refresh_ms` to zero.\n",
            "DEBUG flwr 2024-01-18 01:21:28,029 | server.py:187 | evaluate_round 1 received 0 results and 2 failures\n",
            "DEBUG:flwr:evaluate_round 1 received 0 results and 2 failures\n",
            "DEBUG flwr 2024-01-18 01:21:28,031 | server.py:222 | fit_round 2: strategy sampled 2 clients (out of 2)\n",
            "DEBUG:flwr:fit_round 2: strategy sampled 2 clients (out of 2)\n",
            "ERROR flwr 2024-01-18 01:21:31,887 | ray_client_proxy.py:145 | Traceback (most recent call last):\n",
            "  File \"/usr/local/lib/python3.10/dist-packages/flwr/simulation/ray_transport/ray_client_proxy.py\", line 138, in _submit_job\n",
            "    res = self.actor_pool.get_client_result(self.cid, timeout)\n",
            "  File \"/usr/local/lib/python3.10/dist-packages/flwr/simulation/ray_transport/ray_actor.py\", line 414, in get_client_result\n",
            "    return self._fetch_future_result(cid)\n",
            "  File \"/usr/local/lib/python3.10/dist-packages/flwr/simulation/ray_transport/ray_actor.py\", line 300, in _fetch_future_result\n",
            "    res_cid, res = ray.get(future)  # type: (str, ClientRes)\n",
            "  File \"/usr/local/lib/python3.10/dist-packages/ray/_private/auto_init_hook.py\", line 24, in auto_init_wrapper\n",
            "    return fn(*args, **kwargs)\n",
            "  File \"/usr/local/lib/python3.10/dist-packages/ray/_private/client_mode_hook.py\", line 103, in wrapper\n",
            "    return func(*args, **kwargs)\n",
            "  File \"/usr/local/lib/python3.10/dist-packages/ray/_private/worker.py\", line 2526, in get\n",
            "    raise value\n",
            "ray.exceptions.OutOfMemoryError: Task was killed due to the node running low on memory.\n",
            "Memory on the node (IP: 172.28.0.12, ID: c2dcb6bf35075c91dfa0f56f6f8627dd5ad73f9b0be5a8a3a8f6346e) where the task (actor ID: 40358b6fdbf5c76b0542dd6701000000, name=DefaultActor.__init__, pid=7483, memory used=3.00GB) was running was 12.06GB / 12.67GB (0.951626), which exceeds the memory usage threshold of 0.95. Ray killed this worker (ID: 9707fb008e9c5fae11d3052290f3e3f45e72ea7186ed8e9a5bbc52f9) because it was the most recently scheduled task; to see more information about memory usage on this node, use `ray logs raylet.out -ip 172.28.0.12`. To see the logs of the worker, use `ray logs worker-9707fb008e9c5fae11d3052290f3e3f45e72ea7186ed8e9a5bbc52f9*out -ip 172.28.0.12. Top 10 memory users:\n",
            "PID\tMEM(GB)\tCOMMAND\n",
            "290\t6.03\t/usr/bin/python3 -m colab_kernel_launcher -f /root/.local/share/jupyter/runtime/kernel-f367c128-48cf...\n",
            "7483\t3.00\tray::DefaultActor.run\n",
            "1233\t0.51\tnode /datalab/web/pyright/pyright-langserver.js --stdio --cancellationReceive=file:fec837d25211a3cb2...\n",
            "106\t0.08\t/usr/bin/python3 /usr/local/bin/jupyter-notebook --debug --transport=\"ipc\" --ip=172.28.0.12 --Notebo...\n",
            "7394\t0.06\t/usr/bin/python3 -u /usr/local/lib/python3.10/dist-packages/ray/dashboard/agent.py --node-ip-address...\n",
            "7328\t0.06\t/usr/bin/python3 /usr/local/lib/python3.10/dist-packages/ray/dashboard/dashboard.py --host=127.0.0.1...\n",
            "7412\t0.05\tray::IDLE\n",
            "7413\t0.05\tray::IDLE\n",
            "7327\t0.05\t/usr/bin/python3 -u /usr/local/lib/python3.10/dist-packages/ray/autoscaler/_private/monitor.py --log...\n",
            "7396\t0.05\t/usr/bin/python3 -u /usr/local/lib/python3.10/dist-packages/ray/_private/log_monitor.py --logs-dir=/...\n",
            "Refer to the documentation on how to address the out of memory issue: https://docs.ray.io/en/latest/ray-core/scheduling/ray-oom-prevention.html. Consider provisioning more memory on this node or reducing task parallelism by requesting more CPUs per task. Set max_restarts and max_task_retries to enable retry when the task crashes due to OOM. To adjust the kill threshold, set the environment variable `RAY_memory_usage_threshold` when starting Ray. To disable worker killing, set the environment variable `RAY_memory_monitor_refresh_ms` to zero.\n",
            "\n",
            "ERROR:flwr:Traceback (most recent call last):\n",
            "  File \"/usr/local/lib/python3.10/dist-packages/flwr/simulation/ray_transport/ray_client_proxy.py\", line 138, in _submit_job\n",
            "    res = self.actor_pool.get_client_result(self.cid, timeout)\n",
            "  File \"/usr/local/lib/python3.10/dist-packages/flwr/simulation/ray_transport/ray_actor.py\", line 414, in get_client_result\n",
            "    return self._fetch_future_result(cid)\n",
            "  File \"/usr/local/lib/python3.10/dist-packages/flwr/simulation/ray_transport/ray_actor.py\", line 300, in _fetch_future_result\n",
            "    res_cid, res = ray.get(future)  # type: (str, ClientRes)\n",
            "  File \"/usr/local/lib/python3.10/dist-packages/ray/_private/auto_init_hook.py\", line 24, in auto_init_wrapper\n",
            "    return fn(*args, **kwargs)\n",
            "  File \"/usr/local/lib/python3.10/dist-packages/ray/_private/client_mode_hook.py\", line 103, in wrapper\n",
            "    return func(*args, **kwargs)\n",
            "  File \"/usr/local/lib/python3.10/dist-packages/ray/_private/worker.py\", line 2526, in get\n",
            "    raise value\n",
            "ray.exceptions.OutOfMemoryError: Task was killed due to the node running low on memory.\n",
            "Memory on the node (IP: 172.28.0.12, ID: c2dcb6bf35075c91dfa0f56f6f8627dd5ad73f9b0be5a8a3a8f6346e) where the task (actor ID: 40358b6fdbf5c76b0542dd6701000000, name=DefaultActor.__init__, pid=7483, memory used=3.00GB) was running was 12.06GB / 12.67GB (0.951626), which exceeds the memory usage threshold of 0.95. Ray killed this worker (ID: 9707fb008e9c5fae11d3052290f3e3f45e72ea7186ed8e9a5bbc52f9) because it was the most recently scheduled task; to see more information about memory usage on this node, use `ray logs raylet.out -ip 172.28.0.12`. To see the logs of the worker, use `ray logs worker-9707fb008e9c5fae11d3052290f3e3f45e72ea7186ed8e9a5bbc52f9*out -ip 172.28.0.12. Top 10 memory users:\n",
            "PID\tMEM(GB)\tCOMMAND\n",
            "290\t6.03\t/usr/bin/python3 -m colab_kernel_launcher -f /root/.local/share/jupyter/runtime/kernel-f367c128-48cf...\n",
            "7483\t3.00\tray::DefaultActor.run\n",
            "1233\t0.51\tnode /datalab/web/pyright/pyright-langserver.js --stdio --cancellationReceive=file:fec837d25211a3cb2...\n",
            "106\t0.08\t/usr/bin/python3 /usr/local/bin/jupyter-notebook --debug --transport=\"ipc\" --ip=172.28.0.12 --Notebo...\n",
            "7394\t0.06\t/usr/bin/python3 -u /usr/local/lib/python3.10/dist-packages/ray/dashboard/agent.py --node-ip-address...\n",
            "7328\t0.06\t/usr/bin/python3 /usr/local/lib/python3.10/dist-packages/ray/dashboard/dashboard.py --host=127.0.0.1...\n",
            "7412\t0.05\tray::IDLE\n",
            "7413\t0.05\tray::IDLE\n",
            "7327\t0.05\t/usr/bin/python3 -u /usr/local/lib/python3.10/dist-packages/ray/autoscaler/_private/monitor.py --log...\n",
            "7396\t0.05\t/usr/bin/python3 -u /usr/local/lib/python3.10/dist-packages/ray/_private/log_monitor.py --logs-dir=/...\n",
            "Refer to the documentation on how to address the out of memory issue: https://docs.ray.io/en/latest/ray-core/scheduling/ray-oom-prevention.html. Consider provisioning more memory on this node or reducing task parallelism by requesting more CPUs per task. Set max_restarts and max_task_retries to enable retry when the task crashes due to OOM. To adjust the kill threshold, set the environment variable `RAY_memory_usage_threshold` when starting Ray. To disable worker killing, set the environment variable `RAY_memory_monitor_refresh_ms` to zero.\n",
            "\n",
            "ERROR flwr 2024-01-18 01:21:31,892 | ray_client_proxy.py:146 | Task was killed due to the node running low on memory.\n",
            "Memory on the node (IP: 172.28.0.12, ID: c2dcb6bf35075c91dfa0f56f6f8627dd5ad73f9b0be5a8a3a8f6346e) where the task (actor ID: 40358b6fdbf5c76b0542dd6701000000, name=DefaultActor.__init__, pid=7483, memory used=3.00GB) was running was 12.06GB / 12.67GB (0.951626), which exceeds the memory usage threshold of 0.95. Ray killed this worker (ID: 9707fb008e9c5fae11d3052290f3e3f45e72ea7186ed8e9a5bbc52f9) because it was the most recently scheduled task; to see more information about memory usage on this node, use `ray logs raylet.out -ip 172.28.0.12`. To see the logs of the worker, use `ray logs worker-9707fb008e9c5fae11d3052290f3e3f45e72ea7186ed8e9a5bbc52f9*out -ip 172.28.0.12. Top 10 memory users:\n",
            "PID\tMEM(GB)\tCOMMAND\n",
            "290\t6.03\t/usr/bin/python3 -m colab_kernel_launcher -f /root/.local/share/jupyter/runtime/kernel-f367c128-48cf...\n",
            "7483\t3.00\tray::DefaultActor.run\n",
            "1233\t0.51\tnode /datalab/web/pyright/pyright-langserver.js --stdio --cancellationReceive=file:fec837d25211a3cb2...\n",
            "106\t0.08\t/usr/bin/python3 /usr/local/bin/jupyter-notebook --debug --transport=\"ipc\" --ip=172.28.0.12 --Notebo...\n",
            "7394\t0.06\t/usr/bin/python3 -u /usr/local/lib/python3.10/dist-packages/ray/dashboard/agent.py --node-ip-address...\n",
            "7328\t0.06\t/usr/bin/python3 /usr/local/lib/python3.10/dist-packages/ray/dashboard/dashboard.py --host=127.0.0.1...\n",
            "7412\t0.05\tray::IDLE\n",
            "7413\t0.05\tray::IDLE\n",
            "7327\t0.05\t/usr/bin/python3 -u /usr/local/lib/python3.10/dist-packages/ray/autoscaler/_private/monitor.py --log...\n",
            "7396\t0.05\t/usr/bin/python3 -u /usr/local/lib/python3.10/dist-packages/ray/_private/log_monitor.py --logs-dir=/...\n",
            "Refer to the documentation on how to address the out of memory issue: https://docs.ray.io/en/latest/ray-core/scheduling/ray-oom-prevention.html. Consider provisioning more memory on this node or reducing task parallelism by requesting more CPUs per task. Set max_restarts and max_task_retries to enable retry when the task crashes due to OOM. To adjust the kill threshold, set the environment variable `RAY_memory_usage_threshold` when starting Ray. To disable worker killing, set the environment variable `RAY_memory_monitor_refresh_ms` to zero.\n",
            "ERROR:flwr:Task was killed due to the node running low on memory.\n",
            "Memory on the node (IP: 172.28.0.12, ID: c2dcb6bf35075c91dfa0f56f6f8627dd5ad73f9b0be5a8a3a8f6346e) where the task (actor ID: 40358b6fdbf5c76b0542dd6701000000, name=DefaultActor.__init__, pid=7483, memory used=3.00GB) was running was 12.06GB / 12.67GB (0.951626), which exceeds the memory usage threshold of 0.95. Ray killed this worker (ID: 9707fb008e9c5fae11d3052290f3e3f45e72ea7186ed8e9a5bbc52f9) because it was the most recently scheduled task; to see more information about memory usage on this node, use `ray logs raylet.out -ip 172.28.0.12`. To see the logs of the worker, use `ray logs worker-9707fb008e9c5fae11d3052290f3e3f45e72ea7186ed8e9a5bbc52f9*out -ip 172.28.0.12. Top 10 memory users:\n",
            "PID\tMEM(GB)\tCOMMAND\n",
            "290\t6.03\t/usr/bin/python3 -m colab_kernel_launcher -f /root/.local/share/jupyter/runtime/kernel-f367c128-48cf...\n",
            "7483\t3.00\tray::DefaultActor.run\n",
            "1233\t0.51\tnode /datalab/web/pyright/pyright-langserver.js --stdio --cancellationReceive=file:fec837d25211a3cb2...\n",
            "106\t0.08\t/usr/bin/python3 /usr/local/bin/jupyter-notebook --debug --transport=\"ipc\" --ip=172.28.0.12 --Notebo...\n",
            "7394\t0.06\t/usr/bin/python3 -u /usr/local/lib/python3.10/dist-packages/ray/dashboard/agent.py --node-ip-address...\n",
            "7328\t0.06\t/usr/bin/python3 /usr/local/lib/python3.10/dist-packages/ray/dashboard/dashboard.py --host=127.0.0.1...\n",
            "7412\t0.05\tray::IDLE\n",
            "7413\t0.05\tray::IDLE\n",
            "7327\t0.05\t/usr/bin/python3 -u /usr/local/lib/python3.10/dist-packages/ray/autoscaler/_private/monitor.py --log...\n",
            "7396\t0.05\t/usr/bin/python3 -u /usr/local/lib/python3.10/dist-packages/ray/_private/log_monitor.py --logs-dir=/...\n",
            "Refer to the documentation on how to address the out of memory issue: https://docs.ray.io/en/latest/ray-core/scheduling/ray-oom-prevention.html. Consider provisioning more memory on this node or reducing task parallelism by requesting more CPUs per task. Set max_restarts and max_task_retries to enable retry when the task crashes due to OOM. To adjust the kill threshold, set the environment variable `RAY_memory_usage_threshold` when starting Ray. To disable worker killing, set the environment variable `RAY_memory_monitor_refresh_ms` to zero.\n",
            "ERROR flwr 2024-01-18 01:21:31,899 | ray_client_proxy.py:145 | Traceback (most recent call last):\n",
            "  File \"/usr/local/lib/python3.10/dist-packages/flwr/simulation/ray_transport/ray_client_proxy.py\", line 138, in _submit_job\n",
            "    res = self.actor_pool.get_client_result(self.cid, timeout)\n",
            "  File \"/usr/local/lib/python3.10/dist-packages/flwr/simulation/ray_transport/ray_actor.py\", line 414, in get_client_result\n",
            "    return self._fetch_future_result(cid)\n",
            "  File \"/usr/local/lib/python3.10/dist-packages/flwr/simulation/ray_transport/ray_actor.py\", line 300, in _fetch_future_result\n",
            "    res_cid, res = ray.get(future)  # type: (str, ClientRes)\n",
            "  File \"/usr/local/lib/python3.10/dist-packages/ray/_private/auto_init_hook.py\", line 24, in auto_init_wrapper\n",
            "    return fn(*args, **kwargs)\n",
            "  File \"/usr/local/lib/python3.10/dist-packages/ray/_private/client_mode_hook.py\", line 103, in wrapper\n",
            "    return func(*args, **kwargs)\n",
            "  File \"/usr/local/lib/python3.10/dist-packages/ray/_private/worker.py\", line 2526, in get\n",
            "    raise value\n",
            "ray.exceptions.OutOfMemoryError: Task was killed due to the node running low on memory.\n",
            "Memory on the node (IP: 172.28.0.12, ID: c2dcb6bf35075c91dfa0f56f6f8627dd5ad73f9b0be5a8a3a8f6346e) where the task (actor ID: 40358b6fdbf5c76b0542dd6701000000, name=DefaultActor.__init__, pid=7483, memory used=3.00GB) was running was 12.06GB / 12.67GB (0.951626), which exceeds the memory usage threshold of 0.95. Ray killed this worker (ID: 9707fb008e9c5fae11d3052290f3e3f45e72ea7186ed8e9a5bbc52f9) because it was the most recently scheduled task; to see more information about memory usage on this node, use `ray logs raylet.out -ip 172.28.0.12`. To see the logs of the worker, use `ray logs worker-9707fb008e9c5fae11d3052290f3e3f45e72ea7186ed8e9a5bbc52f9*out -ip 172.28.0.12. Top 10 memory users:\n",
            "PID\tMEM(GB)\tCOMMAND\n",
            "290\t6.03\t/usr/bin/python3 -m colab_kernel_launcher -f /root/.local/share/jupyter/runtime/kernel-f367c128-48cf...\n",
            "7483\t3.00\tray::DefaultActor.run\n",
            "1233\t0.51\tnode /datalab/web/pyright/pyright-langserver.js --stdio --cancellationReceive=file:fec837d25211a3cb2...\n",
            "106\t0.08\t/usr/bin/python3 /usr/local/bin/jupyter-notebook --debug --transport=\"ipc\" --ip=172.28.0.12 --Notebo...\n",
            "7394\t0.06\t/usr/bin/python3 -u /usr/local/lib/python3.10/dist-packages/ray/dashboard/agent.py --node-ip-address...\n",
            "7328\t0.06\t/usr/bin/python3 /usr/local/lib/python3.10/dist-packages/ray/dashboard/dashboard.py --host=127.0.0.1...\n",
            "7412\t0.05\tray::IDLE\n",
            "7413\t0.05\tray::IDLE\n",
            "7327\t0.05\t/usr/bin/python3 -u /usr/local/lib/python3.10/dist-packages/ray/autoscaler/_private/monitor.py --log...\n",
            "7396\t0.05\t/usr/bin/python3 -u /usr/local/lib/python3.10/dist-packages/ray/_private/log_monitor.py --logs-dir=/...\n",
            "Refer to the documentation on how to address the out of memory issue: https://docs.ray.io/en/latest/ray-core/scheduling/ray-oom-prevention.html. Consider provisioning more memory on this node or reducing task parallelism by requesting more CPUs per task. Set max_restarts and max_task_retries to enable retry when the task crashes due to OOM. To adjust the kill threshold, set the environment variable `RAY_memory_usage_threshold` when starting Ray. To disable worker killing, set the environment variable `RAY_memory_monitor_refresh_ms` to zero.\n",
            "\n",
            "ERROR:flwr:Traceback (most recent call last):\n",
            "  File \"/usr/local/lib/python3.10/dist-packages/flwr/simulation/ray_transport/ray_client_proxy.py\", line 138, in _submit_job\n",
            "    res = self.actor_pool.get_client_result(self.cid, timeout)\n",
            "  File \"/usr/local/lib/python3.10/dist-packages/flwr/simulation/ray_transport/ray_actor.py\", line 414, in get_client_result\n",
            "    return self._fetch_future_result(cid)\n",
            "  File \"/usr/local/lib/python3.10/dist-packages/flwr/simulation/ray_transport/ray_actor.py\", line 300, in _fetch_future_result\n",
            "    res_cid, res = ray.get(future)  # type: (str, ClientRes)\n",
            "  File \"/usr/local/lib/python3.10/dist-packages/ray/_private/auto_init_hook.py\", line 24, in auto_init_wrapper\n",
            "    return fn(*args, **kwargs)\n",
            "  File \"/usr/local/lib/python3.10/dist-packages/ray/_private/client_mode_hook.py\", line 103, in wrapper\n",
            "    return func(*args, **kwargs)\n",
            "  File \"/usr/local/lib/python3.10/dist-packages/ray/_private/worker.py\", line 2526, in get\n",
            "    raise value\n",
            "ray.exceptions.OutOfMemoryError: Task was killed due to the node running low on memory.\n",
            "Memory on the node (IP: 172.28.0.12, ID: c2dcb6bf35075c91dfa0f56f6f8627dd5ad73f9b0be5a8a3a8f6346e) where the task (actor ID: 40358b6fdbf5c76b0542dd6701000000, name=DefaultActor.__init__, pid=7483, memory used=3.00GB) was running was 12.06GB / 12.67GB (0.951626), which exceeds the memory usage threshold of 0.95. Ray killed this worker (ID: 9707fb008e9c5fae11d3052290f3e3f45e72ea7186ed8e9a5bbc52f9) because it was the most recently scheduled task; to see more information about memory usage on this node, use `ray logs raylet.out -ip 172.28.0.12`. To see the logs of the worker, use `ray logs worker-9707fb008e9c5fae11d3052290f3e3f45e72ea7186ed8e9a5bbc52f9*out -ip 172.28.0.12. Top 10 memory users:\n",
            "PID\tMEM(GB)\tCOMMAND\n",
            "290\t6.03\t/usr/bin/python3 -m colab_kernel_launcher -f /root/.local/share/jupyter/runtime/kernel-f367c128-48cf...\n",
            "7483\t3.00\tray::DefaultActor.run\n",
            "1233\t0.51\tnode /datalab/web/pyright/pyright-langserver.js --stdio --cancellationReceive=file:fec837d25211a3cb2...\n",
            "106\t0.08\t/usr/bin/python3 /usr/local/bin/jupyter-notebook --debug --transport=\"ipc\" --ip=172.28.0.12 --Notebo...\n",
            "7394\t0.06\t/usr/bin/python3 -u /usr/local/lib/python3.10/dist-packages/ray/dashboard/agent.py --node-ip-address...\n",
            "7328\t0.06\t/usr/bin/python3 /usr/local/lib/python3.10/dist-packages/ray/dashboard/dashboard.py --host=127.0.0.1...\n",
            "7412\t0.05\tray::IDLE\n",
            "7413\t0.05\tray::IDLE\n",
            "7327\t0.05\t/usr/bin/python3 -u /usr/local/lib/python3.10/dist-packages/ray/autoscaler/_private/monitor.py --log...\n",
            "7396\t0.05\t/usr/bin/python3 -u /usr/local/lib/python3.10/dist-packages/ray/_private/log_monitor.py --logs-dir=/...\n",
            "Refer to the documentation on how to address the out of memory issue: https://docs.ray.io/en/latest/ray-core/scheduling/ray-oom-prevention.html. Consider provisioning more memory on this node or reducing task parallelism by requesting more CPUs per task. Set max_restarts and max_task_retries to enable retry when the task crashes due to OOM. To adjust the kill threshold, set the environment variable `RAY_memory_usage_threshold` when starting Ray. To disable worker killing, set the environment variable `RAY_memory_monitor_refresh_ms` to zero.\n",
            "\n",
            "ERROR flwr 2024-01-18 01:21:31,905 | ray_client_proxy.py:146 | Task was killed due to the node running low on memory.\n",
            "Memory on the node (IP: 172.28.0.12, ID: c2dcb6bf35075c91dfa0f56f6f8627dd5ad73f9b0be5a8a3a8f6346e) where the task (actor ID: 40358b6fdbf5c76b0542dd6701000000, name=DefaultActor.__init__, pid=7483, memory used=3.00GB) was running was 12.06GB / 12.67GB (0.951626), which exceeds the memory usage threshold of 0.95. Ray killed this worker (ID: 9707fb008e9c5fae11d3052290f3e3f45e72ea7186ed8e9a5bbc52f9) because it was the most recently scheduled task; to see more information about memory usage on this node, use `ray logs raylet.out -ip 172.28.0.12`. To see the logs of the worker, use `ray logs worker-9707fb008e9c5fae11d3052290f3e3f45e72ea7186ed8e9a5bbc52f9*out -ip 172.28.0.12. Top 10 memory users:\n",
            "PID\tMEM(GB)\tCOMMAND\n",
            "290\t6.03\t/usr/bin/python3 -m colab_kernel_launcher -f /root/.local/share/jupyter/runtime/kernel-f367c128-48cf...\n",
            "7483\t3.00\tray::DefaultActor.run\n",
            "1233\t0.51\tnode /datalab/web/pyright/pyright-langserver.js --stdio --cancellationReceive=file:fec837d25211a3cb2...\n",
            "106\t0.08\t/usr/bin/python3 /usr/local/bin/jupyter-notebook --debug --transport=\"ipc\" --ip=172.28.0.12 --Notebo...\n",
            "7394\t0.06\t/usr/bin/python3 -u /usr/local/lib/python3.10/dist-packages/ray/dashboard/agent.py --node-ip-address...\n",
            "7328\t0.06\t/usr/bin/python3 /usr/local/lib/python3.10/dist-packages/ray/dashboard/dashboard.py --host=127.0.0.1...\n",
            "7412\t0.05\tray::IDLE\n",
            "7413\t0.05\tray::IDLE\n",
            "7327\t0.05\t/usr/bin/python3 -u /usr/local/lib/python3.10/dist-packages/ray/autoscaler/_private/monitor.py --log...\n",
            "7396\t0.05\t/usr/bin/python3 -u /usr/local/lib/python3.10/dist-packages/ray/_private/log_monitor.py --logs-dir=/...\n",
            "Refer to the documentation on how to address the out of memory issue: https://docs.ray.io/en/latest/ray-core/scheduling/ray-oom-prevention.html. Consider provisioning more memory on this node or reducing task parallelism by requesting more CPUs per task. Set max_restarts and max_task_retries to enable retry when the task crashes due to OOM. To adjust the kill threshold, set the environment variable `RAY_memory_usage_threshold` when starting Ray. To disable worker killing, set the environment variable `RAY_memory_monitor_refresh_ms` to zero.\n",
            "ERROR:flwr:Task was killed due to the node running low on memory.\n",
            "Memory on the node (IP: 172.28.0.12, ID: c2dcb6bf35075c91dfa0f56f6f8627dd5ad73f9b0be5a8a3a8f6346e) where the task (actor ID: 40358b6fdbf5c76b0542dd6701000000, name=DefaultActor.__init__, pid=7483, memory used=3.00GB) was running was 12.06GB / 12.67GB (0.951626), which exceeds the memory usage threshold of 0.95. Ray killed this worker (ID: 9707fb008e9c5fae11d3052290f3e3f45e72ea7186ed8e9a5bbc52f9) because it was the most recently scheduled task; to see more information about memory usage on this node, use `ray logs raylet.out -ip 172.28.0.12`. To see the logs of the worker, use `ray logs worker-9707fb008e9c5fae11d3052290f3e3f45e72ea7186ed8e9a5bbc52f9*out -ip 172.28.0.12. Top 10 memory users:\n",
            "PID\tMEM(GB)\tCOMMAND\n",
            "290\t6.03\t/usr/bin/python3 -m colab_kernel_launcher -f /root/.local/share/jupyter/runtime/kernel-f367c128-48cf...\n",
            "7483\t3.00\tray::DefaultActor.run\n",
            "1233\t0.51\tnode /datalab/web/pyright/pyright-langserver.js --stdio --cancellationReceive=file:fec837d25211a3cb2...\n",
            "106\t0.08\t/usr/bin/python3 /usr/local/bin/jupyter-notebook --debug --transport=\"ipc\" --ip=172.28.0.12 --Notebo...\n",
            "7394\t0.06\t/usr/bin/python3 -u /usr/local/lib/python3.10/dist-packages/ray/dashboard/agent.py --node-ip-address...\n",
            "7328\t0.06\t/usr/bin/python3 /usr/local/lib/python3.10/dist-packages/ray/dashboard/dashboard.py --host=127.0.0.1...\n",
            "7412\t0.05\tray::IDLE\n",
            "7413\t0.05\tray::IDLE\n",
            "7327\t0.05\t/usr/bin/python3 -u /usr/local/lib/python3.10/dist-packages/ray/autoscaler/_private/monitor.py --log...\n",
            "7396\t0.05\t/usr/bin/python3 -u /usr/local/lib/python3.10/dist-packages/ray/_private/log_monitor.py --logs-dir=/...\n",
            "Refer to the documentation on how to address the out of memory issue: https://docs.ray.io/en/latest/ray-core/scheduling/ray-oom-prevention.html. Consider provisioning more memory on this node or reducing task parallelism by requesting more CPUs per task. Set max_restarts and max_task_retries to enable retry when the task crashes due to OOM. To adjust the kill threshold, set the environment variable `RAY_memory_usage_threshold` when starting Ray. To disable worker killing, set the environment variable `RAY_memory_monitor_refresh_ms` to zero.\n",
            "DEBUG flwr 2024-01-18 01:21:31,915 | server.py:236 | fit_round 2 received 0 results and 2 failures\n",
            "DEBUG:flwr:fit_round 2 received 0 results and 2 failures\n",
            "DEBUG flwr 2024-01-18 01:21:31,917 | server.py:173 | evaluate_round 2: strategy sampled 2 clients (out of 2)\n",
            "DEBUG:flwr:evaluate_round 2: strategy sampled 2 clients (out of 2)\n",
            "ERROR flwr 2024-01-18 01:21:33,614 | ray_client_proxy.py:145 | Traceback (most recent call last):\n",
            "  File \"/usr/local/lib/python3.10/dist-packages/flwr/simulation/ray_transport/ray_client_proxy.py\", line 138, in _submit_job\n",
            "    res = self.actor_pool.get_client_result(self.cid, timeout)\n",
            "  File \"/usr/local/lib/python3.10/dist-packages/flwr/simulation/ray_transport/ray_actor.py\", line 414, in get_client_result\n",
            "    return self._fetch_future_result(cid)\n",
            "  File \"/usr/local/lib/python3.10/dist-packages/flwr/simulation/ray_transport/ray_actor.py\", line 300, in _fetch_future_result\n",
            "    res_cid, res = ray.get(future)  # type: (str, ClientRes)\n",
            "  File \"/usr/local/lib/python3.10/dist-packages/ray/_private/auto_init_hook.py\", line 24, in auto_init_wrapper\n",
            "    return fn(*args, **kwargs)\n",
            "  File \"/usr/local/lib/python3.10/dist-packages/ray/_private/client_mode_hook.py\", line 103, in wrapper\n",
            "    return func(*args, **kwargs)\n",
            "  File \"/usr/local/lib/python3.10/dist-packages/ray/_private/worker.py\", line 2526, in get\n",
            "    raise value\n",
            "ray.exceptions.OutOfMemoryError: Task was killed due to the node running low on memory.\n",
            "Memory on the node (IP: 172.28.0.12, ID: c2dcb6bf35075c91dfa0f56f6f8627dd5ad73f9b0be5a8a3a8f6346e) where the task (actor ID: 40358b6fdbf5c76b0542dd6701000000, name=DefaultActor.__init__, pid=7483, memory used=3.00GB) was running was 12.06GB / 12.67GB (0.951626), which exceeds the memory usage threshold of 0.95. Ray killed this worker (ID: 9707fb008e9c5fae11d3052290f3e3f45e72ea7186ed8e9a5bbc52f9) because it was the most recently scheduled task; to see more information about memory usage on this node, use `ray logs raylet.out -ip 172.28.0.12`. To see the logs of the worker, use `ray logs worker-9707fb008e9c5fae11d3052290f3e3f45e72ea7186ed8e9a5bbc52f9*out -ip 172.28.0.12. Top 10 memory users:\n",
            "PID\tMEM(GB)\tCOMMAND\n",
            "290\t6.03\t/usr/bin/python3 -m colab_kernel_launcher -f /root/.local/share/jupyter/runtime/kernel-f367c128-48cf...\n",
            "7483\t3.00\tray::DefaultActor.run\n",
            "1233\t0.51\tnode /datalab/web/pyright/pyright-langserver.js --stdio --cancellationReceive=file:fec837d25211a3cb2...\n",
            "106\t0.08\t/usr/bin/python3 /usr/local/bin/jupyter-notebook --debug --transport=\"ipc\" --ip=172.28.0.12 --Notebo...\n",
            "7394\t0.06\t/usr/bin/python3 -u /usr/local/lib/python3.10/dist-packages/ray/dashboard/agent.py --node-ip-address...\n",
            "7328\t0.06\t/usr/bin/python3 /usr/local/lib/python3.10/dist-packages/ray/dashboard/dashboard.py --host=127.0.0.1...\n",
            "7412\t0.05\tray::IDLE\n",
            "7413\t0.05\tray::IDLE\n",
            "7327\t0.05\t/usr/bin/python3 -u /usr/local/lib/python3.10/dist-packages/ray/autoscaler/_private/monitor.py --log...\n",
            "7396\t0.05\t/usr/bin/python3 -u /usr/local/lib/python3.10/dist-packages/ray/_private/log_monitor.py --logs-dir=/...\n",
            "Refer to the documentation on how to address the out of memory issue: https://docs.ray.io/en/latest/ray-core/scheduling/ray-oom-prevention.html. Consider provisioning more memory on this node or reducing task parallelism by requesting more CPUs per task. Set max_restarts and max_task_retries to enable retry when the task crashes due to OOM. To adjust the kill threshold, set the environment variable `RAY_memory_usage_threshold` when starting Ray. To disable worker killing, set the environment variable `RAY_memory_monitor_refresh_ms` to zero.\n",
            "\n",
            "ERROR:flwr:Traceback (most recent call last):\n",
            "  File \"/usr/local/lib/python3.10/dist-packages/flwr/simulation/ray_transport/ray_client_proxy.py\", line 138, in _submit_job\n",
            "    res = self.actor_pool.get_client_result(self.cid, timeout)\n",
            "  File \"/usr/local/lib/python3.10/dist-packages/flwr/simulation/ray_transport/ray_actor.py\", line 414, in get_client_result\n",
            "    return self._fetch_future_result(cid)\n",
            "  File \"/usr/local/lib/python3.10/dist-packages/flwr/simulation/ray_transport/ray_actor.py\", line 300, in _fetch_future_result\n",
            "    res_cid, res = ray.get(future)  # type: (str, ClientRes)\n",
            "  File \"/usr/local/lib/python3.10/dist-packages/ray/_private/auto_init_hook.py\", line 24, in auto_init_wrapper\n",
            "    return fn(*args, **kwargs)\n",
            "  File \"/usr/local/lib/python3.10/dist-packages/ray/_private/client_mode_hook.py\", line 103, in wrapper\n",
            "    return func(*args, **kwargs)\n",
            "  File \"/usr/local/lib/python3.10/dist-packages/ray/_private/worker.py\", line 2526, in get\n",
            "    raise value\n",
            "ray.exceptions.OutOfMemoryError: Task was killed due to the node running low on memory.\n",
            "Memory on the node (IP: 172.28.0.12, ID: c2dcb6bf35075c91dfa0f56f6f8627dd5ad73f9b0be5a8a3a8f6346e) where the task (actor ID: 40358b6fdbf5c76b0542dd6701000000, name=DefaultActor.__init__, pid=7483, memory used=3.00GB) was running was 12.06GB / 12.67GB (0.951626), which exceeds the memory usage threshold of 0.95. Ray killed this worker (ID: 9707fb008e9c5fae11d3052290f3e3f45e72ea7186ed8e9a5bbc52f9) because it was the most recently scheduled task; to see more information about memory usage on this node, use `ray logs raylet.out -ip 172.28.0.12`. To see the logs of the worker, use `ray logs worker-9707fb008e9c5fae11d3052290f3e3f45e72ea7186ed8e9a5bbc52f9*out -ip 172.28.0.12. Top 10 memory users:\n",
            "PID\tMEM(GB)\tCOMMAND\n",
            "290\t6.03\t/usr/bin/python3 -m colab_kernel_launcher -f /root/.local/share/jupyter/runtime/kernel-f367c128-48cf...\n",
            "7483\t3.00\tray::DefaultActor.run\n",
            "1233\t0.51\tnode /datalab/web/pyright/pyright-langserver.js --stdio --cancellationReceive=file:fec837d25211a3cb2...\n",
            "106\t0.08\t/usr/bin/python3 /usr/local/bin/jupyter-notebook --debug --transport=\"ipc\" --ip=172.28.0.12 --Notebo...\n",
            "7394\t0.06\t/usr/bin/python3 -u /usr/local/lib/python3.10/dist-packages/ray/dashboard/agent.py --node-ip-address...\n",
            "7328\t0.06\t/usr/bin/python3 /usr/local/lib/python3.10/dist-packages/ray/dashboard/dashboard.py --host=127.0.0.1...\n",
            "7412\t0.05\tray::IDLE\n",
            "7413\t0.05\tray::IDLE\n",
            "7327\t0.05\t/usr/bin/python3 -u /usr/local/lib/python3.10/dist-packages/ray/autoscaler/_private/monitor.py --log...\n",
            "7396\t0.05\t/usr/bin/python3 -u /usr/local/lib/python3.10/dist-packages/ray/_private/log_monitor.py --logs-dir=/...\n",
            "Refer to the documentation on how to address the out of memory issue: https://docs.ray.io/en/latest/ray-core/scheduling/ray-oom-prevention.html. Consider provisioning more memory on this node or reducing task parallelism by requesting more CPUs per task. Set max_restarts and max_task_retries to enable retry when the task crashes due to OOM. To adjust the kill threshold, set the environment variable `RAY_memory_usage_threshold` when starting Ray. To disable worker killing, set the environment variable `RAY_memory_monitor_refresh_ms` to zero.\n",
            "\n",
            "ERROR flwr 2024-01-18 01:21:34,027 | ray_client_proxy.py:146 | Task was killed due to the node running low on memory.\n",
            "Memory on the node (IP: 172.28.0.12, ID: c2dcb6bf35075c91dfa0f56f6f8627dd5ad73f9b0be5a8a3a8f6346e) where the task (actor ID: 40358b6fdbf5c76b0542dd6701000000, name=DefaultActor.__init__, pid=7483, memory used=3.00GB) was running was 12.06GB / 12.67GB (0.951626), which exceeds the memory usage threshold of 0.95. Ray killed this worker (ID: 9707fb008e9c5fae11d3052290f3e3f45e72ea7186ed8e9a5bbc52f9) because it was the most recently scheduled task; to see more information about memory usage on this node, use `ray logs raylet.out -ip 172.28.0.12`. To see the logs of the worker, use `ray logs worker-9707fb008e9c5fae11d3052290f3e3f45e72ea7186ed8e9a5bbc52f9*out -ip 172.28.0.12. Top 10 memory users:\n",
            "PID\tMEM(GB)\tCOMMAND\n",
            "290\t6.03\t/usr/bin/python3 -m colab_kernel_launcher -f /root/.local/share/jupyter/runtime/kernel-f367c128-48cf...\n",
            "7483\t3.00\tray::DefaultActor.run\n",
            "1233\t0.51\tnode /datalab/web/pyright/pyright-langserver.js --stdio --cancellationReceive=file:fec837d25211a3cb2...\n",
            "106\t0.08\t/usr/bin/python3 /usr/local/bin/jupyter-notebook --debug --transport=\"ipc\" --ip=172.28.0.12 --Notebo...\n",
            "7394\t0.06\t/usr/bin/python3 -u /usr/local/lib/python3.10/dist-packages/ray/dashboard/agent.py --node-ip-address...\n",
            "7328\t0.06\t/usr/bin/python3 /usr/local/lib/python3.10/dist-packages/ray/dashboard/dashboard.py --host=127.0.0.1...\n",
            "7412\t0.05\tray::IDLE\n",
            "7413\t0.05\tray::IDLE\n",
            "7327\t0.05\t/usr/bin/python3 -u /usr/local/lib/python3.10/dist-packages/ray/autoscaler/_private/monitor.py --log...\n",
            "7396\t0.05\t/usr/bin/python3 -u /usr/local/lib/python3.10/dist-packages/ray/_private/log_monitor.py --logs-dir=/...\n",
            "Refer to the documentation on how to address the out of memory issue: https://docs.ray.io/en/latest/ray-core/scheduling/ray-oom-prevention.html. Consider provisioning more memory on this node or reducing task parallelism by requesting more CPUs per task. Set max_restarts and max_task_retries to enable retry when the task crashes due to OOM. To adjust the kill threshold, set the environment variable `RAY_memory_usage_threshold` when starting Ray. To disable worker killing, set the environment variable `RAY_memory_monitor_refresh_ms` to zero.\n",
            "ERROR:flwr:Task was killed due to the node running low on memory.\n",
            "Memory on the node (IP: 172.28.0.12, ID: c2dcb6bf35075c91dfa0f56f6f8627dd5ad73f9b0be5a8a3a8f6346e) where the task (actor ID: 40358b6fdbf5c76b0542dd6701000000, name=DefaultActor.__init__, pid=7483, memory used=3.00GB) was running was 12.06GB / 12.67GB (0.951626), which exceeds the memory usage threshold of 0.95. Ray killed this worker (ID: 9707fb008e9c5fae11d3052290f3e3f45e72ea7186ed8e9a5bbc52f9) because it was the most recently scheduled task; to see more information about memory usage on this node, use `ray logs raylet.out -ip 172.28.0.12`. To see the logs of the worker, use `ray logs worker-9707fb008e9c5fae11d3052290f3e3f45e72ea7186ed8e9a5bbc52f9*out -ip 172.28.0.12. Top 10 memory users:\n",
            "PID\tMEM(GB)\tCOMMAND\n",
            "290\t6.03\t/usr/bin/python3 -m colab_kernel_launcher -f /root/.local/share/jupyter/runtime/kernel-f367c128-48cf...\n",
            "7483\t3.00\tray::DefaultActor.run\n",
            "1233\t0.51\tnode /datalab/web/pyright/pyright-langserver.js --stdio --cancellationReceive=file:fec837d25211a3cb2...\n",
            "106\t0.08\t/usr/bin/python3 /usr/local/bin/jupyter-notebook --debug --transport=\"ipc\" --ip=172.28.0.12 --Notebo...\n",
            "7394\t0.06\t/usr/bin/python3 -u /usr/local/lib/python3.10/dist-packages/ray/dashboard/agent.py --node-ip-address...\n",
            "7328\t0.06\t/usr/bin/python3 /usr/local/lib/python3.10/dist-packages/ray/dashboard/dashboard.py --host=127.0.0.1...\n",
            "7412\t0.05\tray::IDLE\n",
            "7413\t0.05\tray::IDLE\n",
            "7327\t0.05\t/usr/bin/python3 -u /usr/local/lib/python3.10/dist-packages/ray/autoscaler/_private/monitor.py --log...\n",
            "7396\t0.05\t/usr/bin/python3 -u /usr/local/lib/python3.10/dist-packages/ray/_private/log_monitor.py --logs-dir=/...\n",
            "Refer to the documentation on how to address the out of memory issue: https://docs.ray.io/en/latest/ray-core/scheduling/ray-oom-prevention.html. Consider provisioning more memory on this node or reducing task parallelism by requesting more CPUs per task. Set max_restarts and max_task_retries to enable retry when the task crashes due to OOM. To adjust the kill threshold, set the environment variable `RAY_memory_usage_threshold` when starting Ray. To disable worker killing, set the environment variable `RAY_memory_monitor_refresh_ms` to zero.\n",
            "ERROR flwr 2024-01-18 01:21:35,085 | ray_client_proxy.py:145 | Traceback (most recent call last):\n",
            "  File \"/usr/local/lib/python3.10/dist-packages/flwr/simulation/ray_transport/ray_client_proxy.py\", line 138, in _submit_job\n",
            "    res = self.actor_pool.get_client_result(self.cid, timeout)\n",
            "  File \"/usr/local/lib/python3.10/dist-packages/flwr/simulation/ray_transport/ray_actor.py\", line 414, in get_client_result\n",
            "    return self._fetch_future_result(cid)\n",
            "  File \"/usr/local/lib/python3.10/dist-packages/flwr/simulation/ray_transport/ray_actor.py\", line 300, in _fetch_future_result\n",
            "    res_cid, res = ray.get(future)  # type: (str, ClientRes)\n",
            "  File \"/usr/local/lib/python3.10/dist-packages/ray/_private/auto_init_hook.py\", line 24, in auto_init_wrapper\n",
            "    return fn(*args, **kwargs)\n",
            "  File \"/usr/local/lib/python3.10/dist-packages/ray/_private/client_mode_hook.py\", line 103, in wrapper\n",
            "    return func(*args, **kwargs)\n",
            "  File \"/usr/local/lib/python3.10/dist-packages/ray/_private/worker.py\", line 2526, in get\n",
            "    raise value\n",
            "ray.exceptions.OutOfMemoryError: Task was killed due to the node running low on memory.\n",
            "Memory on the node (IP: 172.28.0.12, ID: c2dcb6bf35075c91dfa0f56f6f8627dd5ad73f9b0be5a8a3a8f6346e) where the task (actor ID: 40358b6fdbf5c76b0542dd6701000000, name=DefaultActor.__init__, pid=7483, memory used=3.00GB) was running was 12.06GB / 12.67GB (0.951626), which exceeds the memory usage threshold of 0.95. Ray killed this worker (ID: 9707fb008e9c5fae11d3052290f3e3f45e72ea7186ed8e9a5bbc52f9) because it was the most recently scheduled task; to see more information about memory usage on this node, use `ray logs raylet.out -ip 172.28.0.12`. To see the logs of the worker, use `ray logs worker-9707fb008e9c5fae11d3052290f3e3f45e72ea7186ed8e9a5bbc52f9*out -ip 172.28.0.12. Top 10 memory users:\n",
            "PID\tMEM(GB)\tCOMMAND\n",
            "290\t6.03\t/usr/bin/python3 -m colab_kernel_launcher -f /root/.local/share/jupyter/runtime/kernel-f367c128-48cf...\n",
            "7483\t3.00\tray::DefaultActor.run\n",
            "1233\t0.51\tnode /datalab/web/pyright/pyright-langserver.js --stdio --cancellationReceive=file:fec837d25211a3cb2...\n",
            "106\t0.08\t/usr/bin/python3 /usr/local/bin/jupyter-notebook --debug --transport=\"ipc\" --ip=172.28.0.12 --Notebo...\n",
            "7394\t0.06\t/usr/bin/python3 -u /usr/local/lib/python3.10/dist-packages/ray/dashboard/agent.py --node-ip-address...\n",
            "7328\t0.06\t/usr/bin/python3 /usr/local/lib/python3.10/dist-packages/ray/dashboard/dashboard.py --host=127.0.0.1...\n",
            "7412\t0.05\tray::IDLE\n",
            "7413\t0.05\tray::IDLE\n",
            "7327\t0.05\t/usr/bin/python3 -u /usr/local/lib/python3.10/dist-packages/ray/autoscaler/_private/monitor.py --log...\n",
            "7396\t0.05\t/usr/bin/python3 -u /usr/local/lib/python3.10/dist-packages/ray/_private/log_monitor.py --logs-dir=/...\n",
            "Refer to the documentation on how to address the out of memory issue: https://docs.ray.io/en/latest/ray-core/scheduling/ray-oom-prevention.html. Consider provisioning more memory on this node or reducing task parallelism by requesting more CPUs per task. Set max_restarts and max_task_retries to enable retry when the task crashes due to OOM. To adjust the kill threshold, set the environment variable `RAY_memory_usage_threshold` when starting Ray. To disable worker killing, set the environment variable `RAY_memory_monitor_refresh_ms` to zero.\n",
            "\n",
            "ERROR:flwr:Traceback (most recent call last):\n",
            "  File \"/usr/local/lib/python3.10/dist-packages/flwr/simulation/ray_transport/ray_client_proxy.py\", line 138, in _submit_job\n",
            "    res = self.actor_pool.get_client_result(self.cid, timeout)\n",
            "  File \"/usr/local/lib/python3.10/dist-packages/flwr/simulation/ray_transport/ray_actor.py\", line 414, in get_client_result\n",
            "    return self._fetch_future_result(cid)\n",
            "  File \"/usr/local/lib/python3.10/dist-packages/flwr/simulation/ray_transport/ray_actor.py\", line 300, in _fetch_future_result\n",
            "    res_cid, res = ray.get(future)  # type: (str, ClientRes)\n",
            "  File \"/usr/local/lib/python3.10/dist-packages/ray/_private/auto_init_hook.py\", line 24, in auto_init_wrapper\n",
            "    return fn(*args, **kwargs)\n",
            "  File \"/usr/local/lib/python3.10/dist-packages/ray/_private/client_mode_hook.py\", line 103, in wrapper\n",
            "    return func(*args, **kwargs)\n",
            "  File \"/usr/local/lib/python3.10/dist-packages/ray/_private/worker.py\", line 2526, in get\n",
            "    raise value\n",
            "ray.exceptions.OutOfMemoryError: Task was killed due to the node running low on memory.\n",
            "Memory on the node (IP: 172.28.0.12, ID: c2dcb6bf35075c91dfa0f56f6f8627dd5ad73f9b0be5a8a3a8f6346e) where the task (actor ID: 40358b6fdbf5c76b0542dd6701000000, name=DefaultActor.__init__, pid=7483, memory used=3.00GB) was running was 12.06GB / 12.67GB (0.951626), which exceeds the memory usage threshold of 0.95. Ray killed this worker (ID: 9707fb008e9c5fae11d3052290f3e3f45e72ea7186ed8e9a5bbc52f9) because it was the most recently scheduled task; to see more information about memory usage on this node, use `ray logs raylet.out -ip 172.28.0.12`. To see the logs of the worker, use `ray logs worker-9707fb008e9c5fae11d3052290f3e3f45e72ea7186ed8e9a5bbc52f9*out -ip 172.28.0.12. Top 10 memory users:\n",
            "PID\tMEM(GB)\tCOMMAND\n",
            "290\t6.03\t/usr/bin/python3 -m colab_kernel_launcher -f /root/.local/share/jupyter/runtime/kernel-f367c128-48cf...\n",
            "7483\t3.00\tray::DefaultActor.run\n",
            "1233\t0.51\tnode /datalab/web/pyright/pyright-langserver.js --stdio --cancellationReceive=file:fec837d25211a3cb2...\n",
            "106\t0.08\t/usr/bin/python3 /usr/local/bin/jupyter-notebook --debug --transport=\"ipc\" --ip=172.28.0.12 --Notebo...\n",
            "7394\t0.06\t/usr/bin/python3 -u /usr/local/lib/python3.10/dist-packages/ray/dashboard/agent.py --node-ip-address...\n",
            "7328\t0.06\t/usr/bin/python3 /usr/local/lib/python3.10/dist-packages/ray/dashboard/dashboard.py --host=127.0.0.1...\n",
            "7412\t0.05\tray::IDLE\n",
            "7413\t0.05\tray::IDLE\n",
            "7327\t0.05\t/usr/bin/python3 -u /usr/local/lib/python3.10/dist-packages/ray/autoscaler/_private/monitor.py --log...\n",
            "7396\t0.05\t/usr/bin/python3 -u /usr/local/lib/python3.10/dist-packages/ray/_private/log_monitor.py --logs-dir=/...\n",
            "Refer to the documentation on how to address the out of memory issue: https://docs.ray.io/en/latest/ray-core/scheduling/ray-oom-prevention.html. Consider provisioning more memory on this node or reducing task parallelism by requesting more CPUs per task. Set max_restarts and max_task_retries to enable retry when the task crashes due to OOM. To adjust the kill threshold, set the environment variable `RAY_memory_usage_threshold` when starting Ray. To disable worker killing, set the environment variable `RAY_memory_monitor_refresh_ms` to zero.\n",
            "\n",
            "ERROR flwr 2024-01-18 01:21:35,089 | ray_client_proxy.py:146 | Task was killed due to the node running low on memory.\n",
            "Memory on the node (IP: 172.28.0.12, ID: c2dcb6bf35075c91dfa0f56f6f8627dd5ad73f9b0be5a8a3a8f6346e) where the task (actor ID: 40358b6fdbf5c76b0542dd6701000000, name=DefaultActor.__init__, pid=7483, memory used=3.00GB) was running was 12.06GB / 12.67GB (0.951626), which exceeds the memory usage threshold of 0.95. Ray killed this worker (ID: 9707fb008e9c5fae11d3052290f3e3f45e72ea7186ed8e9a5bbc52f9) because it was the most recently scheduled task; to see more information about memory usage on this node, use `ray logs raylet.out -ip 172.28.0.12`. To see the logs of the worker, use `ray logs worker-9707fb008e9c5fae11d3052290f3e3f45e72ea7186ed8e9a5bbc52f9*out -ip 172.28.0.12. Top 10 memory users:\n",
            "PID\tMEM(GB)\tCOMMAND\n",
            "290\t6.03\t/usr/bin/python3 -m colab_kernel_launcher -f /root/.local/share/jupyter/runtime/kernel-f367c128-48cf...\n",
            "7483\t3.00\tray::DefaultActor.run\n",
            "1233\t0.51\tnode /datalab/web/pyright/pyright-langserver.js --stdio --cancellationReceive=file:fec837d25211a3cb2...\n",
            "106\t0.08\t/usr/bin/python3 /usr/local/bin/jupyter-notebook --debug --transport=\"ipc\" --ip=172.28.0.12 --Notebo...\n",
            "7394\t0.06\t/usr/bin/python3 -u /usr/local/lib/python3.10/dist-packages/ray/dashboard/agent.py --node-ip-address...\n",
            "7328\t0.06\t/usr/bin/python3 /usr/local/lib/python3.10/dist-packages/ray/dashboard/dashboard.py --host=127.0.0.1...\n",
            "7412\t0.05\tray::IDLE\n",
            "7413\t0.05\tray::IDLE\n",
            "7327\t0.05\t/usr/bin/python3 -u /usr/local/lib/python3.10/dist-packages/ray/autoscaler/_private/monitor.py --log...\n",
            "7396\t0.05\t/usr/bin/python3 -u /usr/local/lib/python3.10/dist-packages/ray/_private/log_monitor.py --logs-dir=/...\n",
            "Refer to the documentation on how to address the out of memory issue: https://docs.ray.io/en/latest/ray-core/scheduling/ray-oom-prevention.html. Consider provisioning more memory on this node or reducing task parallelism by requesting more CPUs per task. Set max_restarts and max_task_retries to enable retry when the task crashes due to OOM. To adjust the kill threshold, set the environment variable `RAY_memory_usage_threshold` when starting Ray. To disable worker killing, set the environment variable `RAY_memory_monitor_refresh_ms` to zero.\n",
            "ERROR:flwr:Task was killed due to the node running low on memory.\n",
            "Memory on the node (IP: 172.28.0.12, ID: c2dcb6bf35075c91dfa0f56f6f8627dd5ad73f9b0be5a8a3a8f6346e) where the task (actor ID: 40358b6fdbf5c76b0542dd6701000000, name=DefaultActor.__init__, pid=7483, memory used=3.00GB) was running was 12.06GB / 12.67GB (0.951626), which exceeds the memory usage threshold of 0.95. Ray killed this worker (ID: 9707fb008e9c5fae11d3052290f3e3f45e72ea7186ed8e9a5bbc52f9) because it was the most recently scheduled task; to see more information about memory usage on this node, use `ray logs raylet.out -ip 172.28.0.12`. To see the logs of the worker, use `ray logs worker-9707fb008e9c5fae11d3052290f3e3f45e72ea7186ed8e9a5bbc52f9*out -ip 172.28.0.12. Top 10 memory users:\n",
            "PID\tMEM(GB)\tCOMMAND\n",
            "290\t6.03\t/usr/bin/python3 -m colab_kernel_launcher -f /root/.local/share/jupyter/runtime/kernel-f367c128-48cf...\n",
            "7483\t3.00\tray::DefaultActor.run\n",
            "1233\t0.51\tnode /datalab/web/pyright/pyright-langserver.js --stdio --cancellationReceive=file:fec837d25211a3cb2...\n",
            "106\t0.08\t/usr/bin/python3 /usr/local/bin/jupyter-notebook --debug --transport=\"ipc\" --ip=172.28.0.12 --Notebo...\n",
            "7394\t0.06\t/usr/bin/python3 -u /usr/local/lib/python3.10/dist-packages/ray/dashboard/agent.py --node-ip-address...\n",
            "7328\t0.06\t/usr/bin/python3 /usr/local/lib/python3.10/dist-packages/ray/dashboard/dashboard.py --host=127.0.0.1...\n",
            "7412\t0.05\tray::IDLE\n",
            "7413\t0.05\tray::IDLE\n",
            "7327\t0.05\t/usr/bin/python3 -u /usr/local/lib/python3.10/dist-packages/ray/autoscaler/_private/monitor.py --log...\n",
            "7396\t0.05\t/usr/bin/python3 -u /usr/local/lib/python3.10/dist-packages/ray/_private/log_monitor.py --logs-dir=/...\n",
            "Refer to the documentation on how to address the out of memory issue: https://docs.ray.io/en/latest/ray-core/scheduling/ray-oom-prevention.html. Consider provisioning more memory on this node or reducing task parallelism by requesting more CPUs per task. Set max_restarts and max_task_retries to enable retry when the task crashes due to OOM. To adjust the kill threshold, set the environment variable `RAY_memory_usage_threshold` when starting Ray. To disable worker killing, set the environment variable `RAY_memory_monitor_refresh_ms` to zero.\n",
            "DEBUG flwr 2024-01-18 01:21:35,096 | server.py:187 | evaluate_round 2 received 0 results and 2 failures\n",
            "DEBUG:flwr:evaluate_round 2 received 0 results and 2 failures\n",
            "INFO flwr 2024-01-18 01:21:35,098 | server.py:153 | FL finished in 16.933326463000185\n",
            "INFO:flwr:FL finished in 16.933326463000185\n",
            "INFO flwr 2024-01-18 01:21:35,100 | app.py:226 | app_fit: losses_distributed []\n",
            "INFO:flwr:app_fit: losses_distributed []\n",
            "INFO flwr 2024-01-18 01:21:35,104 | app.py:227 | app_fit: metrics_distributed_fit {}\n",
            "INFO:flwr:app_fit: metrics_distributed_fit {}\n",
            "INFO flwr 2024-01-18 01:21:35,105 | app.py:228 | app_fit: metrics_distributed {}\n",
            "INFO:flwr:app_fit: metrics_distributed {}\n",
            "INFO flwr 2024-01-18 01:21:35,110 | app.py:229 | app_fit: losses_centralized []\n",
            "INFO:flwr:app_fit: losses_centralized []\n",
            "INFO flwr 2024-01-18 01:21:35,111 | app.py:230 | app_fit: metrics_centralized {}\n",
            "INFO:flwr:app_fit: metrics_centralized {}\n"
          ]
        },
        {
          "output_type": "execute_result",
          "data": {
            "text/plain": []
          },
          "metadata": {},
          "execution_count": 36
        }
      ],
      "source": [
        "# Start simulation\n",
        "fl.simulation.start_simulation(\n",
        "    client_fn=client_fn,\n",
        "    num_clients=n_clients,\n",
        "    config=fl.server.ServerConfig(num_rounds=2),\n",
        "    strategy=strategy,\n",
        "    client_resources=client_resources,\n",
        "    ray_init_args={\"num_cpus\": 8, \"num_gpus\": 1},\n",
        ")"
      ]
    },
    {
      "cell_type": "code",
      "source": [],
      "metadata": {
        "id": "tE5Yat3o-CEf"
      },
      "execution_count": 30,
      "outputs": []
    }
  ],
  "metadata": {
    "kernelspec": {
      "display_name": "Python 3",
      "name": "python3"
    },
    "language_info": {
      "codemirror_mode": {
        "name": "ipython",
        "version": 3
      },
      "file_extension": ".py",
      "mimetype": "text/x-python",
      "name": "python",
      "nbconvert_exporter": "python",
      "pygments_lexer": "ipython3",
      "version": "3.8.10"
    },
    "colab": {
      "provenance": [],
      "gpuType": "T4"
    },
    "accelerator": "GPU"
  },
  "nbformat": 4,
  "nbformat_minor": 0
}